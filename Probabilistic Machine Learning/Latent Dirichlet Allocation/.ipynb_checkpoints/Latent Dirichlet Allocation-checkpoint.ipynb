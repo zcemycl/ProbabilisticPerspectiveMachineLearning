{
 "cells": [
  {
   "cell_type": "code",
   "execution_count": 1,
   "metadata": {},
   "outputs": [],
   "source": [
    "import scipy.io as sio\n",
    "import numpy as np\n",
    "import matplotlib.pyplot as plt\n",
    "from scipy.stats import norm\n",
    "import math\n",
    "mat_contents = sio.loadmat('kos_doc_data.mat')\n",
    "mat_contents2= sio.loadmat('store_b.mat')"
   ]
  },
  {
   "cell_type": "code",
   "execution_count": 2,
   "metadata": {},
   "outputs": [
    {
     "name": "stdout",
     "output_type": "stream",
     "text": [
      "Min ID of documents in A: 1\n",
      "Max ID of documents in A: 2000\n",
      "No. of distinct words from A: 6906\n",
      "No. of distinct word occurences in As doc: 29\n",
      "Min ID of documents in B: 2001\n",
      "Max ID of documents in B: 3430\n",
      "No. of distinct words from B: 6906\n",
      "No. of distinct word occurences in Bs doc: 43\n",
      "No. of distinct words frBom V: 6906\n"
     ]
    }
   ],
   "source": [
    "A = mat_contents['A'] # train\n",
    "B = mat_contents['B'] # test\n",
    "V = mat_contents['V'] # vocabulary list\n",
    "\n",
    "print('Min ID of documents in A: '+str(A[:,0].min()))\n",
    "print('Max ID of documents in A: '+str(A[:,0].max()))\n",
    "print('No. of distinct words from A: '+str(A[:,1].max()))\n",
    "print('No. of distinct word occurences in As doc: '+str(A[:,2].max()))\n",
    "\n",
    "print('Min ID of documents in B: '+str(B[:,0].min()))\n",
    "print('Max ID of documents in B: '+str(B[:,0].max()))\n",
    "print('No. of distinct words from B: '+str(B[:,1].max()))\n",
    "print('No. of distinct word occurences in Bs doc: '+str(B[:,2].max()))\n",
    "\n",
    "print('No. of distinct words frBom V: '+str(len(V)))"
   ]
  },
  {
   "cell_type": "code",
   "execution_count": null,
   "metadata": {},
   "outputs": [],
   "source": []
  }
 ],
 "metadata": {
  "kernelspec": {
   "display_name": "Python 3",
   "language": "python",
   "name": "python3"
  },
  "language_info": {
   "codemirror_mode": {
    "name": "ipython",
    "version": 3
   },
   "file_extension": ".py",
   "mimetype": "text/x-python",
   "name": "python",
   "nbconvert_exporter": "python",
   "pygments_lexer": "ipython3",
   "version": "3.7.4"
  }
 },
 "nbformat": 4,
 "nbformat_minor": 2
}
