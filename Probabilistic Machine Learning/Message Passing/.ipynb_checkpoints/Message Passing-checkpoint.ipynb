{
 "cells": [
  {
   "cell_type": "code",
   "execution_count": 1,
   "metadata": {},
   "outputs": [],
   "source": [
    "import scipy.io as sio\n",
    "import numpy as np\n",
    "import matplotlib.pyplot as plt\n",
    "import math\n",
    "mat_contents = sio.loadmat('tennis_data.mat')\n",
    "G = mat_contents['G']\n",
    "namelist = []\n",
    "for i in range(len(mat_contents['W'])):\n",
    "    namelist.append(mat_contents['W'][i][0][0])\n",
    "W = np.array(namelist)"
   ]
  },
  {
   "cell_type": "code",
   "execution_count": 2,
   "metadata": {},
   "outputs": [],
   "source": [
    "pv=.9; M=len(W); N=len(G)\n",
    "Ms = np.nan*np.ones((M,1))\n",
    "Ps = np.nan*np.ones((M,1))\n",
    "\n",
    "Mgs = np.zeros((N,2))\n",
    "Pgs = np.zeros((N,2))\n",
    "\n",
    "Msg = np.nan*np.ones((N,2))\n",
    "Psg = np.nan*np.ones((N,2))"
   ]
  },
  {
   "cell_type": "code",
   "execution_count": 32,
   "metadata": {},
   "outputs": [],
   "source": [
    "for i in range(100):\n",
    "    for p in range(M):\n",
    "        Ps[p] = 1/pv+np.sum(Pgs[G==p+1])\n",
    "        Ms[p] = np.sum(Pgs[G==p+1]*Mgs[G==p+1])/Ps[p]\n",
    "        \n",
    "    Psg = Ps[G-1].squeeze() - Pgs\n",
    "    Msg = ((Ps[G-1]*Ms[G-1]).squeeze()-Pgs*Mgs)/Psg\n",
    "    \n",
    "    vgt = 1+np.sum(1/Psg,axis=1)\n",
    "    mgt = Msg[:,0]-Msg[:,1]\n",
    "    \n",
    "    Mt = mgt+np.sqrt(vgt)\n",
    "    break"
   ]
  },
  {
   "cell_type": "code",
   "execution_count": 33,
   "metadata": {},
   "outputs": [
    {
     "data": {
      "text/plain": [
       "array([0., 0., 0., ..., 0., 0., 0.])"
      ]
     },
     "execution_count": 33,
     "metadata": {},
     "output_type": "execute_result"
    }
   ],
   "source": [
    "mgt"
   ]
  },
  {
   "cell_type": "code",
   "execution_count": 35,
   "metadata": {},
   "outputs": [
    {
     "data": {
      "text/plain": [
       "1.0"
      ]
     },
     "execution_count": 35,
     "metadata": {},
     "output_type": "execute_result"
    }
   ],
   "source": [
    "np.sqrt(1)"
   ]
  },
  {
   "cell_type": "code",
   "execution_count": null,
   "metadata": {},
   "outputs": [],
   "source": []
  }
 ],
 "metadata": {
  "kernelspec": {
   "display_name": "Python 3",
   "language": "python",
   "name": "python3"
  },
  "language_info": {
   "codemirror_mode": {
    "name": "ipython",
    "version": 3
   },
   "file_extension": ".py",
   "mimetype": "text/x-python",
   "name": "python",
   "nbconvert_exporter": "python",
   "pygments_lexer": "ipython3",
   "version": "3.7.4"
  }
 },
 "nbformat": 4,
 "nbformat_minor": 2
}
