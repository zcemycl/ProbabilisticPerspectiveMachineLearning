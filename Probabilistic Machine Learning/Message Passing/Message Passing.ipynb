{
 "cells": [
  {
   "cell_type": "code",
   "execution_count": 1,
   "metadata": {},
   "outputs": [],
   "source": [
    "import scipy.io as sio\n",
    "import numpy as np\n",
    "import matplotlib.pyplot as plt\n",
    "import math\n",
    "mat_contents = sio.loadmat('tennis_data.mat')\n",
    "G = mat_contents['G']\n",
    "namelist = []\n",
    "for i in range(len(mat_contents['W'])):\n",
    "    namelist.append(mat_contents['W'][i][0][0])\n",
    "W = np.array(namelist)"
   ]
  },
  {
   "cell_type": "code",
   "execution_count": 2,
   "metadata": {},
   "outputs": [],
   "source": [
    "pv=.9; M=len(W); N=len(G)\n",
    "Ms = np.nan*np.ones((M,1))\n",
    "Ps = np.nan*np.ones((M,1))\n",
    "\n",
    "Mgs = np.zeros((N,2))\n",
    "Pgs = np.zeros((N,2))\n",
    "\n",
    "Msg = np.nan*np.ones((N,2))\n",
    "Psg = np.nan*np.ones((N,2))"
   ]
  },
  {
   "cell_type": "code",
   "execution_count": null,
   "metadata": {},
   "outputs": [],
   "source": [
    "for i in range()"
   ]
  }
 ],
 "metadata": {
  "kernelspec": {
   "display_name": "Python 3",
   "language": "python",
   "name": "python3"
  },
  "language_info": {
   "codemirror_mode": {
    "name": "ipython",
    "version": 3
   },
   "file_extension": ".py",
   "mimetype": "text/x-python",
   "name": "python",
   "nbconvert_exporter": "python",
   "pygments_lexer": "ipython3",
   "version": "3.7.4"
  }
 },
 "nbformat": 4,
 "nbformat_minor": 2
}
