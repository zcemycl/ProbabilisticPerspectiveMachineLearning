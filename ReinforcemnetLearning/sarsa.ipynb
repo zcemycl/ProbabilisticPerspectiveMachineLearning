{
 "cells": [
  {
   "cell_type": "markdown",
   "metadata": {},
   "source": [
    "### State–action–reward–state–action (sarsa)"
   ]
  },
  {
   "cell_type": "code",
   "execution_count": 2,
   "metadata": {},
   "outputs": [],
   "source": [
    "import numpy as np\n",
    "import matplotlib.pyplot as plt\n",
    "import math\n",
    "from IPython.display import display, clear_output\n",
    "import time\n",
    "%matplotlib inline\n",
    "%load_ext autoreload\n",
    "%autoreload 2\n",
    "%matplotlib notebook"
   ]
  },
  {
   "cell_type": "code",
   "execution_count": 3,
   "metadata": {},
   "outputs": [],
   "source": [
    "def GridLine(col,row):\n",
    "    ax = plt.gca();\n",
    "    # Major ticks\n",
    "    ax.set_xticks(np.arange(0, col, 1));\n",
    "    ax.set_yticks(np.arange(0, row, 1));\n",
    "    # Labels for major ticks\n",
    "    ax.set_xticklabels(np.arange(1, col+1, 1));\n",
    "    ax.set_yticklabels(np.arange(1, row+1, 1));\n",
    "    # Minor ticks\n",
    "    ax.set_xticks(np.arange(-.5, col, 1), minor=True);\n",
    "    ax.set_yticks(np.arange(-.5, row, 1), minor=True);\n",
    "    # Gridlines based on minor ticks\n",
    "    ax.grid(which='minor', color='w', linestyle='-', linewidth=2)\n",
    "    return ax\n",
    "aUp = 0; aDown = 1; aLeft = 2; aRight = 3;\n",
    "class World():\n",
    "    def __init__(self,mode):\n",
    "        self.mode = mode\n",
    "    def getParamSet(self):\n",
    "        if self.mode == 'small':\n",
    "            paramSet = self.getsmall()\n",
    "        elif self.mode == 'grid':\n",
    "            paramSet = self.getgrid()\n",
    "        elif self.mode == 'cliff':\n",
    "            paramSet = self.getcliff()\n",
    "        return paramSet\n",
    "    def getsmall(self):\n",
    "        paramSet = dict()\n",
    "        paramSet['rowCount'] = 4; paramSet['colCount'] = 4;\n",
    "        paramSet['obsSet'] = np.array([[1,1],[2,1],[1,2]])\n",
    "        paramSet['startState'] = np.array([0,0])\n",
    "        paramSet['goalState'] = np.array([3,3])\n",
    "        paramSet['badSet'] = np.array([])\n",
    "        paramSet['pGoodTrans'] = .8; paramSet['bias'] = .5\n",
    "        paramSet['rStep']=-1; paramSet['rGoal']=10\n",
    "        paramSet['rBad'] = -6; paramSet['gamma'] = .9\n",
    "        return paramSet\n",
    "    def getgrid(self):\n",
    "        paramSet = dict()\n",
    "        paramSet['rowCount'] = 9; paramSet['colCount'] = 12;\n",
    "        paramSet['obsSet'] = np.array([[8,6],[7,6],[6,6],\n",
    "                                      [5,6],[4,6],[3,6],\n",
    "                                      [3,7],[3,8],[3,9]])\n",
    "        paramSet['startState'] = np.array([0,1])\n",
    "        paramSet['goalState'] = np.array([7,8])\n",
    "        paramSet['badSet'] = np.array([[2,1]])\n",
    "        paramSet['pGoodTrans'] = .7; paramSet['bias'] = .5\n",
    "        paramSet['rStep']=-1; paramSet['rGoal']=10\n",
    "        paramSet['rBad'] = -6; paramSet['gamma'] = .9\n",
    "        return paramSet\n",
    "    def getcliff(self):\n",
    "        paramSet = dict()\n",
    "        paramSet['rowCount'] = 5; paramSet['colCount'] = 10;\n",
    "        paramSet['obsSet'] = np.array([[0,9],[1,9],[2,9],\n",
    "                                      [3,9],[4,9]])\n",
    "        paramSet['startState'] = np.array([4,0])\n",
    "        paramSet['goalState'] = np.array([4,8])\n",
    "        paramSet['badSet'] = np.array([[4,1],[4,2],[4,3],[4,4],\n",
    "                                      [4,5],[4,6],[4,7]])\n",
    "        paramSet['pGoodTrans'] = 1; paramSet['bias'] = 0\n",
    "        paramSet['rStep']=-1; paramSet['rGoal']=10\n",
    "        paramSet['rBad'] =-100; paramSet['gamma'] = .9\n",
    "        return paramSet\n",
    "def getDir(a,ang):\n",
    "    leftLUT = np.array([2,3,1,0])\n",
    "    rightLUT = np.array([3,2,0,1])\n",
    "    if ang == 0:\n",
    "        Dir = a\n",
    "    elif ang == -1:\n",
    "        Dir = leftLUT[a]\n",
    "    elif ang == 1:\n",
    "        Dir = rightLUT[a]\n",
    "    return Dir\n",
    "def getState(s,Dir,paramSet):\n",
    "    cLUT = np.array([0,0,-1,1])\n",
    "    rLUT = np.array([-1,1,0,0])\n",
    "    rc = np.array(np.unravel_index(s,\n",
    "                    (paramSet['rowCount'],paramSet['colCount'])))\n",
    "    rc[0] = rc[0] + rLUT[Dir]\n",
    "    rc[1] = rc[1] + cLUT[Dir]\n",
    "    \n",
    "    cond1 = np.any(rc<0)\n",
    "    cond2 = np.any(rc[0]>paramSet['rowCount']-1)\n",
    "    cond3 = np.any(rc[1]>paramSet['colCount']-1)\n",
    "    cond4 = np.any(np.sum(np.abs(\n",
    "        paramSet['obsSet']-\n",
    "        np.tile(rc,(paramSet['obsSet'].shape[0],1))),1) ==0)\n",
    "    \n",
    "    if cond1 or cond2 or cond3 or cond4:\n",
    "        sout = s\n",
    "    else:\n",
    "        sout = np.ravel_multi_index(rc,\n",
    "                        (paramSet['rowCount'],paramSet['colCount']))\n",
    "    return sout\n",
    "def initGridworld(paramSet):\n",
    "    model = dict()\n",
    "    model['stateCount'] = paramSet['colCount']*paramSet['rowCount']+1\n",
    "    model['gamma'] = paramSet['gamma']\n",
    "    model['startState'] = np.ravel_multi_index(\n",
    "                            paramSet['startState'],\n",
    "                            (paramSet['rowCount'],paramSet['colCount']))\n",
    "    model['goalState'] = np.ravel_multi_index(\n",
    "                            paramSet['goalState'],\n",
    "                            (paramSet['rowCount'],paramSet['colCount']))\n",
    "    model['R'] = np.tile(paramSet['rStep'], (model['stateCount'], 4))\n",
    "    model['R'][model['stateCount']-1,:] = 0\n",
    "    model['R'][model['goalState'],:] = paramSet['rGoal']\n",
    "    for i in range(paramSet['badSet'].shape[0]):\n",
    "        badState=np.ravel_multi_index(\n",
    "                    paramSet['badSet'][i,:],\n",
    "                    (paramSet['rowCount'],paramSet['colCount']))\n",
    "        model['R'][badState,:] = paramSet['rBad']\n",
    "    \n",
    "    model['P'] = np.zeros((model['stateCount'],model['stateCount'],4))\n",
    "    for a in range(4):\n",
    "        for s in range(model['stateCount']):\n",
    "            if s == model['stateCount']-1:\n",
    "                model['P'][s,s,a] = 1\n",
    "                continue\n",
    "            \n",
    "            rc = np.array(np.unravel_index(s,\n",
    "                    (paramSet['rowCount'],paramSet['colCount'])))\n",
    "            endSet=np.concatenate((paramSet['obsSet'],\n",
    "                               paramSet['goalState'].reshape(-1,2)))\n",
    "            cond=np.sum(np.abs(endSet-np.tile(rc,(endSet.shape[0],1))),1) \n",
    "            if np.any(cond==0):\n",
    "                model['P'][s,model['stateCount']-1,a]=1\n",
    "            else:\n",
    "                for ang in np.linspace(-1,1,3):\n",
    "                    ang = int(ang)\n",
    "                    Dir = getDir(a,ang)\n",
    "                    sout = getState(s,Dir,paramSet)\n",
    "                    if ang == 0:\n",
    "                        p= paramSet['pGoodTrans']\n",
    "                    elif ang == -1:\n",
    "                        p=(1-paramSet['pGoodTrans'])*paramSet['bias']\n",
    "                    elif ang == 1:\n",
    "                        p=(1-paramSet['pGoodTrans'])*(1-paramSet['bias'])\n",
    "                    model['P'][s,sout,a]=model['P'][s,sout,a]+p\n",
    "            \n",
    "    return model\n",
    "def plotVP(Vopt,Popt,paramSet):\n",
    "    Vopt = Vopt[:-1]\n",
    "    Popt = Popt[:-1]\n",
    "    # value plot\n",
    "    v = Vopt\n",
    "    for rc in paramSet['obsSet']:\n",
    "        tmp = np.ravel_multi_index(rc,\n",
    "                    (paramSet['rowCount'],paramSet['colCount']))\n",
    "        v[tmp] = -np.inf\n",
    "    \n",
    "    v = v.reshape((paramSet['rowCount'],paramSet['colCount']))\n",
    "    plt.imshow(v)\n",
    "    \n",
    "    # policy plot directions\n",
    "    thetaLUT = np.pi*np.array([.5,-.5,1,0])\n",
    "    for s in range(paramSet['rowCount']*paramSet['colCount']):\n",
    "        isbad = False\n",
    "        for rc in paramSet['obsSet']:\n",
    "            if s == np.ravel_multi_index(rc,\n",
    "                    (paramSet['rowCount'],paramSet['colCount'])):\n",
    "                isbad = True\n",
    "                break\n",
    "            if not isbad:\n",
    "                rc = np.array(np.unravel_index(s,\n",
    "                    (paramSet['rowCount'],paramSet['colCount'])))\n",
    "                r = rc[0]; c = rc[1]\n",
    "                ang = thetaLUT[Popt[s]]\n",
    "                plt.plot(c,r,'ko')\n",
    "                tmpx = np.array([c,c+.25*np.cos(ang)])\n",
    "                tmpy = np.array([r,r-.25*np.sin(ang)])\n",
    "                plt.plot(tmpx,tmpy,'k-')\n",
    "    \n",
    "    plt.plot(paramSet['goalState'][1],paramSet['goalState'][0],\n",
    "             'r*',markersize=15)\n",
    "    plt.plot(paramSet['startState'][1],paramSet['startState'][0],\n",
    "            'rp',markersize=15)    "
   ]
  },
  {
   "cell_type": "markdown",
   "metadata": {},
   "source": [
    "### sarsa implementation"
   ]
  },
  {
   "cell_type": "code",
   "execution_count": 21,
   "metadata": {},
   "outputs": [],
   "source": [
    "def sarsa(model,maxIter,maxeps,alpha,ep):\n",
    "    suceps = 100\n",
    "    Q = np.zeros((model['stateCount'],4))\n",
    "    al = np.zeros((int(maxeps/suceps),1))\n",
    "    accre = 0\n",
    "    for i in range(maxeps):\n",
    "        s = model['startState']\n",
    "        probability = np.random.uniform(0,1,1)\n",
    "        if probability < 1-ep:\n",
    "            ga = Q[s,:].max(); a = Q[s,:].argmax()\n",
    "        else:\n",
    "            a = np.random.randint(0,4,1)\n",
    "        \n",
    "        for j in range(maxIter):\n",
    "            accre += model['gamma']*model['R'][s,a]\n",
    "            p = 0; r = np.random.uniform(0,1,1)\n",
    "            \n",
    "            for s_ in range(model['stateCount']):\n",
    "                p += model['P'][s,s_,a]\n",
    "                if r <= p:\n",
    "                    break\n",
    "            \n",
    "            probability = np.random.uniform(0,1,1)\n",
    "            if probability < 1-ep:\n",
    "                ga_ = Q[s_,:].max(); a_ = Q[s_,:].argmax()\n",
    "            else:\n",
    "                a_ = np.random.randint(0,4,1)\n",
    "                \n",
    "            delta=model['R'][s,a]+model['gamma']*Q[s_,a_]-Q[s,a]\n",
    "            Q[s,a] = Q[s,a]+alpha*delta\n",
    "            \n",
    "            s = s_; a = a_\n",
    "            if s == model['goalState']:\n",
    "                break    \n",
    "        accre = 0\n",
    "    v = Q.max(axis=1); pi = Q.argmax(axis=1)\n",
    "    return v,pi"
   ]
  },
  {
   "cell_type": "code",
   "execution_count": 20,
   "metadata": {},
   "outputs": [
    {
     "data": {
      "text/plain": [
       "array([1])"
      ]
     },
     "execution_count": 20,
     "metadata": {},
     "output_type": "execute_result"
    }
   ],
   "source": [
    "np.random.randint(0,4,1)"
   ]
  },
  {
   "cell_type": "code",
   "execution_count": 22,
   "metadata": {},
   "outputs": [
    {
     "data": {
      "text/plain": [
       "<matplotlib.axes._subplots.AxesSubplot at 0x1ca8df25d48>"
      ]
     },
     "execution_count": 22,
     "metadata": {},
     "output_type": "execute_result"
    },
    {
     "data": {
      "image/png": "[encoded data removed]",
      "text/plain": [
       "<Figure size 432x288 with 1 Axes>"
      ]
     },
     "metadata": {
      "needs_background": "light"
     },
     "output_type": "display_data"
    }
   ],
   "source": [
    "world = World('small')\n",
    "paramSet = world.getParamSet()\n",
    "model = initGridworld(paramSet)\n",
    "v,pi = sarsa(model,1000,50000,.1,.1)\n",
    "plotVP(v,pi,paramSet)\n",
    "GridLine(paramSet['colCount'],paramSet['rowCount'])"
   ]
  },
  {
   "cell_type": "code",
   "execution_count": 23,
   "metadata": {},
   "outputs": [
    {
     "data": {
      "text/plain": [
       "<matplotlib.axes._subplots.AxesSubplot at 0x1ca914b6208>"
      ]
     },
     "execution_count": 23,
     "metadata": {},
     "output_type": "execute_result"
    },
    {
     "data": {
      "image/png": "[encoded data removed]",
      "text/plain": [
       "<Figure size 432x288 with 1 Axes>"
      ]
     },
     "metadata": {
      "needs_background": "light"
     },
     "output_type": "display_data"
    }
   ],
   "source": [
    "world = World('grid')\n",
    "paramSet = world.getParamSet()\n",
    "model = initGridworld(paramSet)\n",
    "v,pi = sarsa(model,1000,50000,.1,.1)\n",
    "plotVP(v,pi,paramSet)\n",
    "GridLine(paramSet['colCount'],paramSet['rowCount'])"
   ]
  },
  {
   "cell_type": "code",
   "execution_count": 24,
   "metadata": {},
   "outputs": [
    {
     "data": {
      "text/plain": [
       "<matplotlib.axes._subplots.AxesSubplot at 0x1ca93b50e88>"
      ]
     },
     "execution_count": 24,
     "metadata": {},
     "output_type": "execute_result"
    },
    {
     "data": {
      "image/png": "[encoded data removed]",
      "text/plain": [
       "<Figure size 432x288 with 1 Axes>"
      ]
     },
     "metadata": {
      "needs_background": "light"
     },
     "output_type": "display_data"
    }
   ],
   "source": [
    "world = World('cliff')\n",
    "paramSet = world.getParamSet()\n",
    "model = initGridworld(paramSet)\n",
    "v,pi = sarsa(model,1000,50000,.1,.1)\n",
    "plotVP(v,pi,paramSet)\n",
    "GridLine(paramSet['colCount'],paramSet['rowCount'])"
   ]
  },
  {
   "cell_type": "code",
   "execution_count": null,
   "metadata": {},
   "outputs": [],
   "source": []
  }
 ],
 "metadata": {
  "kernelspec": {
   "display_name": "Python 3",
   "language": "python",
   "name": "python3"
  },
  "language_info": {
   "codemirror_mode": {
    "name": "ipython",
    "version": 3
   },
   "file_extension": ".py",
   "mimetype": "text/x-python",
   "name": "python",
   "nbconvert_exporter": "python",
   "pygments_lexer": "ipython3",
   "version": "3.7.4"
  }
 },
 "nbformat": 4,
 "nbformat_minor": 2
}
