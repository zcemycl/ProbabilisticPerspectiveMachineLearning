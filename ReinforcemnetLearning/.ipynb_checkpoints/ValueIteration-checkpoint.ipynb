{
 "cells": [
  {
   "cell_type": "code",
   "execution_count": 1,
   "metadata": {},
   "outputs": [],
   "source": [
    "import numpy as np\n",
    "import matplotlib.pyplot as plt\n",
    "import math\n",
    "from IPython.display import display, clear_output\n",
    "import time\n",
    "%matplotlib inline\n",
    "%load_ext autoreload\n",
    "%autoreload 2\n",
    "%matplotlib notebook"
   ]
  },
  {
   "cell_type": "code",
   "execution_count": 56,
   "metadata": {},
   "outputs": [
    {
     "name": "stdout",
     "output_type": "stream",
     "text": [
      "{'rowCount': 4, 'colCount': 4, 'obsSet': array([[1, 1],\n",
      "       [2, 1],\n",
      "       [1, 2]]), 'startState': array([0, 0]), 'goalState': array([3, 3]), 'badSet': array([], dtype=float64), 'pGoodTrans': 0.8, 'bias': 0.5, 'rStep': -1, 'rGoal': 10, 'rBad': -6, 'gamma': 0.9}\n",
      "[0 0]\n"
     ]
    }
   ],
   "source": [
    "aUp = 0; aDown = 1; aLeft = 2; aRight = 3;\n",
    "class smallWorld():\n",
    "    def __init__(self):\n",
    "        paramSet = dict()\n",
    "        paramSet['rowCount'] = 4; paramSet['colCount'] = 4;\n",
    "        paramSet['obsSet'] = np.array([[1,1],[2,1],[1,2]])\n",
    "        paramSet['startState'] = np.array([0,0])\n",
    "        paramSet['goalState'] = np.array([3,3])\n",
    "        paramSet['badSet'] = np.array([])\n",
    "        paramSet['pGoodTrans'] = .8; paramSet['bias'] = .5\n",
    "        paramSet['rStep']=-1; paramSet['rGoal']=10\n",
    "        paramSet['rBad'] = -6; paramSet['gamma'] = .9\n",
    "        self.paramSet = paramSet\n",
    "# smallworld\n",
    "world = smallWorld()\n",
    "print(world.paramSet)\n",
    "print(world.paramSet.get('startState').T)"
   ]
  },
  {
   "cell_type": "code",
   "execution_count": 121,
   "metadata": {},
   "outputs": [],
   "source": [
    "def getDir(a,ang):\n",
    "    leftLUT = np.array([2,3,1,0])\n",
    "    rightLUT = np.array([3,2,0,1])\n",
    "    if ang == 0:\n",
    "        Dir = a\n",
    "    elif ang == -1:\n",
    "        Dir = leftLUT[a]\n",
    "    elif ang == 1:\n",
    "        Dir = rightLUT[a]\n",
    "    return Dir"
   ]
  },
  {
   "cell_type": "code",
   "execution_count": 147,
   "metadata": {},
   "outputs": [],
   "source": [
    "def getState(s,Dir,paramSet):\n",
    "    cLUT = np.array([0,0,-1,1])\n",
    "    rLUT = np.array([-1,1,0,0])\n",
    "    rc = np.array(np.unravel_index(s,\n",
    "                    (paramSet['colCount'],paramSet['colCount'])))\n",
    "    print('Before'+str(rc))\n",
    "    rc[0] = rc[0] + rLUT[Dir]\n",
    "    rc[1] = rc[1] + cLUT[Dir]\n",
    "    print('After'+str(rc))\n",
    "    \n",
    "    cond1 = np.any(rc<1)\n",
    "    cond2 = np.any(rc[0]>paramSet['rowCount'])\n",
    "    cond3 = np.any(rc[1]>paramSet['colCount'])\n",
    "    cond4 = np.any(np.sum(np.abs(\n",
    "        paramSet['obsSet']-np.tile(rc,(paramSet['obsSet'].shape[0],1))),1) ==0)\n",
    "    \n",
    "    if cond1 or cond2 or cond3 or cond4:\n",
    "        sout = s\n",
    "    else:\n",
    "        sout = np.ravel_multi_index(rc,\n",
    "                            (paramSet['colCount'],paramSet['colCount']))\n",
    "    return sout"
   ]
  },
  {
   "cell_type": "code",
   "execution_count": 148,
   "metadata": {
    "scrolled": true
   },
   "outputs": [
    {
     "name": "stdout",
     "output_type": "stream",
     "text": [
      "[0 0]\n",
      "Before[0 0]\n",
      "After[1 0]\n",
      "Before[0 0]\n",
      "After[0 1]\n",
      "Before[0 0]\n",
      "After[1 2]\n",
      "Before[0 1]\n",
      "After[1 1]\n",
      "Before[0 1]\n",
      "After[0 2]\n",
      "Before[0 1]\n",
      "After[1 3]\n",
      "Before[0 2]\n",
      "After[1 2]\n",
      "Before[0 2]\n",
      "After[0 3]\n",
      "Before[0 2]\n",
      "After[1 4]\n"
     ]
    },
    {
     "ename": "ValueError",
     "evalue": "invalid entry in coordinates array",
     "output_type": "error",
     "traceback": [
      "\u001b[1;31m---------------------------------------------------------------------------\u001b[0m",
      "\u001b[1;31mValueError\u001b[0m                                Traceback (most recent call last)",
      "\u001b[1;32m<ipython-input-148-c3f1551d8991>\u001b[0m in \u001b[0;36m<module>\u001b[1;34m\u001b[0m\n\u001b[0;32m     50\u001b[0m     \u001b[1;32mreturn\u001b[0m \u001b[0mmodel\u001b[0m\u001b[1;33m\u001b[0m\u001b[1;33m\u001b[0m\u001b[0m\n\u001b[0;32m     51\u001b[0m \u001b[1;33m\u001b[0m\u001b[0m\n\u001b[1;32m---> 52\u001b[1;33m \u001b[0mprint\u001b[0m\u001b[1;33m(\u001b[0m\u001b[0minitGridworld\u001b[0m\u001b[1;33m(\u001b[0m\u001b[0mworld\u001b[0m\u001b[1;33m.\u001b[0m\u001b[0mparamSet\u001b[0m\u001b[1;33m)\u001b[0m\u001b[1;33m[\u001b[0m\u001b[1;34m'P'\u001b[0m\u001b[1;33m]\u001b[0m\u001b[1;33m[\u001b[0m\u001b[1;33m:\u001b[0m\u001b[1;33m,\u001b[0m\u001b[1;33m:\u001b[0m\u001b[1;33m,\u001b[0m\u001b[1;36m1\u001b[0m\u001b[1;33m]\u001b[0m\u001b[1;33m)\u001b[0m\u001b[1;33m\u001b[0m\u001b[1;33m\u001b[0m\u001b[0m\n\u001b[0m",
      "\u001b[1;32m<ipython-input-148-c3f1551d8991>\u001b[0m in \u001b[0;36minitGridworld\u001b[1;34m(paramSet)\u001b[0m\n\u001b[0;32m     39\u001b[0m                     \u001b[0mang\u001b[0m \u001b[1;33m=\u001b[0m \u001b[0mint\u001b[0m\u001b[1;33m(\u001b[0m\u001b[0mang\u001b[0m\u001b[1;33m)\u001b[0m\u001b[1;33m\u001b[0m\u001b[1;33m\u001b[0m\u001b[0m\n\u001b[0;32m     40\u001b[0m                     \u001b[0mDir\u001b[0m \u001b[1;33m=\u001b[0m \u001b[0mgetDir\u001b[0m\u001b[1;33m(\u001b[0m\u001b[0ma\u001b[0m\u001b[1;33m,\u001b[0m\u001b[0mang\u001b[0m\u001b[1;33m)\u001b[0m\u001b[1;33m\u001b[0m\u001b[1;33m\u001b[0m\u001b[0m\n\u001b[1;32m---> 41\u001b[1;33m                     \u001b[0msout\u001b[0m \u001b[1;33m=\u001b[0m \u001b[0mgetState\u001b[0m\u001b[1;33m(\u001b[0m\u001b[0ms\u001b[0m\u001b[1;33m,\u001b[0m\u001b[0mDir\u001b[0m\u001b[1;33m,\u001b[0m\u001b[0mparamSet\u001b[0m\u001b[1;33m)\u001b[0m\u001b[1;33m\u001b[0m\u001b[1;33m\u001b[0m\u001b[0m\n\u001b[0m\u001b[0;32m     42\u001b[0m                     \u001b[1;32mif\u001b[0m \u001b[0mang\u001b[0m \u001b[1;33m==\u001b[0m \u001b[1;36m0\u001b[0m\u001b[1;33m:\u001b[0m\u001b[1;33m\u001b[0m\u001b[1;33m\u001b[0m\u001b[0m\n\u001b[0;32m     43\u001b[0m                         \u001b[0mp\u001b[0m\u001b[1;33m=\u001b[0m \u001b[0mparamSet\u001b[0m\u001b[1;33m[\u001b[0m\u001b[1;34m'pGoodTrans'\u001b[0m\u001b[1;33m]\u001b[0m\u001b[1;33m\u001b[0m\u001b[1;33m\u001b[0m\u001b[0m\n",
      "\u001b[1;32m<ipython-input-147-9505ccdd9e77>\u001b[0m in \u001b[0;36mgetState\u001b[1;34m(s, Dir, paramSet)\u001b[0m\n\u001b[0;32m     19\u001b[0m     \u001b[1;32melse\u001b[0m\u001b[1;33m:\u001b[0m\u001b[1;33m\u001b[0m\u001b[1;33m\u001b[0m\u001b[0m\n\u001b[0;32m     20\u001b[0m         sout = np.ravel_multi_index(rc,\n\u001b[1;32m---> 21\u001b[1;33m                             (paramSet['colCount'],paramSet['colCount']))\n\u001b[0m\u001b[0;32m     22\u001b[0m     \u001b[1;32mreturn\u001b[0m \u001b[0msout\u001b[0m\u001b[1;33m\u001b[0m\u001b[1;33m\u001b[0m\u001b[0m\n",
      "\u001b[1;31mValueError\u001b[0m: invalid entry in coordinates array"
     ]
    }
   ],
   "source": [
    "def initGridworld(paramSet):\n",
    "    model = dict()\n",
    "    model['stateCount'] = paramSet['colCount']*paramSet['rowCount']+1\n",
    "    model['gamma'] = paramSet['gamma']\n",
    "    print(paramSet['startState'])\n",
    "    model['startState'] = np.ravel_multi_index(\n",
    "                            paramSet['startState'],\n",
    "                            (paramSet['colCount'],paramSet['colCount']))\n",
    "    model['goalState'] = np.ravel_multi_index(\n",
    "                            paramSet['goalState'],\n",
    "                            (paramSet['colCount'],paramSet['colCount']))\n",
    "    model['R'] = np.tile(paramSet['rStep'], (model['stateCount'], 4))\n",
    "    model['R'][model['stateCount']-1,:] = 0\n",
    "    model['R'][model['goalState'],:] = paramSet['rGoal']\n",
    "    for i in range(paramSet['badSet'].shape[0]):\n",
    "        badState=np.ravel_multi_index(\n",
    "                    paramSet['badSet'][i,:],\n",
    "                    (paramSet['colCount'],paramSet['colCount']))\n",
    "        model['R'][badState,:] = paramSet['rBad']\n",
    "    \n",
    "    model['P'] = np.zeros((model['stateCount'],model['stateCount'],4))\n",
    "    for a in range(4):\n",
    "        for s in range(model['stateCount']):\n",
    "            #print(s)\n",
    "            #print(a)\n",
    "            if s == model['stateCount']-1:\n",
    "                model['P'][s,s,a] = 1\n",
    "                continue\n",
    "            \n",
    "            rc = np.array(np.unravel_index(s,\n",
    "                    (paramSet['colCount'],paramSet['colCount'])))\n",
    "            endSet=np.concatenate((paramSet['obsSet'],\n",
    "                               paramSet['goalState'].reshape(-1,2)))\n",
    "            cond=np.sum(np.abs(endSet-np.tile(rc,(endSet.shape[0],1))),1) \n",
    "            if np.any(cond==0):\n",
    "                model['P'][s,model['stateCount']-1,a]=1\n",
    "            else:\n",
    "                for ang in np.linspace(-1,1,3):\n",
    "                    ang = int(ang)\n",
    "                    Dir = getDir(a,ang)\n",
    "                    sout = getState(s,Dir,paramSet)\n",
    "                    if ang == 0:\n",
    "                        p= paramSet['pGoodTrans']\n",
    "                    elif ang == -1:\n",
    "                        p=(1-paramSet['pGoodTrans'])*paramSet['bias']\n",
    "                    elif ang == 1:\n",
    "                        p=(1-paramSet['pGoodTrans'])*(1-paramSet['bias'])\n",
    "                    model['P'][s,sout,a]=model['P'][s,sout,a]+p\n",
    "            \n",
    "    return model\n",
    "\n",
    "print(initGridworld(world.paramSet)['P'][:,:,1])"
   ]
  },
  {
   "cell_type": "code",
   "execution_count": 129,
   "metadata": {},
   "outputs": [
    {
     "name": "stdout",
     "output_type": "stream",
     "text": [
      "-1\n",
      "0\n",
      "1\n"
     ]
    }
   ],
   "source": [
    "for i in np.linspace(-1,1,3):\n",
    "    print(int(i))"
   ]
  },
  {
   "cell_type": "code",
   "execution_count": null,
   "metadata": {},
   "outputs": [],
   "source": []
  }
 ],
 "metadata": {
  "kernelspec": {
   "display_name": "Python 3",
   "language": "python",
   "name": "python3"
  },
  "language_info": {
   "codemirror_mode": {
    "name": "ipython",
    "version": 3
   },
   "file_extension": ".py",
   "mimetype": "text/x-python",
   "name": "python",
   "nbconvert_exporter": "python",
   "pygments_lexer": "ipython3",
   "version": "3.7.4"
  }
 },
 "nbformat": 4,
 "nbformat_minor": 2
}
