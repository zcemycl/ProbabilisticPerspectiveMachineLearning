{
 "cells": [
  {
   "cell_type": "code",
   "execution_count": 1,
   "metadata": {},
   "outputs": [],
   "source": [
    "import numpy as np\n",
    "import matplotlib.pyplot as plt\n",
    "import math\n",
    "from IPython.display import display, clear_output\n",
    "import time\n",
    "%matplotlib inline\n",
    "%load_ext autoreload\n",
    "%autoreload 2\n",
    "%matplotlib notebook"
   ]
  },
  {
   "cell_type": "code",
   "execution_count": 15,
   "metadata": {},
   "outputs": [
    {
     "name": "stdout",
     "output_type": "stream",
     "text": [
      "{'rowCount': 4, 'colCount': 4, 'obsSet': [[2, 2], [3, 2], [2, 3]], 'startState': [1, 1], 'goalState': [4, 4], 'badSet': [], 'pGoodTrans': 0.8, 'bias': 0.5, 'rStep': -1, 'rGoal': 10, 'rBad': -6, 'gamma': 0.9}\n"
     ]
    }
   ],
   "source": [
    "aUp = 1; aDown = 2; aLeft = 3; aRight = 4;\n",
    "# smallworld\n",
    "paramSet = dict()\n",
    "paramSet['rowCount'] = 4; paramSet['colCount'] = 4;\n",
    "paramSet['obsSet'] = [[2,2],[3,2],[2,3]]\n",
    "paramSet['startState'] = [1,1]\n",
    "paramSet['goalState'] = [4,4]\n",
    "paramSet['badSet'] = []\n",
    "paramSet['pGoodTrans'] = .8; paramSet['bias'] = .5\n",
    "paramSet['rStep']=-1; paramSet['rGoal']=10\n",
    "paramSet['rBad'] = -6; paramSet['gamma'] = .9\n",
    "print(paramSet)"
   ]
  },
  {
   "cell_type": "code",
   "execution_count": null,
   "metadata": {},
   "outputs": [],
   "source": []
  }
 ],
 "metadata": {
  "kernelspec": {
   "display_name": "Python 3",
   "language": "python",
   "name": "python3"
  },
  "language_info": {
   "codemirror_mode": {
    "name": "ipython",
    "version": 3
   },
   "file_extension": ".py",
   "mimetype": "text/x-python",
   "name": "python",
   "nbconvert_exporter": "python",
   "pygments_lexer": "ipython3",
   "version": "3.7.4"
  }
 },
 "nbformat": 4,
 "nbformat_minor": 2
}
