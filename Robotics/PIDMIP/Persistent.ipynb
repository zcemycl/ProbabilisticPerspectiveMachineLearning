{
 "cells": [
  {
   "cell_type": "code",
   "execution_count": 1,
   "metadata": {},
   "outputs": [],
   "source": [
    "import numpy as np"
   ]
  },
  {
   "cell_type": "code",
   "execution_count": 5,
   "metadata": {},
   "outputs": [
    {
     "name": "stdout",
     "output_type": "stream",
     "text": [
      "input 10.000000\n",
      "before change avg.avg=0.000000, k=1.000000\n",
      "after change avg.avg=10.000000, k=2.000000\n",
      "The output average is 10.000000\n",
      "input 2.000000\n",
      "before change avg.avg=10.000000, k=2.000000\n",
      "after change avg.avg=6.000000, k=3.000000\n",
      "The output average is 6.000000\n",
      "input 30.000000\n",
      "before change avg.avg=6.000000, k=3.000000\n",
      "after change avg.avg=14.000000, k=4.000000\n",
      "The output average is 14.000000\n",
      "input 4.000000\n",
      "before change avg.avg=14.000000, k=4.000000\n",
      "after change avg.avg=11.500000, k=5.000000\n",
      "The output average is 11.500000\n",
      "input 50.000000\n",
      "before change avg.avg=11.500000, k=5.000000\n",
      "after change avg.avg=19.200000, k=6.000000\n",
      "The output average is 19.200000\n"
     ]
    }
   ],
   "source": [
    "x = [10,2,30,4,50]\n",
    "class avgFil2(object):\n",
    "    def __init__(self):\n",
    "        self.avg = 0\n",
    "        self.k = 1.0\n",
    "    def __call__(self, x):\n",
    "        alpha = (self.k-1.0)/self.k  \n",
    "        self.avg = alpha * self.avg + (1 - alpha)*x\n",
    "        self.k +=1\n",
    "        return self.avg\n",
    "\n",
    "def simpleTest(x = x):     \n",
    "    average = []\n",
    "    avg = avgFil2()               # new variable and creation of instance (all initialisation)\n",
    "    for i in range(len(x)):\n",
    "        print('input %f' % x[i])\n",
    "        print('before change avg.avg=%f, k=%f' % (avg.avg, avg.k)   )\n",
    "        average.append(avg(x[i])) # class is called here, so all changes going on\n",
    "        print('after change avg.avg=%f, k=%f' % (avg.avg, avg.k)  )\n",
    "        print('The output average is %f' % average[i])\n",
    "\n",
    "simpleTest()"
   ]
  },
  {
   "cell_type": "code",
   "execution_count": null,
   "metadata": {},
   "outputs": [],
   "source": []
  }
 ],
 "metadata": {
  "kernelspec": {
   "display_name": "Python 3",
   "language": "python",
   "name": "python3"
  },
  "language_info": {
   "codemirror_mode": {
    "name": "ipython",
    "version": 3
   },
   "file_extension": ".py",
   "mimetype": "text/x-python",
   "name": "python",
   "nbconvert_exporter": "python",
   "pygments_lexer": "ipython3",
   "version": "3.7.4"
  }
 },
 "nbformat": 4,
 "nbformat_minor": 2
}
