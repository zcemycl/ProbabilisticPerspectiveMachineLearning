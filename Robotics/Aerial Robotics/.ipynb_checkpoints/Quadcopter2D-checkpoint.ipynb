{
 "cells": [
  {
   "cell_type": "code",
   "execution_count": 1,
   "metadata": {},
   "outputs": [],
   "source": [
    "import numpy as np\n",
    "import matplotlib.pyplot as plt\n",
    "import math\n",
    "import scipy.integrate as inte\n",
    "from numpy import matmul as mm\n",
    "from mpl_toolkits import mplot3d"
   ]
  },
  {
   "cell_type": "markdown",
   "metadata": {},
   "source": [
    "### Reusable Functions"
   ]
  },
  {
   "cell_type": "code",
   "execution_count": 3,
   "metadata": {},
   "outputs": [],
   "source": [
    "def quad_pos(pos,rot,L,H=.05):\n",
    "    tmp = np.hstack((rot,pos))\n",
    "    wHb = np.vstack((tmp,np.array([0,0,0,1])))\n",
    "    quadBodyFrame = np.array([[L,0,0,1],\n",
    "                             [0,L,0,1],\n",
    "                             [-L,0,0,1],\n",
    "                             [0,-L,0,1],\n",
    "                             [0,0,0,1],\n",
    "                             [0,0,H,1]]).T\n",
    "    quadWorldFrame = mm(wHb,quadBodyFrame)\n",
    "    quad = quadWorldFrame[:3,:]\n",
    "    return quad\n",
    "def QuatToRot(q):\n",
    "    q = q/np.sqrt(np.sum(q**2))\n",
    "    qahat = np.zeros((3,3))\n",
    "    qahat[0,1],qahat[0,2] = -q[3],q[2]\n",
    "    qahat[1,2],qahat[1,0] = -q[1],q[3]\n",
    "    qahat[2,0],qahat[2,1] = -q[2],q[1]\n",
    "    R = np.eye(3)+2*mm(qahat,qahat)+2*q[0]*qahat\n",
    "    return R"
   ]
  },
  {
   "cell_type": "markdown",
   "metadata": {},
   "source": [
    "### Modified Functions"
   ]
  },
  {
   "cell_type": "code",
   "execution_count": 2,
   "metadata": {},
   "outputs": [],
   "source": [
    "def sys_params():\n",
    "    params = {}\n",
    "    params['gravity'],params['mass'],params['arm_length']=9.81,.18,.086\n",
    "    params['Ixx'] = .00025\n",
    "    params['minF'] = 0\n",
    "    params['maxF'] = 2*params['mass']*params['gravity']\n",
    "    return params\n",
    "def simStateToQuadState(sim_state):\n",
    "    quad_state = np.zeros((13,1))\n",
    "    quad_state[0],quad_state[3],quad_state[12] = 0,0,0\n",
    "    quad_state[8:11] = 0\n",
    "    quad_state[1] = sim_state[0]\n",
    "    quad_state[2] = sim_state[1]\n",
    "    quad_state[4] = sim_state[3]\n",
    "    quad_state[5] = sim_state[4]\n",
    "    quad_state[11] = sim_state[5]\n",
    "    quad_state[6] = np.cos(-sim_state[2]/2)\n",
    "    quad_state[7] = np.sin(-sim_state[2]/2)\n",
    "    return quad_state\n",
    "def sys_eom(t,s,controlhandle,trajhandle,params):\n",
    "    current_state = {}\n",
    "    current_state['pos'] = s[:2]\n",
    "    current_state['rot'] = s[2]\n",
    "    current_state['vel'] = s[3:5]\n",
    "    current_state['omega'] = s[5]\n",
    "    desired_state = trajhandle(t,current_state)\n",
    "    F,M = controlhandle(t,current_state,desired_state,params)\n",
    "    u1 = .5*(F-M/params['arm_length'])\n",
    "    u2 = .5*(F+M/params['arm_length'])\n",
    "    u1_clamped = np.clip(u1,params['minF']/2,params['maxF']/2)\n",
    "    u2_clamped = np.clip(u2,params['minF']/2,params['maxF']/2)\n",
    "    F_clamped = u1_clamped + u2_clamped\n",
    "    M_clamped = (u2_clamped-u1_clamped)*params['arm_length']\n",
    "    sdot = np.array([[s[3]],[s[4]],[s[5]],\n",
    "                    [-F_clamped*np.sin(s[2])/params['mass']],\n",
    "                    [F_clamped*np.cos(s[2])/params['mass']-params['gravity']],\n",
    "                    [M_clamped/params['Ixx']]])\n",
    "    return sdot"
   ]
  },
  {
   "cell_type": "markdown",
   "metadata": {},
   "source": [
    "### QuadPlot Class"
   ]
  },
  {
   "cell_type": "code",
   "execution_count": null,
   "metadata": {},
   "outputs": [],
   "source": [
    "class QuadPlot():\n",
    "    def __init__(self,qn,state,wingspan,height,color,max_iter,h_3d=None):\n",
    "        # public\n",
    "        self.k,self.time = 0,0\n",
    "        self.qn = qn\n",
    "        self.state = state\n",
    "        self.wingspan = wingspan\n",
    "        self.color = color\n",
    "        self.height = height\n",
    "        self.rot = QuatToRot(self.state[6:10])\n",
    "        self.motor = quad_pos(self.state[:3],self.rot,self.wingspan,self.height)\n",
    "        self.max_iter = max_iter\n",
    "        self.state_hist = np.zeros((6,max_iter))\n",
    "        self.time_hist = np.zeros((1,max_iter))\n",
    "        \n",
    "        # private\n",
    "        self.__text_dist = self.wingspan/3\n",
    "        if h_3d is None:\n",
    "            h_3d = plt.gca()\n",
    "        self.__h_3d = h_3d\n",
    "        self.__h_pos_hist = h_3d.plot3D(self.state[0],\n",
    "                                        self.state[1],self.state[2],'r.')\n",
    "        self.__h_m13 = h_3d.plot3D(self.motor[0,[0,2]],\n",
    "                                  self.motor[1,[0,2]],\n",
    "                                  self.motor[2,[0,2]],'-ko',\n",
    "                                  markerfacecolor=self.color,\n",
    "                                  markersize=5)\n",
    "        self.__h_m24 = h_3d.plot3D(self.motor[0,[1,3]],\n",
    "                                  self.motor[1,[1,3]],\n",
    "                                  self.motor[2,[1,3]],'-ko',\n",
    "                                  markerfacecolor=self.color,\n",
    "                                  markersize=5)\n",
    "        self.__h_qz = h_3d.plot3D(self.motor[0,[4,5]],\n",
    "                                  self.motor[1,[4,5]],\n",
    "                                  self.motor[2,[4,5]],\n",
    "                                  color=self.color,\n",
    "                                  linewidth=2)\n",
    "#         self.__h_qn = \n",
    "    def UpdateQuadState(self,state,time):\n",
    "        self.state = state\n",
    "        self.time = time\n",
    "        self.rot = QuatToRot(state[6:10]).T\n",
    "    def UpdateQuadHist(self):\n",
    "        self.k += 1\n",
    "        self.time_hist[0,self.k] = self.time\n",
    "        self.state_hist[:,self.k] = self.state[:6].flatten()\n",
    "    def UpdateMotorPos(self):\n",
    "        self.motor = quad_pos(self.state[:3],self.rot,self.wingspan,self.height)\n",
    "    def TruncateHist(self):\n",
    "        self.time_hist = self.time_hist[:self.k]\n",
    "        self.state_hist = self.state_hist[:,:self.k]\n",
    "    def UpdateQuadPlot(self,state,time):\n",
    "        self.UpdateQuadState(state,time)\n",
    "        self.UpdateQuadHist()\n",
    "        self.UpdateMotorPos()\n",
    "        h_3d = plt.gca()\n",
    "        self.__h_pos_hist = h_3d.plot3D(self.state_hist[0,:self.k],\n",
    "                                        self.state_hist[1,:self.k],\n",
    "                                        self.state_hist[2,:self.k],'r.')\n",
    "        self.__h_m13 = h_3d.plot3D(self.motor[0,[0,2]],\n",
    "                                  self.motor[1,[0,2]],\n",
    "                                  self.motor[2,[0,2]],'-ko',\n",
    "                                  markerfacecolor=self.color,\n",
    "                                  markersize=5)\n",
    "        self.__h_m24 = h_3d.plot3D(self.motor[0,[1,3]],\n",
    "                                  self.motor[1,[1,3]],\n",
    "                                  self.motor[2,[1,3]],'-ko',\n",
    "                                  markerfacecolor=self.color,\n",
    "                                  markersize=5)\n",
    "        self.__h_qz = h_3d.plot3D(self.motor[0,[4,5]],\n",
    "                                  self.motor[1,[4,5]],\n",
    "                                  self.motor[2,[4,5]],\n",
    "                                  color=self.color,\n",
    "                                  linewidth=2)\n",
    "        fig = plt.gcf()\n",
    "        fig.canvas.draw()"
   ]
  },
  {
   "cell_type": "markdown",
   "metadata": {},
   "source": [
    "### Trajectory Library"
   ]
  },
  {
   "cell_type": "code",
   "execution_count": 4,
   "metadata": {},
   "outputs": [],
   "source": [
    "def traj_line(t):\n",
    "    return desired_state\n",
    "def traj_diamond(t):\n",
    "    return desired_state\n",
    "def traj_sine(t):\n",
    "    return desired_state\n",
    "def traj_step(t):\n",
    "    return desired_state"
   ]
  },
  {
   "cell_type": "code",
   "execution_count": null,
   "metadata": {},
   "outputs": [],
   "source": []
  }
 ],
 "metadata": {
  "kernelspec": {
   "display_name": "Python 3",
   "language": "python",
   "name": "python3"
  },
  "language_info": {
   "codemirror_mode": {
    "name": "ipython",
    "version": 3
   },
   "file_extension": ".py",
   "mimetype": "text/x-python",
   "name": "python",
   "nbconvert_exporter": "python",
   "pygments_lexer": "ipython3",
   "version": "3.7.4"
  }
 },
 "nbformat": 4,
 "nbformat_minor": 2
}
