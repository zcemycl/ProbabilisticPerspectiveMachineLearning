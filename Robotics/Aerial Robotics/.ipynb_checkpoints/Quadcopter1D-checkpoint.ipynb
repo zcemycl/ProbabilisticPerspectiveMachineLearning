{
 "cells": [
  {
   "cell_type": "code",
   "execution_count": 1,
   "metadata": {},
   "outputs": [],
   "source": [
    "import numpy as np\n",
    "import matplotlib.pyplot as plt\n",
    "import math\n",
    "import scipy.integrate as inte\n",
    "from numpy import matmul as mm"
   ]
  },
  {
   "cell_type": "code",
   "execution_count": 2,
   "metadata": {},
   "outputs": [],
   "source": [
    "def quad_pos(pos,rot,L,H=.05):\n",
    "    tmp = np.hstack((rot,pos.flatten()))\n",
    "    wHb = np.vstack((tmp,np.array([0,0,0,1])))\n",
    "    quadBodyFrame = np.array([[L,0,0,1],\n",
    "                             [0,L,0,1],\n",
    "                             [-L,0,0,1],\n",
    "                             [0,-L,0,1],\n",
    "                             [0,0,0,1],\n",
    "                             [0,0,H,1]]).T\n",
    "    quadWorldFrame = mm(wHb,quadBodyFrame)\n",
    "    quad = quadWorldFrame[:3,:]\n",
    "    return quad\n",
    "def QuatToPlot(q):\n",
    "    q = q/np.sqrt(np.sum(q**2))\n",
    "    qahat[0,1],qahat[0,2] = -q[3],q[2]\n",
    "    qahat[1,2],qahat[1,0] = -q[1],q[3]\n",
    "    qahat[2,0],qahat[2,1] = -q[2],q[1]\n",
    "    R = np.eye(3)+2*mm(qahat,qahat)+2*q[0]*qahat\n",
    "    return R\n",
    "def simStateToQuadState(sim_state):\n",
    "    quad_state = np.zeros((13,1))\n",
    "    quad_state[:2] = 0; quad_state[3:5] = 0\n",
    "    quad_state[7:] = 0; quad_state[6] = 1\n",
    "    quad_state[2] = sim_state[0];\n",
    "    quad_state[5] = sim_state[1]\n",
    "    return quad_state\n",
    "def sys_eom(t,s,controlhandle,trajhandle,params):\n",
    "    s_des = trajhandle(t)\n",
    "    u_des = controlhandle(t,s,s_des,params)\n",
    "    u_clamped = np.clip(u_des,params['u_min',params['u_max']])\n",
    "    sdot = np.array([[s[1]],[u_clamped/params['mass']-params['gravity']]])\n",
    "    return sdot\n",
    "def sys_params_limit_thrust():\n",
    "    params = {}\n",
    "    params['gravity'],params['mass'],params['arm_length']=9.81,.18,.086\n",
    "    params['u_min'] = 0\n",
    "    params['u_max'] = 1.2*params['mass']*params['gravity']\n",
    "    return params"
   ]
  },
  {
   "cell_type": "code",
   "execution_count": 3,
   "metadata": {},
   "outputs": [],
   "source": [
    "def controller(s,s_des,params):\n",
    "    Kp, Kv = 4500, 400\n",
    "    e = s_des[0]-s[0]; de = s_des[1]-s[1]\n",
    "    d2z = 0\n",
    "    u = params['mass']*(d2z+Kp*e+Kv*de+params['gravity'])\n",
    "    return u\n",
    "def fixed_set_point(t,z_des):\n",
    "    if t == 0:\n",
    "        s_des = np.array([[0],[0]])\n",
    "    else:\n",
    "        s_des = np,array([[z_des],[0]])\n",
    "    return s_des"
   ]
  },
  {
   "cell_type": "code",
   "execution_count": 4,
   "metadata": {},
   "outputs": [],
   "source": [
    "def height_control(trajhandle,controlhandle):\n",
    "    params = sys_params_limit_thrust()\n",
    "    real_time = True\n",
    "    h_fig = plt.figure()\n",
    "    \n",
    "    h_3d = plt.subplot(1,2,1)\n",
    "    \n",
    "    h_2d = plt.subplot(1,2,2)\n",
    "    \n",
    "    ## Initial Conditions\n",
    "    max_iter,starttime,tstep,cstep,nstep = 100,0,.01,.05,cstep/tstep\n",
    "    time,des_start,des_stop = starttime,trajhandle(0),trajhandle(np.inf)\n",
    "    stop_pos,x0,pos_tol,vel_tol = des_stop[0],des_start,.01,.01\n",
    "    x,xtraj,ttraj=x0,np.nan*np.ones((max_iter*nstep,len(x0))),np.nan*np.ones((max_iter*nstep,1))\n",
    "    \n",
    "    for Iter in range(max_iter):\n",
    "        timeint = np.arange(time,time+cstep,tstep)\n",
    "        \n",
    "        # Initialize quad plot\n",
    "        if Iter == 0:\n",
    "            plt.subplot(1,2,1)\n",
    "            \n",
    "    \n",
    "    return t_out,z_out"
   ]
  },
  {
   "cell_type": "code",
   "execution_count": 6,
   "metadata": {},
   "outputs": [],
   "source": [
    "class QuadPlot():\n",
    "    def __init__(self,qn,state,wingspan,height,color,max_iter,h_3d=None):\n",
    "        # public\n",
    "        self.k,self.time = 0,0\n",
    "        self.qn = qn\n",
    "        self.state = state\n",
    "        self.wingspan = wingspan\n",
    "        self.color = color\n",
    "        self.height = height\n",
    "        self.rot = QuatToRot(self.state[6:10])\n",
    "        self.motor = quad_pos(self.state[:3],self.rot,self.wingspan,self.height)\n",
    "        self.max_iter = max_iter\n",
    "        self.state_hist = np.zeros((6,max_iter))\n",
    "        self.time_hist = np.zeros((1,max_iter))\n",
    "        \n",
    "        # private\n",
    "        self.__text_dist = self.wingspan/3\n",
    "        if h_3d is None:\n",
    "            h_3d = plt.gca()\n",
    "        self.__h_3d = h_3d\n",
    "        self.__h_pos_hist = h_3d.plot3D(self.state[0],\n",
    "                                        self.state[1],self.[2],'r.')\n",
    "        self.__h_m13\n",
    "        self.__h_m24\n",
    "        self.__h_qz\n",
    "        self.__h_qn\n",
    "    def UpdateQuadState(self,state,time):\n",
    "        self.state = state\n",
    "        self.time = time\n",
    "        self.rot = QuatToRot(state[6:10]).T\n",
    "    def UpdateQuadHist(self):\n",
    "        self.k += 1\n",
    "        self.time_hist[self.k] = self.time\n",
    "        self.state_hist[:,self.k] = self.state[:6]\n",
    "    def UpdateMotorPos(self):\n",
    "        self.motor = quad_pos(self.state[:3],self.rot,self.wingspan,self.height)\n",
    "    def TruncateHist(self):\n",
    "        self.time_hist = self.time_hist[:self.k]\n",
    "        self.state_hist = self.state_hist[:,:self.k]\n",
    "    def UpdateQuadPlot(self,state,time):\n",
    "        self.UpdateQuadState(state,time)\n",
    "        self.UpdateQuadHist()\n",
    "        self.UpdateMotorPose()\n",
    "        "
   ]
  },
  {
   "cell_type": "code",
   "execution_count": 7,
   "metadata": {},
   "outputs": [
    {
     "ename": "AttributeError",
     "evalue": "'QuadPlot' object has no attribute 'qn'",
     "output_type": "error",
     "traceback": [
      "\u001b[1;31m---------------------------------------------------------------------------\u001b[0m",
      "\u001b[1;31mAttributeError\u001b[0m                            Traceback (most recent call last)",
      "\u001b[1;32m<ipython-input-7-bc48caeffe0f>\u001b[0m in \u001b[0;36m<module>\u001b[1;34m\u001b[0m\n\u001b[1;32m----> 1\u001b[1;33m \u001b[0mqp\u001b[0m \u001b[1;33m=\u001b[0m \u001b[0mQuadPlot\u001b[0m\u001b[1;33m(\u001b[0m\u001b[1;33m)\u001b[0m\u001b[1;33m\u001b[0m\u001b[1;33m\u001b[0m\u001b[0m\n\u001b[0m",
      "\u001b[1;32m<ipython-input-6-483ed9e65476>\u001b[0m in \u001b[0;36m__init__\u001b[1;34m(self)\u001b[0m\n\u001b[0;32m      2\u001b[0m     \u001b[1;32mdef\u001b[0m \u001b[0m__init__\u001b[0m\u001b[1;33m(\u001b[0m\u001b[0mself\u001b[0m\u001b[1;33m)\u001b[0m\u001b[1;33m:\u001b[0m\u001b[1;33m\u001b[0m\u001b[1;33m\u001b[0m\u001b[0m\n\u001b[0;32m      3\u001b[0m         \u001b[0mself\u001b[0m\u001b[1;33m.\u001b[0m\u001b[0mk\u001b[0m\u001b[1;33m,\u001b[0m\u001b[0mself\u001b[0m\u001b[1;33m.\u001b[0m\u001b[0mtime\u001b[0m \u001b[1;33m=\u001b[0m \u001b[1;36m0\u001b[0m\u001b[1;33m,\u001b[0m\u001b[1;36m0\u001b[0m\u001b[1;33m\u001b[0m\u001b[1;33m\u001b[0m\u001b[0m\n\u001b[1;32m----> 4\u001b[1;33m         \u001b[0mself\u001b[0m\u001b[1;33m.\u001b[0m\u001b[0mqn\u001b[0m\u001b[1;33m\u001b[0m\u001b[1;33m\u001b[0m\u001b[0m\n\u001b[0m",
      "\u001b[1;31mAttributeError\u001b[0m: 'QuadPlot' object has no attribute 'qn'"
     ]
    }
   ],
   "source": [
    "qp = QuadPlot()\n"
   ]
  },
  {
   "cell_type": "code",
   "execution_count": 11,
   "metadata": {},
   "outputs": [],
   "source": [
    "z_des = 1\n",
    "trajhandle = lambda t: fixed_set_point(t,z_des)\n",
    "controlhandle = lambda : controller"
   ]
  },
  {
   "cell_type": "code",
   "execution_count": null,
   "metadata": {},
   "outputs": [],
   "source": [
    "t,z = height_control(trajhandle,controlhandle)"
   ]
  }
 ],
 "metadata": {
  "kernelspec": {
   "display_name": "Python 3",
   "language": "python",
   "name": "python3"
  },
  "language_info": {
   "codemirror_mode": {
    "name": "ipython",
    "version": 3
   },
   "file_extension": ".py",
   "mimetype": "text/x-python",
   "name": "python",
   "nbconvert_exporter": "python",
   "pygments_lexer": "ipython3",
   "version": "3.7.4"
  }
 },
 "nbformat": 4,
 "nbformat_minor": 2
}
