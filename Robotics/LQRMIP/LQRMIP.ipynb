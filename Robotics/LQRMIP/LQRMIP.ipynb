{
 "cells": [
  {
   "cell_type": "code",
   "execution_count": 1,
   "metadata": {},
   "outputs": [],
   "source": [
    "import numpy as np\n",
    "import matplotlib.pyplot as plt\n",
    "import math\n",
    "import scipy.integrate as inte\n",
    "from numpy import matmul as mm\n",
    "from control import lqr\n",
    "import scipy.linalg\n",
    "import slycot"
   ]
  },
  {
   "cell_type": "code",
   "execution_count": 2,
   "metadata": {},
   "outputs": [],
   "source": [
    "from sympy import *\n",
    "th,phi,dth,dphi,u = symbols('th phi dth dphi u')"
   ]
  },
  {
   "cell_type": "markdown",
   "metadata": {},
   "source": [
    "def lqr(A,B,Q,R):\n",
    "    X = np.matrix(scipy.linalg.solve_continuous_are(A, B, Q, R))\n",
    "    K = np.matrix(scipy.linalg.inv(R)*(B.T*X))\n",
    "    eigVals, eigVecs = scipy.linalg.eig(A-B*K)\n",
    "    return K, X, eigVals\n",
    "\n",
    "def dlqr(A,B,Q,R):\n",
    "    X = np.matrix(scipy.linalg.solve_discrete_are(A, B, Q, R))\n",
    "    K = np.matrix(scipy.linalg.inv(B.T*X*B+R)*(B.T*X*A))\n",
    "    eigVals, eigVecs = scipy.linalg.eig(A-B*K)\n",
    "    return K, X, eigVals"
   ]
  },
  {
   "cell_type": "code",
   "execution_count": 3,
   "metadata": {},
   "outputs": [],
   "source": [
    "def eomsym(params,th,phi,dth,dphi,u):\n",
    "    A = params['mr']*params['r']*params['d']*cos(phi)\n",
    "    B = params['ir']+params['mr']*(params['d']**2)\n",
    "    C = params['mr']*params['g']*params['d']\n",
    "    D = params['mr']*(params['r']**2)\n",
    "    E = params['r']*params['mr']*params['d']*cos(phi) \n",
    "    F = params['mr']*params['r']*params['d']\n",
    "    tau = u\n",
    "    tmp1 = A*F*sin(phi)*dphi**2-C*D*sin(phi)+(A+D)*tau\n",
    "    tmp2 = A*E-B*D; phidd = tmp1/tmp2\n",
    "    thdd = -((A+B)*phidd-C*sin(phi)+tau)/A\n",
    "    qdd = Matrix([thdd,phidd])\n",
    "    return qdd"
   ]
  },
  {
   "cell_type": "code",
   "execution_count": 4,
   "metadata": {},
   "outputs": [],
   "source": [
    "def eom(params,th,phi,dth,dphi,u):\n",
    "    A = params['mr']*params['r']*params['d']*np.cos(phi)\n",
    "    B = params['ir']+params['mr']*(params['d']**2)\n",
    "    C = params['mr']*params['g']*params['d']\n",
    "    D = params['mr']*(params['r']**2)\n",
    "    E = params['r']*params['mr']*params['d']*np.cos(phi) \n",
    "    F = params['mr']*params['r']*params['d']\n",
    "    tau = u\n",
    "    tmp1 = A*F*np.sin(phi)*dphi**2-C*D*np.sin(phi)+(A+D)*tau\n",
    "    tmp2 = A*E-B*D; phidd = tmp1/tmp2\n",
    "    thdd = -((A+B)*phidd-C*np.sin(phi)+tau)/A\n",
    "    qdd = np.array([thdd,phidd])\n",
    "    return qdd"
   ]
  },
  {
   "cell_type": "code",
   "execution_count": 5,
   "metadata": {},
   "outputs": [],
   "source": [
    "params = {}; params['g'] = 9.81\n",
    "params['mr'] = .25; params['ir'] = .0001\n",
    "params['d'] = .1; params['r'] = .02\n",
    "\n",
    "qdd = eomsym(params,th,phi,dth,dphi,u)\n",
    "f = Matrix([dth,dphi])\n",
    "g = Matrix([qdd])\n",
    "der = Matrix([th,phi,dth,dphi])\n",
    "A = f.jacobian(der)\n",
    "A2= g.jacobian(der)\n",
    "b = f.jacobian(Matrix([u]))\n",
    "b2= g.jacobian(Matrix([u]))"
   ]
  },
  {
   "cell_type": "code",
   "execution_count": 6,
   "metadata": {},
   "outputs": [
    {
     "data": {
      "text/latex": [
       "$\\displaystyle \\left[\\begin{matrix}0 & 0 & 1 & 0\\\\0 & 0 & 0 & 1\\end{matrix}\\right]$"
      ],
      "text/plain": [
       "Matrix([\n",
       "[0, 0, 1, 0],\n",
       "[0, 0, 0, 1]])"
      ]
     },
     "execution_count": 6,
     "metadata": {},
     "output_type": "execute_result"
    }
   ],
   "source": [
    "A"
   ]
  },
  {
   "cell_type": "code",
   "execution_count": 7,
   "metadata": {},
   "outputs": [
    {
     "data": {
      "text/latex": [
       "$\\displaystyle \\left[\\begin{matrix}0 & \\frac{2000.0 \\left(- u - \\frac{\\left(0.0005 \\cos{\\left(\\phi \\right)} + 0.0026\\right) \\left(2.5 \\cdot 10^{-7} dphi^{2} \\sin{\\left(\\phi \\right)} \\cos{\\left(\\phi \\right)} + u \\left(0.0005 \\cos{\\left(\\phi \\right)} + 0.0001\\right) - 2.4525 \\cdot 10^{-5} \\sin{\\left(\\phi \\right)}\\right)}{2.5 \\cdot 10^{-7} \\cos^{2}{\\left(\\phi \\right)} - 2.6 \\cdot 10^{-7}} + 0.24525 \\sin{\\left(\\phi \\right)}\\right) \\sin{\\left(\\phi \\right)}}{\\cos^{2}{\\left(\\phi \\right)}} + \\frac{2000.0 \\left(- \\frac{\\left(0.0005 \\cos{\\left(\\phi \\right)} + 0.0026\\right) \\left(- 2.5 \\cdot 10^{-7} dphi^{2} \\sin^{2}{\\left(\\phi \\right)} + 2.5 \\cdot 10^{-7} dphi^{2} \\cos^{2}{\\left(\\phi \\right)} - 0.0005 u \\sin{\\left(\\phi \\right)} - 2.4525 \\cdot 10^{-5} \\cos{\\left(\\phi \\right)}\\right)}{2.5 \\cdot 10^{-7} \\cos^{2}{\\left(\\phi \\right)} - 2.6 \\cdot 10^{-7}} - \\frac{5.0 \\cdot 10^{-7} \\left(0.0005 \\cos{\\left(\\phi \\right)} + 0.0026\\right) \\left(2.5 \\cdot 10^{-7} dphi^{2} \\sin{\\left(\\phi \\right)} \\cos{\\left(\\phi \\right)} + u \\left(0.0005 \\cos{\\left(\\phi \\right)} + 0.0001\\right) - 2.4525 \\cdot 10^{-5} \\sin{\\left(\\phi \\right)}\\right) \\sin{\\left(\\phi \\right)} \\cos{\\left(\\phi \\right)}}{\\left(2.5 \\cdot 10^{-7} \\cos^{2}{\\left(\\phi \\right)} - 2.6 \\cdot 10^{-7}\\right)^{2}} + 0.24525 \\cos{\\left(\\phi \\right)} + \\frac{0.0005 \\left(2.5 \\cdot 10^{-7} dphi^{2} \\sin{\\left(\\phi \\right)} \\cos{\\left(\\phi \\right)} + u \\left(0.0005 \\cos{\\left(\\phi \\right)} + 0.0001\\right) - 2.4525 \\cdot 10^{-5} \\sin{\\left(\\phi \\right)}\\right) \\sin{\\left(\\phi \\right)}}{2.5 \\cdot 10^{-7} \\cos^{2}{\\left(\\phi \\right)} - 2.6 \\cdot 10^{-7}}\\right)}{\\cos{\\left(\\phi \\right)}} & 0 & - \\frac{0.001 dphi \\left(0.0005 \\cos{\\left(\\phi \\right)} + 0.0026\\right) \\sin{\\left(\\phi \\right)}}{2.5 \\cdot 10^{-7} \\cos^{2}{\\left(\\phi \\right)} - 2.6 \\cdot 10^{-7}}\\\\0 & \\frac{- 2.5 \\cdot 10^{-7} dphi^{2} \\sin^{2}{\\left(\\phi \\right)} + 2.5 \\cdot 10^{-7} dphi^{2} \\cos^{2}{\\left(\\phi \\right)} - 0.0005 u \\sin{\\left(\\phi \\right)} - 2.4525 \\cdot 10^{-5} \\cos{\\left(\\phi \\right)}}{2.5 \\cdot 10^{-7} \\cos^{2}{\\left(\\phi \\right)} - 2.6 \\cdot 10^{-7}} + \\frac{5.0 \\cdot 10^{-7} \\left(2.5 \\cdot 10^{-7} dphi^{2} \\sin{\\left(\\phi \\right)} \\cos{\\left(\\phi \\right)} + u \\left(0.0005 \\cos{\\left(\\phi \\right)} + 0.0001\\right) - 2.4525 \\cdot 10^{-5} \\sin{\\left(\\phi \\right)}\\right) \\sin{\\left(\\phi \\right)} \\cos{\\left(\\phi \\right)}}{\\left(2.5 \\cdot 10^{-7} \\cos^{2}{\\left(\\phi \\right)} - 2.6 \\cdot 10^{-7}\\right)^{2}} & 0 & \\frac{5.0 \\cdot 10^{-7} dphi \\sin{\\left(\\phi \\right)} \\cos{\\left(\\phi \\right)}}{2.5 \\cdot 10^{-7} \\cos^{2}{\\left(\\phi \\right)} - 2.6 \\cdot 10^{-7}}\\end{matrix}\\right]$"
      ],
      "text/plain": [
       "Matrix([\n",
       "[0, 2000.0*(-u - (0.0005*cos(phi) + 0.0026)*(2.5e-7*dphi**2*sin(phi)*cos(phi) + u*(0.0005*cos(phi) + 0.0001) - 2.4525e-5*sin(phi))/(2.5e-7*cos(phi)**2 - 2.6e-7) + 0.24525*sin(phi))*sin(phi)/cos(phi)**2 + 2000.0*(-(0.0005*cos(phi) + 0.0026)*(-2.5e-7*dphi**2*sin(phi)**2 + 2.5e-7*dphi**2*cos(phi)**2 - 0.0005*u*sin(phi) - 2.4525e-5*cos(phi))/(2.5e-7*cos(phi)**2 - 2.6e-7) - 5.0e-7*(0.0005*cos(phi) + 0.0026)*(2.5e-7*dphi**2*sin(phi)*cos(phi) + u*(0.0005*cos(phi) + 0.0001) - 2.4525e-5*sin(phi))*sin(phi)*cos(phi)/(2.5e-7*cos(phi)**2 - 2.6e-7)**2 + 0.24525*cos(phi) + 0.0005*(2.5e-7*dphi**2*sin(phi)*cos(phi) + u*(0.0005*cos(phi) + 0.0001) - 2.4525e-5*sin(phi))*sin(phi)/(2.5e-7*cos(phi)**2 - 2.6e-7))/cos(phi), 0, -0.001*dphi*(0.0005*cos(phi) + 0.0026)*sin(phi)/(2.5e-7*cos(phi)**2 - 2.6e-7)],\n",
       "[0,                                                                                                                                                                                                                                                                                                                                                                                                                                            (-2.5e-7*dphi**2*sin(phi)**2 + 2.5e-7*dphi**2*cos(phi)**2 - 0.0005*u*sin(phi) - 2.4525e-5*cos(phi))/(2.5e-7*cos(phi)**2 - 2.6e-7) + 5.0e-7*(2.5e-7*dphi**2*sin(phi)*cos(phi) + u*(0.0005*cos(phi) + 0.0001) - 2.4525e-5*sin(phi))*sin(phi)*cos(phi)/(2.5e-7*cos(phi)**2 - 2.6e-7)**2, 0,                   5.0e-7*dphi*sin(phi)*cos(phi)/(2.5e-7*cos(phi)**2 - 2.6e-7)]])"
      ]
     },
     "execution_count": 7,
     "metadata": {},
     "output_type": "execute_result"
    }
   ],
   "source": [
    "A2"
   ]
  },
  {
   "cell_type": "code",
   "execution_count": 8,
   "metadata": {},
   "outputs": [
    {
     "data": {
      "text/latex": [
       "$\\displaystyle \\left[\\begin{matrix}0\\\\0\\end{matrix}\\right]$"
      ],
      "text/plain": [
       "Matrix([\n",
       "[0],\n",
       "[0]])"
      ]
     },
     "execution_count": 8,
     "metadata": {},
     "output_type": "execute_result"
    }
   ],
   "source": [
    "b"
   ]
  },
  {
   "cell_type": "code",
   "execution_count": 9,
   "metadata": {},
   "outputs": [
    {
     "data": {
      "text/latex": [
       "$\\displaystyle \\left[\\begin{matrix}\\frac{2000.0 \\left(- \\frac{\\left(0.0005 \\cos{\\left(\\phi \\right)} + 0.0001\\right) \\left(0.0005 \\cos{\\left(\\phi \\right)} + 0.0026\\right)}{2.5 \\cdot 10^{-7} \\cos^{2}{\\left(\\phi \\right)} - 2.6 \\cdot 10^{-7}} - 1\\right)}{\\cos{\\left(\\phi \\right)}}\\\\\\frac{0.0005 \\cos{\\left(\\phi \\right)} + 0.0001}{2.5 \\cdot 10^{-7} \\cos^{2}{\\left(\\phi \\right)} - 2.6 \\cdot 10^{-7}}\\end{matrix}\\right]$"
      ],
      "text/plain": [
       "Matrix([\n",
       "[2000.0*(-(0.0005*cos(phi) + 0.0001)*(0.0005*cos(phi) + 0.0026)/(2.5e-7*cos(phi)**2 - 2.6e-7) - 1)/cos(phi)],\n",
       "[                                                  (0.0005*cos(phi) + 0.0001)/(2.5e-7*cos(phi)**2 - 2.6e-7)]])"
      ]
     },
     "execution_count": 9,
     "metadata": {},
     "output_type": "execute_result"
    }
   ],
   "source": [
    "b2"
   ]
  },
  {
   "cell_type": "code",
   "execution_count": 10,
   "metadata": {},
   "outputs": [
    {
     "data": {
      "text/latex": [
       "$\\displaystyle \\left[\\begin{matrix}0 & 0 & 1 & 0\\\\0 & 0 & 0 & 1\\end{matrix}\\right]$"
      ],
      "text/plain": [
       "Matrix([\n",
       "[0, 0, 1, 0],\n",
       "[0, 0, 0, 1]])"
      ]
     },
     "execution_count": 10,
     "metadata": {},
     "output_type": "execute_result"
    }
   ],
   "source": [
    "A.subs([(th,0),(phi,0),(dth,0),(dphi,0),(u,0)])"
   ]
  },
  {
   "cell_type": "code",
   "execution_count": 11,
   "metadata": {},
   "outputs": [
    {
     "data": {
      "text/latex": [
       "$\\displaystyle \\left[\\begin{matrix}0 & -14714.9999999999 & 0 & 0\\\\0 & 2452.49999999998 & 0 & 0\\end{matrix}\\right]$"
      ],
      "text/plain": [
       "Matrix([\n",
       "[0, -14714.9999999999, 0, 0],\n",
       "[0,  2452.49999999998, 0, 0]])"
      ]
     },
     "execution_count": 11,
     "metadata": {},
     "output_type": "execute_result"
    }
   ],
   "source": [
    "A2.subs([(th,0),(phi,0),(dth,0),(dphi,0),(u,0)])"
   ]
  },
  {
   "cell_type": "code",
   "execution_count": 12,
   "metadata": {},
   "outputs": [
    {
     "name": "stdout",
     "output_type": "stream",
     "text": [
      "[[  0.           0.           1.           0.        ]\n",
      " [  0.           0.           0.           1.        ]\n",
      " [  0.         698.49085038   0.           0.        ]\n",
      " [  0.         -63.27637257   0.           0.        ]]\n",
      "[[    0.        ]\n",
      " [    0.        ]\n",
      " [17326.11921085]\n",
      " [-1979.22366384]]\n"
     ]
    }
   ],
   "source": [
    "A_1 = np.vstack((np.array(A.subs([(th,0),(phi,1),(dth,0),(dphi,0),(u,0)])),\n",
    "          np.array(A2.subs([(th,0),(phi,1),(dth,0),(dphi,0),(u,0)])))).astype(float)\n",
    "b_1 = np.vstack((np.array(b.subs([(th,0),(phi,1),(dth,0),(dphi,0),(u,0)])),\n",
    "          np.array(b2.subs([(th,0),(phi,1),(dth,0),(dphi,0),(u,0)])))).astype(float)\n",
    "A_1 = np.matrix(A_1)\n",
    "b_1 = np.matrix(b_1)\n",
    "print(A_1)\n",
    "print(b_1)"
   ]
  },
  {
   "cell_type": "code",
   "execution_count": 13,
   "metadata": {},
   "outputs": [
    {
     "data": {
      "text/plain": [
       "(4, 1)"
      ]
     },
     "execution_count": 13,
     "metadata": {},
     "output_type": "execute_result"
    }
   ],
   "source": [
    "b_1.shape"
   ]
  },
  {
   "cell_type": "code",
   "execution_count": null,
   "metadata": {},
   "outputs": [],
   "source": [
    "K,S,E = lqr(A_1,b_1,10000*np.eye(4),1000)"
   ]
  },
  {
   "cell_type": "code",
   "execution_count": 13,
   "metadata": {},
   "outputs": [],
   "source": [
    "def circle(x,y,r):\n",
    "    ang = np.arange(0,2*np.pi,0.01)\n",
    "    xp = r*np.cos(ang)\n",
    "    yp = r*np.sin(ang)\n",
    "    plt.plot(x+xp,y+yp,color='k',linewidth=2)"
   ]
  },
  {
   "cell_type": "code",
   "execution_count": 14,
   "metadata": {},
   "outputs": [],
   "source": [
    "def controller(params,t,X):\n",
    "    k = -np.array([.0089,1.0553,.0112,.125])\n",
    "    u = -mm(k,X)\n",
    "    return u"
   ]
  },
  {
   "cell_type": "code",
   "execution_count": 15,
   "metadata": {},
   "outputs": [],
   "source": [
    "def dynamics(params,t,X):\n",
    "    Xd = np.zeros(X.shape);\n",
    "    th,phi,dth,dphi = X[0],X[1],X[2],X[3]\n",
    "    u = controller(params,t,X)\n",
    "    Xd[:2] = X[2:]\n",
    "    Xd[2:] = eom(params,th,phi,dth,dphi,u)\n",
    "    return Xd\n",
    "def robotSim():\n",
    "    params = {}; params['g'] = 9.81\n",
    "    params['mr'] = .25; params['ir'] = .0001\n",
    "    params['d'] = .1; params['r'] = .02\n",
    "    t0,t1 = 0,2; y0 = np.array([0,1,0,0])\n",
    "    t = np.linspace(t0,t1,445)\n",
    "    y = np.zeros((len(t),len(y0))); y[0,:] = y0\n",
    "    r = inte.ode(lambda t,y:dynamics(params,t,y)).set_integrator(\"dopri5\") \n",
    "    r.set_initial_value(y0, t0)   # initial values\n",
    "    for i in range(1, t.size):\n",
    "        y[i, :] = r.integrate(t[i]) # get one more value, add it to the array\n",
    "        if not r.successful():\n",
    "           raise RuntimeError(\"Could not integrate\")\n",
    "    return t,y"
   ]
  },
  {
   "cell_type": "code",
   "execution_count": 16,
   "metadata": {},
   "outputs": [
    {
     "data": {
      "text/plain": [
       "[<matplotlib.lines.Line2D at 0x1af1adbd5c8>]"
      ]
     },
     "execution_count": 16,
     "metadata": {},
     "output_type": "execute_result"
    },
    {
     "data": {
      "image/png": "[encoded data removed]",
      "text/plain": [
       "<Figure size 1440x720 with 4 Axes>"
      ]
     },
     "metadata": {
      "needs_background": "light"
     },
     "output_type": "display_data"
    }
   ],
   "source": [
    "t,y = robotSim()\n",
    "plt.figure(figsize=(20,10))\n",
    "plt.subplot(4,1,1)\n",
    "plt.plot(t,y[:,1])\n",
    "\n",
    "plt.subplot(4,1,2)\n",
    "plt.plot(t,y[:,3])\n",
    "\n",
    "plt.subplot(4,1,3)\n",
    "plt.plot(t,y[:,0])\n",
    "\n",
    "plt.subplot(4,1,4)\n",
    "plt.plot(t,y[:,2])"
   ]
  },
  {
   "cell_type": "code",
   "execution_count": 17,
   "metadata": {},
   "outputs": [
    {
     "data": {
      "image/png": "[encoded data removed]",
      "text/plain": [
       "<Figure size 1080x360 with 6 Axes>"
      ]
     },
     "metadata": {
      "needs_background": "light"
     },
     "output_type": "display_data"
    }
   ],
   "source": [
    "fig = plt.figure(figsize=(15,5))\n",
    "plt.ylim([-.3,.3]); plt.xlim([-2,2])\n",
    "j=0\n",
    "for i in np.array([0,20,40,60,80,100]):\n",
    "    ax = plt.subplot(3,2,j+1)\n",
    "    th,phi,dth,dphi = y[i,0],y[i,1],y[i,2],y[i,3]\n",
    "    x = th*.02\n",
    "    plt.ylim([-.3,.3]); plt.xlim([-2,2])\n",
    "    plt.gca().set_aspect('equal', adjustable='box')\n",
    "    ax.plot(np.array([x,x+.1*2*np.sin(phi)]),\n",
    "            np.array([0,2*.1*np.cos(phi)]),\n",
    "            color=.5*np.array([1,1,1]),linewidth=12)\n",
    "    circle(x,0,.02)\n",
    "    ax.plot(np.array([-2,2]),\n",
    "           np.array([-.02,-.02]),\n",
    "           color=.3*np.array([1,1,1]))  \n",
    "    j+=1"
   ]
  },
  {
   "cell_type": "code",
   "execution_count": null,
   "metadata": {},
   "outputs": [],
   "source": [
    "%matplotlib inline\n",
    "%load_ext autoreload\n",
    "%autoreload 2\n",
    "%matplotlib notebook\n",
    "\n",
    "fig = plt.figure(figsize=(10,10))\n",
    "plt.ylim([-.3,.3]); plt.xlim([-2,2])\n",
    "ax = plt.gca()\n",
    "plt.ion()\n",
    "fig.show()\n",
    "fig.canvas.draw()\n",
    "\n",
    "for i in range(len(t)):\n",
    "    th,phi,dth,dphi = y[i,0],y[i,1],y[i,2],y[i,3]\n",
    "    x = th*.02\n",
    "    ax.clear()\n",
    "    plt.ylim([-.3,.3]); plt.xlim([-2,2])\n",
    "    plt.gca().set_aspect('equal', adjustable='box')\n",
    "    ax.plot(np.array([x,x+.1*2*np.sin(phi)]),\n",
    "            np.array([0,2*.1*np.cos(phi)]),\n",
    "            color=.5*np.array([1,1,1]),linewidth=12)\n",
    "    circle(x,0,.02)\n",
    "    ax.plot(np.array([-2,2]),\n",
    "           np.array([-.02,-.02]),\n",
    "           color=.3*np.array([1,1,1]))\n",
    "    \n",
    "    fig.canvas.draw()"
   ]
  },
  {
   "cell_type": "code",
   "execution_count": null,
   "metadata": {},
   "outputs": [],
   "source": []
  }
 ],
 "metadata": {
  "kernelspec": {
   "display_name": "Python 3",
   "language": "python",
   "name": "python3"
  },
  "language_info": {
   "codemirror_mode": {
    "name": "ipython",
    "version": 3
   },
   "file_extension": ".py",
   "mimetype": "text/x-python",
   "name": "python",
   "nbconvert_exporter": "python",
   "pygments_lexer": "ipython3",
   "version": "3.7.4"
  }
 },
 "nbformat": 4,
 "nbformat_minor": 2
}
