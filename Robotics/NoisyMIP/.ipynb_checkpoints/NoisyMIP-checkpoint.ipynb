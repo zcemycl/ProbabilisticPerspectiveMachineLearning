{
 "cells": [
  {
   "cell_type": "code",
   "execution_count": 15,
   "metadata": {},
   "outputs": [],
   "source": [
    "import numpy as np\n",
    "import matplotlib.pyplot as plt\n",
    "import math\n",
    "import scipy.integrate as inte\n",
    "from numpy import matmul as mm\n",
    "from scipy.linalg import cho_factor,cho_solve\n",
    "\n",
    "def circle(x,y,r):\n",
    "    ang = np.arange(0,2*np.pi,0.01)\n",
    "    xp = r*np.cos(ang)\n",
    "    yp = r*np.sin(ang)\n",
    "    plt.plot(x+xp,y+yp,color='k',linewidth=2)"
   ]
  },
  {
   "cell_type": "code",
   "execution_count": 17,
   "metadata": {},
   "outputs": [],
   "source": [
    "def rdivide(A,B):\n",
    "    c,low = cho_factor(B.T)\n",
    "    C = cho_solve((c,low),A.T).T\n",
    "    return C\n",
    "def ldivide(A,B):\n",
    "    c,low = cho_factor(A)\n",
    "    C = cho_solve((c,low),B)\n",
    "    return C"
   ]
  },
  {
   "cell_type": "code",
   "execution_count": 23,
   "metadata": {},
   "outputs": [],
   "source": [
    "class newstate():\n",
    "    def __init__(self):\n",
    "        self.newstate = 0\n",
    "        self.t_last = 0\n",
    "    def __call__(self,t,phi):\n",
    "        dt = self.t_last-t\n",
    "        self.newstate = self.newstate+dt*phi\n",
    "        self.t_last = t\n",
    "        return self.newstate\n",
    "    \n",
    "class EKFstate():\n",
    "    def __init__(self,t):\n",
    "        self.P = 1e-3*np.eye(2)\n",
    "        self.xhat = np.zeros((2,1000000))\n",
    "        self.time2 = t\n",
    "        self.k = 0\n",
    "    def __call__(self,t,z):\n",
    "        self.k += 1\n",
    "        Q = np.diag([10000,.7])\n",
    "        R = np.diag([.001,.05,30])\n",
    "        dt = t-self.time2\n",
    "        self.time2 = t\n",
    "        A = np.array([[1,dt],[0,1]])\n",
    "        self.xhat[:,self.k] = mm(A,self.xhat[:,self.k-1])\n",
    "        self.P = mm(mm(A,self.P),A.T)+Q\n",
    "        H = np.array([[np.cos(self.xhat[0,self.k-1]),0],\n",
    "                      [-np.sin(self.xhat[0,self.k-1]),0],\n",
    "                      [0,1]])\n",
    "        h = np.array([[np.sin(self.xhat[0,self.k-1])],\n",
    "                      [-np.sin(self.xhat[0,self.k-1])],\n",
    "                      [self.xhat[1,self.k-1]]])\n",
    "        K = rdivide(mm(self.P,H.T),\n",
    "                    mm(mm(H,self.P),H.T)+R)\n",
    "        self.xhat[:,self.k] = self.xhat[:,self.k] + mm(K,z-h).squeeze()\n",
    "        self.P = mm(np.eye(2)-mm(K,H),self.P)\n",
    "        return self.xhat[:,self.k]"
   ]
  },
  {
   "cell_type": "code",
   "execution_count": 28,
   "metadata": {},
   "outputs": [],
   "source": [
    "def controllerNoisy(params,t,phi,dphi,ns,EKFs):\n",
    "    z = np.array([[np.sin(phi)],[np.cos(phi)],[dphi]])\n",
    "    xhat = EKFs(t,z)\n",
    "    phi,dphi = xhat[0],xhat[1]\n",
    "    newstate = ns(t,phi)\n",
    "    kp,kd,ki = 32,2,1100\n",
    "    u = kp*phi + kd*dphi - ki*newstate    \n",
    "    return u\n",
    "def eom(params,th,phi,dth,dphi,u):\n",
    "    A = params['mr']*params['r']*params['d']*np.cos(phi)\n",
    "    B = params['ir']+params['mr']*(params['d']**2)\n",
    "    C = params['mr']*params['g']*params['d']\n",
    "    D = params['mr']*(params['r']**2)\n",
    "    E = params['r']*params['mr']*params['d']*np.cos(phi) \n",
    "    F = params['mr']*params['r']*params['d']\n",
    "    tau = u\n",
    "    tmp1 = A*F*np.sin(phi)*dphi**2-C*D*np.sin(phi)+(A+D)*tau\n",
    "    tmp2 = A*E-B*D; phidd = tmp1/tmp2\n",
    "    thdd = -((A+B)*phidd-C*np.sin(phi)+tau)/A\n",
    "    qdd = np.array([thdd,phidd])\n",
    "    return qdd\n",
    "def dynamics(params,t,X,ns,EKFs):\n",
    "    Xd = np.zeros(X.shape);\n",
    "    th,phi,dth,dphi = X[0],X[1],X[2],X[3]\n",
    "    u = controllerNoisy(params,t,phi,dphi,ns,EKFs)\n",
    "    Xd[:2] = X[2:]\n",
    "    Xd[2:] = eom(params,th,phi,dth,dphi,u)\n",
    "    return Xd\n",
    "def robotSim():\n",
    "    params = {}; params['g'] = 9.81\n",
    "    params['mr'] = .25; params['ir'] = .0001\n",
    "    params['d'] = .1; params['r'] = .02\n",
    "    params['phiNoise'] = .01\n",
    "    params['dphiNoise'] = .01\n",
    "    timestep = .001\n",
    "    t0,t1 = 0,2; y0 = np.array([0,1,0,0])\n",
    "    t = np.linspace(t0,t1,2000)\n",
    "    y = np.zeros((len(t),len(y0))); y[0,:] = y0\n",
    "    ns = newstate()\n",
    "    EKFs = EKFstate(t0)\n",
    "    r=inte.ode(lambda t,y:dynamics(params,t,y,ns,EKFs)).set_integrator(\"dopri5\")\n",
    "    for l in np.arange(0,t1-timestep,timestep):\n",
    "        r.set_initial_value(y0, l)   # initial values\n",
    "        for i in range(1, t.size):\n",
    "            y[i, :] = r.integrate(t[i]) \n",
    "            if not r.successful():\n",
    "                break\n",
    "                raise RuntimeError(\"Could not integrate\")\n",
    "        y0 = y[-1,:]\n",
    "        y0[1] += params['phiNoise']*np.random.normal(0,1,1)\n",
    "        y0[3] += params['dphiNoise']*np.random.normal(0,1,1)\n",
    "        \n",
    "        if l == 0:\n",
    "            yout,tout = y,t\n",
    "        else:\n",
    "            yout = np.vstack((yout,y))\n",
    "            tout = np.vstack((tout,t))\n",
    "    return tout,yout"
   ]
  },
  {
   "cell_type": "code",
   "execution_count": 30,
   "metadata": {},
   "outputs": [
    {
     "name": "stderr",
     "output_type": "stream",
     "text": [
      "C:\\Users\\44754\\Anaconda3\\lib\\site-packages\\scipy\\integrate\\_ode.py:1177: UserWarning: dopri5: step size becomes too small\n",
      "  self.messages.get(istate, unexpected_istate_msg)))\n"
     ]
    }
   ],
   "source": [
    "t,y = robotSim()"
   ]
  },
  {
   "cell_type": "code",
   "execution_count": 36,
   "metadata": {},
   "outputs": [
    {
     "data": {
      "text/plain": [
       "[<matplotlib.lines.Line2D at 0x27949e43d48>]"
      ]
     },
     "execution_count": 36,
     "metadata": {},
     "output_type": "execute_result"
    },
    {
     "data": {
      "image/png": "[encoded data removed]",
      "text/plain": [
       "<Figure size 1440x720 with 3 Axes>"
      ]
     },
     "metadata": {
      "needs_background": "light"
     },
     "output_type": "display_data"
    }
   ],
   "source": [
    "plt.figure(figsize=(20,10))\n",
    "plt.subplot(4,1,1)\n",
    "plt.plot(t.flatten()[:400],y[:400,1])\n",
    "# plt.plot([t.min(),t.max()],[0,0],'k--')\n",
    "\n",
    "plt.subplot(4,1,2)\n",
    "plt.plot(t.flatten()[:400],y[:400,3])\n",
    "# plt.plot([t.min(),t.max()],[0,0],'k--')\n",
    "\n",
    "plt.subplot(4,1,3)\n",
    "plt.plot(t.flatten()[:400],y[:400,0])\n",
    "\n",
    "# plt.subplot(4,1,4)\n",
    "# plt.plot(t.flatten(),y[:,2])"
   ]
  },
  {
   "cell_type": "code",
   "execution_count": 34,
   "metadata": {},
   "outputs": [
    {
     "data": {
      "text/plain": [
       "(3998000,)"
      ]
     },
     "execution_count": 34,
     "metadata": {},
     "output_type": "execute_result"
    }
   ],
   "source": [
    "t.flatten().shape"
   ]
  },
  {
   "cell_type": "code",
   "execution_count": null,
   "metadata": {},
   "outputs": [],
   "source": []
  }
 ],
 "metadata": {
  "kernelspec": {
   "display_name": "Python 3",
   "language": "python",
   "name": "python3"
  },
  "language_info": {
   "codemirror_mode": {
    "name": "ipython",
    "version": 3
   },
   "file_extension": ".py",
   "mimetype": "text/x-python",
   "name": "python",
   "nbconvert_exporter": "python",
   "pygments_lexer": "ipython3",
   "version": "3.7.4"
  }
 },
 "nbformat": 4,
 "nbformat_minor": 2
}
