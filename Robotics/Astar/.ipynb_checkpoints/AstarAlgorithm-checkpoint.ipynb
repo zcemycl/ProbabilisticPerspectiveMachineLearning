{
 "cells": [
  {
   "cell_type": "code",
   "execution_count": 1,
   "metadata": {},
   "outputs": [],
   "source": [
    "import numpy as np\n",
    "import matplotlib.pyplot as plt\n",
    "import math\n",
    "from IPython.display import display, clear_output\n",
    "import time\n",
    "%matplotlib inline\n",
    "%load_ext autoreload\n",
    "%autoreload 2\n",
    "%matplotlib notebook\n",
    "def GridLine():\n",
    "    ax = plt.gca();\n",
    "    # Major ticks\n",
    "    ax.set_xticks(np.arange(0, 10, 1));\n",
    "    ax.set_yticks(np.arange(0, 10, 1));\n",
    "    # Labels for major ticks\n",
    "    ax.set_xticklabels(np.arange(1, 11, 1));\n",
    "    ax.set_yticklabels(np.arange(1, 11, 1));\n",
    "    # Minor ticks\n",
    "    ax.set_xticks(np.arange(-.5, 10, 1), minor=True);\n",
    "    ax.set_yticks(np.arange(-.5, 10, 1), minor=True);\n",
    "    # Gridlines based on minor ticks\n",
    "    ax.grid(which='minor', color='w', linestyle='-', linewidth=2)\n",
    "    return ax"
   ]
  },
  {
   "cell_type": "code",
   "execution_count": 2,
   "metadata": {},
   "outputs": [],
   "source": [
    "class AstarDemo:\n",
    "    def __init__(self,mmap,start,dest,draw=True):\n",
    "        self.inputmap = mmap\n",
    "        self.start = start\n",
    "        self.dest = dest\n",
    "        self.draw = draw\n",
    "    def AstarGrid(self):\n",
    "        # Initialization\n",
    "        nrows,ncols = self.inputmap.shape\n",
    "        statemap = np.zeros((nrows,ncols))\n",
    "        statemap[self.inputmap==0] = 1\n",
    "        statemap[self.inputmap==1] = 2\n",
    "        statemap[self.start] = 5\n",
    "        statemap[self.dest] = 6\n",
    "        parentArray = np.zeros((nrows,ncols))\n",
    "        X,Y = np.meshgrid(np.linspace(0,nrows-1,nrows),\n",
    "                         np.linspace(0,ncols-1,ncols))\n",
    "        H=np.abs(X-self.dest[0])+np.abs(Y-self.dest[1])\n",
    "        H=H.T\n",
    "        \n",
    "        f = np.ones((nrows,ncols))*np.inf\n",
    "        g = np.ones((nrows,ncols))*np.inf\n",
    "        g[self.start] = 0\n",
    "        f[self.start] = H[self.start]\n",
    "        \n",
    "        numExpanded = 0\n",
    "        \n",
    "        loc = np.array([[self.start[0],self.dest[0]],\n",
    "                        [self.start[1],self.dest[1]]])\n",
    "        st_node = np.ravel_multi_index(loc,(nrows,ncols))\n",
    "        \n",
    "        fig = plt.figure()\n",
    "        ax = plt.gca()\n",
    "        plt.ion()\n",
    "        fig.show()\n",
    "        fig.canvas.draw()\n",
    "        \n",
    "        epoch = 0\n",
    "        \n",
    "        while True:\n",
    "            statemap[self.start] = 5\n",
    "            statemap[self.dest] = 6\n",
    "             \n",
    "            if self.draw:\n",
    "                ax.clear()\n",
    "                ax.imshow(statemap)\n",
    "                GridLine()\n",
    "                fig.canvas.draw()\n",
    "            \n",
    "            min_dist = np.amin(f.flatten())\n",
    "            current = np.argmin(f.flatten())\n",
    "            \n",
    "            if (current==st_node[-1]) or np.isinf(min_dist):\n",
    "                break\n",
    "            \n",
    "            current_ind = np.unravel_index(current,(10,10))\n",
    "            statemap[current_ind] = 3\n",
    "            f[current_ind] = np.inf\n",
    "            numExpanded += 1\n",
    "            \n",
    "            i = current_ind[0]; j = current_ind[1]\n",
    "            for jw in range(j-1,j+2,2):\n",
    "                if i>=0 and i<=nrows-1 and jw>=0 and jw<=ncols-1:\n",
    "                    if (statemap[i,jw]==1) or (statemap[i,jw]==6):\n",
    "                        statemap[i,jw] = 4\n",
    "                        g[i,jw] = g[i,j]+1\n",
    "                        f[i,jw] = g[i,j]+H[i,j]\n",
    "                        parentArray[i,jw] = current\n",
    "            \n",
    "            for iw in range(i-1,i+2,2):\n",
    "                if iw>=0 and iw<=nrows-1 and j>=0 and j<=ncols-1:\n",
    "                    if (statemap[iw,j]==1) or (statemap[iw,j]==6):\n",
    "                        statemap[iw,j] = 4\n",
    "                        g[iw,j] = g[i,j]+1\n",
    "                        f[iw,j] = g[i,j]+H[i,j]\n",
    "                        parentArray[iw,j] = current\n",
    "        route = []\n",
    "        route.append(self.dest)\n",
    "        while parentArray[route[-1]] != 0:\n",
    "            traceIdx = np.unravel_index(int(parentArray[route[-1]]),(10,10))\n",
    "            route.append(traceIdx)\n",
    "\n",
    "\n",
    "        for i in range(len(route)-2,0,-1):\n",
    "            statemap[route[i]] = 7\n",
    "\n",
    "            if self.draw:\n",
    "                ax.clear()\n",
    "                ax.imshow(statemap)\n",
    "                GridLine()\n",
    "                fig.canvas.draw()\n",
    "\n",
    "     \n",
    "        return statemap,route,parentArray,f,g"
   ]
  },
  {
   "cell_type": "code",
   "execution_count": 3,
   "metadata": {},
   "outputs": [
    {
     "name": "stderr",
     "output_type": "stream",
     "text": [
      "C:\\Users\\44754\\Anaconda3\\lib\\site-packages\\ipykernel_launcher.py:35: UserWarning: Matplotlib is currently using module://ipykernel.pylab.backend_inline, which is a non-GUI backend, so cannot show the figure.\n"
     ]
    },
    {
     "data": {
      "image/png": "[encoded data removed]",
      "text/plain": [
       "<Figure size 432x288 with 1 Axes>"
      ]
     },
     "metadata": {
      "needs_background": "light"
     },
     "output_type": "display_data"
    }
   ],
   "source": [
    "mmap = np.ones((10,10))*False\n",
    "mmap[:5,6] = True\n",
    "demo = AstarDemo(mmap,(5,1),(7,8))\n",
    "statemap,route,parentArray,f,g = demo.AstarGrid()"
   ]
  },
  {
   "cell_type": "code",
   "execution_count": null,
   "metadata": {},
   "outputs": [],
   "source": []
  }
 ],
 "metadata": {
  "kernelspec": {
   "display_name": "Python 3",
   "language": "python",
   "name": "python3"
  },
  "language_info": {
   "codemirror_mode": {
    "name": "ipython",
    "version": 3
   },
   "file_extension": ".py",
   "mimetype": "text/x-python",
   "name": "python",
   "nbconvert_exporter": "python",
   "pygments_lexer": "ipython3",
   "version": "3.7.4"
  }
 },
 "nbformat": 4,
 "nbformat_minor": 2
}
