{
 "cells": [
  {
   "cell_type": "code",
   "execution_count": 1,
   "metadata": {},
   "outputs": [],
   "source": [
    "import numpy as np\n",
    "import matplotlib.pyplot as plt\n",
    "import math"
   ]
  },
  {
   "cell_type": "code",
   "execution_count": 63,
   "metadata": {},
   "outputs": [],
   "source": [
    "def GridLine():\n",
    "    ax = plt.gca();\n",
    "    # Major ticks\n",
    "    ax.set_xticks(np.arange(0, 10, 1));\n",
    "    ax.set_yticks(np.arange(0, 10, 1));\n",
    "    # Labels for major ticks\n",
    "    ax.set_xticklabels(np.arange(1, 11, 1));\n",
    "    ax.set_yticklabels(np.arange(1, 11, 1));\n",
    "    # Minor ticks\n",
    "    ax.set_xticks(np.arange(-.5, 10, 1), minor=True);\n",
    "    ax.set_yticks(np.arange(-.5, 10, 1), minor=True);\n",
    "    # Gridlines based on minor ticks\n",
    "    ax.grid(which='minor', color='w', linestyle='-', linewidth=2)\n",
    "    return ax"
   ]
  },
  {
   "cell_type": "code",
   "execution_count": 137,
   "metadata": {},
   "outputs": [],
   "source": [
    "class DijkstraDemo:\n",
    "    def __init__(self,mmap,start,dest,draw=True):\n",
    "        self.inputmap = mmap\n",
    "        self.start = start\n",
    "        self.dest = dest\n",
    "        self.draw = draw\n",
    "    def DijkstraGrid(self):\n",
    "        # Initialization\n",
    "        nrows,ncols = self.inputmap.shape\n",
    "        statemap = np.zeros((nrows,ncols))\n",
    "        statemap[self.inputmap==0] = 1\n",
    "        statemap[self.inputmap==1] = 2\n",
    "        statemap[self.start] = 5\n",
    "        statemap[self.dest] = 6\n",
    "        distanceArray = np.ones((nrows,ncols))*np.inf\n",
    "        distanceArray[self.start[0],self.start[1]]=0\n",
    "        parentArray = np.zeros((nrows,ncols))\n",
    "        numExpanded = 0\n",
    "        \n",
    "        loc = np.array([[self.start[0],self.dest[0]],[self.start[1],self.dest[1]]])\n",
    "        st_node = np.ravel_multi_index(loc,(nrows,ncols))\n",
    "        \n",
    "        while True:\n",
    "            statemap[self.start] = 5\n",
    "            statemap[self.dest] = 6\n",
    "             \n",
    "            if self.draw:\n",
    "                pass\n",
    "            \n",
    "            min_dist = np.amin(distanceArray.flatten())\n",
    "            current = np.argmin(distanceArray.flatten())\n",
    "            \n",
    "            if (current==st_node[-1]) or np.isinf(min_dist):\n",
    "                break\n",
    "            \n",
    "            current_ind = np.unravel_index(current,(10,10))\n",
    "            statemap[current_ind] = 3\n",
    "            distanceArray[current_ind] = np.inf\n",
    "            numExpanded += 1\n",
    "            \n",
    "            i = current_ind[0]; j = current_ind[1]\n",
    "            for jw in range(j-1,j+2,2):\n",
    "                if i>=0 and i<=nrows-1 and jw>=0 and jw<=ncols-1:\n",
    "                    if (statemap[i,jw]==1) or (statemap[i,jw]==6):\n",
    "                        statemap[i,jw] = 4\n",
    "                        distanceArray[i,jw] = min_dist+1\n",
    "                        parentArray[i,jw] = current\n",
    "            \n",
    "            for iw in range(i-1,i+2,2):\n",
    "                if iw>=0 and iw<=nrows-1 and j>=0 and j<=ncols-1:\n",
    "                    if (statemap[iw,j]==1) or (statemap[iw,j]==6):\n",
    "                        statemap[iw,j] = 4\n",
    "                        distanceArray[iw,j] = min_dist+1\n",
    "                        parentArray[iw,j] = current\n",
    "        \n",
    "        return statemap,parentArray,distanceArray\n",
    "    #def findroute(self,):\n",
    "        "
   ]
  },
  {
   "cell_type": "code",
   "execution_count": 139,
   "metadata": {
    "scrolled": true
   },
   "outputs": [
    {
     "data": {
      "text/plain": [
       "<matplotlib.axes._subplots.AxesSubplot at 0x1be84201ec8>"
      ]
     },
     "execution_count": 139,
     "metadata": {},
     "output_type": "execute_result"
    },
    {
     "data": {
      "image/png": "[encoded data removed]",
      "text/plain": [
       "<Figure size 432x288 with 4 Axes>"
      ]
     },
     "metadata": {
      "needs_background": "light"
     },
     "output_type": "display_data"
    }
   ],
   "source": [
    "mmap = np.ones((10,10))*False\n",
    "mmap[:5,6] = True\n",
    "demo = DijkstraDemo(mmap,(5,1),(7,8))\n",
    "statemap,parentmap,distancemap = demo.DijkstraGrid()\n",
    "plt.subplot(2,2,1); plt.imshow(mmap); GridLine()\n",
    "plt.subplot(2,2,2); plt.imshow(statemap); GridLine()\n",
    "plt.subplot(2,2,3); plt.imshow(parentmap); GridLine()\n",
    "plt.subplot(2,2,4); plt.imshow(distancemap); GridLine()"
   ]
  },
  {
   "cell_type": "code",
   "execution_count": null,
   "metadata": {},
   "outputs": [],
   "source": []
  }
 ],
 "metadata": {
  "kernelspec": {
   "display_name": "Python 3",
   "language": "python",
   "name": "python3"
  },
  "language_info": {
   "codemirror_mode": {
    "name": "ipython",
    "version": 3
   },
   "file_extension": ".py",
   "mimetype": "text/x-python",
   "name": "python",
   "nbconvert_exporter": "python",
   "pygments_lexer": "ipython3",
   "version": "3.7.4"
  }
 },
 "nbformat": 4,
 "nbformat_minor": 2
}
