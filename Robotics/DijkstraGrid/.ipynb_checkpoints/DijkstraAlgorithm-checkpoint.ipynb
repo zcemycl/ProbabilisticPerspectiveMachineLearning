{
 "cells": [
  {
   "cell_type": "code",
   "execution_count": 1,
   "metadata": {},
   "outputs": [],
   "source": [
    "import numpy as np\n",
    "import matplotlib.pyplot as plt\n",
    "import math"
   ]
  },
  {
   "cell_type": "code",
   "execution_count": 63,
   "metadata": {},
   "outputs": [],
   "source": [
    "def GridLine():\n",
    "    ax = plt.gca();\n",
    "    # Major ticks\n",
    "    ax.set_xticks(np.arange(0, 10, 1));\n",
    "    ax.set_yticks(np.arange(0, 10, 1));\n",
    "    # Labels for major ticks\n",
    "    ax.set_xticklabels(np.arange(1, 11, 1));\n",
    "    ax.set_yticklabels(np.arange(1, 11, 1));\n",
    "    # Minor ticks\n",
    "    ax.set_xticks(np.arange(-.5, 10, 1), minor=True);\n",
    "    ax.set_yticks(np.arange(-.5, 10, 1), minor=True);\n",
    "    # Gridlines based on minor ticks\n",
    "    ax.grid(which='minor', color='w', linestyle='-', linewidth=2)\n",
    "    return ax"
   ]
  },
  {
   "cell_type": "code",
   "execution_count": 64,
   "metadata": {
    "scrolled": true
   },
   "outputs": [
    {
     "data": {
      "text/plain": [
       "<matplotlib.axes._subplots.AxesSubplot at 0x1beffd9de48>"
      ]
     },
     "execution_count": 64,
     "metadata": {},
     "output_type": "execute_result"
    },
    {
     "data": {
      "image/png": "[encoded data removed]",
      "text/plain": [
       "<Figure size 432x288 with 1 Axes>"
      ]
     },
     "metadata": {
      "needs_background": "light"
     },
     "output_type": "display_data"
    }
   ],
   "source": [
    "mmap = np.ones((10,10))*False\n",
    "mmap[:5,6] = True\n",
    "plt.imshow(mmap)\n",
    "mmap.shape\n",
    "GridLine()"
   ]
  },
  {
   "cell_type": "code",
   "execution_count": 73,
   "metadata": {},
   "outputs": [],
   "source": [
    "class DijkstraDemo:\n",
    "    def __init__(self,mmap,start,dest,draw=True):\n",
    "        self.inputmap = mmap\n",
    "        self.start = start\n",
    "        self.dest = dest\n",
    "        self.draw = draw\n",
    "    def DijkstraGrid(self):\n",
    "        # Initialization\n",
    "        nrows,ncols = self.inputmap.shape\n",
    "        statemap = np.zeros((nrows,ncols))\n",
    "        statemap[self.inputmap==0] = 1\n",
    "        statemap[self.inputmap==1] = 2\n",
    "        statemap[self.start[0],self.start[1]] = 5\n",
    "        statemap[self.dest[0],self.dest[1]] = 6\n",
    "        distanceArray = np.ones((nrows,ncols))*np.inf\n",
    "        distanceArray[self.start[0],self.start[1]]=0\n",
    "        parentArray = np.zeros((nrows,ncols))\n",
    "        numExpanded = 0\n",
    "        \n",
    "        loc = np.array([[self.start[1],self.dest[1]],[self.start[0],self.dest[0]]])\n",
    "        st_node = np.ravel_multi_index(loc,(nrows,ncols))\n",
    "        \n",
    "        while True:\n",
    "            \n",
    "            break\n",
    "            \n",
    "            \n",
    "        \n",
    "        \n",
    "        \n",
    "        return statemap,distanceArray"
   ]
  },
  {
   "cell_type": "code",
   "execution_count": 74,
   "metadata": {
    "scrolled": true
   },
   "outputs": [
    {
     "data": {
      "text/plain": [
       "<matplotlib.axes._subplots.AxesSubplot at 0x1be80ff75c8>"
      ]
     },
     "execution_count": 74,
     "metadata": {},
     "output_type": "execute_result"
    },
    {
     "data": {
      "image/png": "[encoded data removed]",
      "text/plain": [
       "<Figure size 432x288 with 1 Axes>"
      ]
     },
     "metadata": {
      "needs_background": "light"
     },
     "output_type": "display_data"
    }
   ],
   "source": [
    "demo = DijkstraDemo(mmap,[5,1],[7,8])\n",
    "statemap,tmp = demo.DijkstraGrid()\n",
    "plt.imshow(statemap)\n",
    "GridLine()"
   ]
  },
  {
   "cell_type": "code",
   "execution_count": 72,
   "metadata": {},
   "outputs": [
    {
     "data": {
      "text/plain": [
       "<matplotlib.image.AxesImage at 0x1be80fd14c8>"
      ]
     },
     "execution_count": 72,
     "metadata": {},
     "output_type": "execute_result"
    },
    {
     "data": {
      "image/png": "[encoded data removed]",
      "text/plain": [
       "<Figure size 432x288 with 1 Axes>"
      ]
     },
     "metadata": {
      "needs_background": "light"
     },
     "output_type": "display_data"
    }
   ],
   "source": [
    "plt.imshow(tmp)"
   ]
  },
  {
   "cell_type": "code",
   "execution_count": 60,
   "metadata": {},
   "outputs": [
    {
     "data": {
      "text/plain": [
       "array([15], dtype=int64)"
      ]
     },
     "execution_count": 60,
     "metadata": {},
     "output_type": "execute_result"
    }
   ],
   "source": [
    "np.ravel_multi_index(np.array([[1],[5]]),(10,10))"
   ]
  },
  {
   "cell_type": "code",
   "execution_count": 57,
   "metadata": {},
   "outputs": [
    {
     "data": {
      "text/plain": [
       "5.0"
      ]
     },
     "execution_count": 57,
     "metadata": {},
     "output_type": "execute_result"
    }
   ],
   "source": [
    "statemap[5,1]"
   ]
  },
  {
   "cell_type": "code",
   "execution_count": null,
   "metadata": {},
   "outputs": [],
   "source": []
  }
 ],
 "metadata": {
  "kernelspec": {
   "display_name": "Python 3",
   "language": "python",
   "name": "python3"
  },
  "language_info": {
   "codemirror_mode": {
    "name": "ipython",
    "version": 3
   },
   "file_extension": ".py",
   "mimetype": "text/x-python",
   "name": "python",
   "nbconvert_exporter": "python",
   "pygments_lexer": "ipython3",
   "version": "3.7.4"
  }
 },
 "nbformat": 4,
 "nbformat_minor": 2
}
