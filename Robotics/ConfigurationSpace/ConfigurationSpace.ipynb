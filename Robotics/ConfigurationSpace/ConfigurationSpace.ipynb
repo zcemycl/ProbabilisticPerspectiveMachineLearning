{
 "cells": [
  {
   "cell_type": "code",
   "execution_count": 1,
   "metadata": {},
   "outputs": [],
   "source": [
    "import numpy as np\n",
    "import matplotlib.pyplot as plt\n",
    "import math\n",
    "import scipy.integrate as inte\n",
    "import matplotlib\n",
    "from matplotlib.patches import Polygon\n",
    "from matplotlib.collections import PatchCollection\n",
    "from numpy import matmul as mm"
   ]
  },
  {
   "cell_type": "code",
   "execution_count": 2,
   "metadata": {},
   "outputs": [],
   "source": [
    "def sind(theta):\n",
    "    return np.sin(theta/180*np.pi)\n",
    "def cosd(theta):\n",
    "    return np.cos(theta/180*np.pi)"
   ]
  },
  {
   "cell_type": "code",
   "execution_count": 64,
   "metadata": {},
   "outputs": [
    {
     "data": {
      "text/plain": [
       "<matplotlib.collections.PatchCollection at 0x177829398c8>"
      ]
     },
     "execution_count": 64,
     "metadata": {},
     "output_type": "execute_result"
    },
    {
     "data": {
      "image/png": "[encoded data removed]",
      "text/plain": [
       "<Figure size 432x288 with 1 Axes>"
      ]
     },
     "metadata": {
      "needs_background": "light"
     },
     "output_type": "display_data"
    }
   ],
   "source": [
    "fig, ax = plt.subplots()\n",
    "patches = []\n",
    "num_polygons = 1\n",
    "num_sides = 4\n",
    "\n",
    "for i in range(num_polygons):\n",
    "    tmp = np.array([[.5,.5],[.5,1],[1,1],[1,.5]])\n",
    "    polygon = Polygon(tmp, True)\n",
    "    patches.append(polygon)\n",
    "\n",
    "p = PatchCollection(patches, cmap=matplotlib.cm.jet, alpha=0.4)\n",
    "\n",
    "colors = 100*np.random.rand(len(patches))\n",
    "p.set_array(np.array(colors))\n",
    "\n",
    "ax.add_collection(p)"
   ]
  },
  {
   "cell_type": "code",
   "execution_count": 12,
   "metadata": {},
   "outputs": [
    {
     "name": "stdout",
     "output_type": "stream",
     "text": [
      "Polygon6((0.0221904, 0.89367) ...)\n"
     ]
    }
   ],
   "source": [
    "print(patches[0])"
   ]
  },
  {
   "cell_type": "code",
   "execution_count": 4,
   "metadata": {},
   "outputs": [],
   "source": [
    "def appendFV(fv1,fv2):\n",
    "    n1 = fv1['vertices'].shape[0]\n",
    "    fv3 = {}\n",
    "    fv3['vertices'] = np.vstack((fv1['vertices'],fv2['vertices']))\n",
    "    fv3['faces'] = np.vstack((fv1['faces'],fv2['faces']+n1))\n",
    "    return fv3\n",
    "def transformFV(fv,theta,t):\n",
    "    out = {}\n",
    "    out['faces'] = fv['faces']\n",
    "    c = cosd(theta)\n",
    "    s = sind(theta)\n",
    "    out['vertices'] = mm(fv['vertices'],np.array([[c,s],[-s,c]]))+t.reshape(1,-1)\n",
    "    return out\n",
    "def TwoLinkRobot(cspace_coordinates):\n",
    "    w,l,w2,l2 = .5,5,.75,1\n",
    "    link1,endeffector = {},{}\n",
    "    link1['vertices']=np.array([[0,-w],[l,-w],[l,w],[0,w]])\n",
    "    link1['faces']=np.array([[1,2,3],[1,3,4]])\n",
    "    endeffector['vertices'] = np.array([[0,-w2],[l2,-w2],\n",
    "                                       [0,w2],[l2,w2]])\n",
    "    endeffector['faces'] = np.array([[1,2,3],[1,3,4]])\n",
    "    link2 = appendFV(link1,transformFV(endeffector,0,np.array([l,0])))\n",
    "    link2 = transformFV(link2,cspace_coordinates[0],np.array([l,0]))\n",
    "    fv = appendFV(link1,link2)\n",
    "    fv = transformFV(fv,cspace_coordinates[1],np.array([0,0]))\n",
    "    return fv"
   ]
  },
  {
   "cell_type": "code",
   "execution_count": 21,
   "metadata": {},
   "outputs": [
    {
     "name": "stdout",
     "output_type": "stream",
     "text": [
      "[[ 1  2  3]\n",
      " [ 1  3  4]\n",
      " [ 5  6  7]\n",
      " [ 5  7  8]\n",
      " [ 9 10 11]\n",
      " [ 9 11 12]]\n",
      "[[ 5.00000000e-01 -3.06161700e-17]\n",
      " [ 5.00000000e-01  5.00000000e+00]\n",
      " [-5.00000000e-01  5.00000000e+00]\n",
      " [-5.00000000e-01  3.06161700e-17]\n",
      " [ 4.33012702e-01  4.75000000e+00]\n",
      " [ 2.93301270e+00  9.08012702e+00]\n",
      " [ 2.06698730e+00  9.58012702e+00]\n",
      " [-4.33012702e-01  5.25000000e+00]\n",
      " [ 3.14951905e+00  8.95512702e+00]\n",
      " [ 3.64951905e+00  9.82115242e+00]\n",
      " [ 1.85048095e+00  9.70512702e+00]\n",
      " [ 2.35048095e+00  1.05711524e+01]]\n"
     ]
    }
   ],
   "source": [
    "fv = TwoLinkRobot(np.array([330,90]))\n",
    "sz = 12\n",
    "print(fv['faces'])\n",
    "print(fv['vertices'])"
   ]
  },
  {
   "cell_type": "code",
   "execution_count": 75,
   "metadata": {},
   "outputs": [
    {
     "data": {
      "text/plain": [
       "(-0.7074759526419166,\n",
       " 3.8569950054802487,\n",
       " -0.5285576211353316,\n",
       " 11.099710043841961)"
      ]
     },
     "execution_count": 75,
     "metadata": {},
     "output_type": "execute_result"
    },
    {
     "data": {
      "image/png": "[encoded data removed]",
      "text/plain": [
       "<Figure size 432x288 with 1 Axes>"
      ]
     },
     "metadata": {
      "needs_background": "light"
     },
     "output_type": "display_data"
    }
   ],
   "source": [
    "fig, ax = plt.subplots()\n",
    "for i in range(3):\n",
    "    pgon = plt.Polygon(fv['vertices'][4*i:4*(i+1)])\n",
    "    ax.add_patch(pgon)\n",
    "ax.set_xlim([-5, 5])\n",
    "ax.set_ylim([0, 15])\n",
    "plt.axis('equal')"
   ]
  },
  {
   "cell_type": "code",
   "execution_count": 65,
   "metadata": {},
   "outputs": [
    {
     "data": {
      "text/plain": [
       "(0, 15)"
      ]
     },
     "execution_count": 65,
     "metadata": {},
     "output_type": "execute_result"
    },
    {
     "data": {
      "image/png": "[encoded data removed]",
      "text/plain": [
       "<Figure size 432x288 with 1 Axes>"
      ]
     },
     "metadata": {
      "needs_background": "light"
     },
     "output_type": "display_data"
    }
   ],
   "source": [
    "fig, ax = plt.subplots()\n",
    "patches = []\n",
    "\n",
    "for i in range(3):\n",
    "    polygon = Polygon(fv['vertices'][4*i:4*(i+1)], True)\n",
    "    patches.append(polygon)\n",
    "\n",
    "p = PatchCollection(patches, cmap=matplotlib.cm.jet, alpha=0.4)\n",
    "\n",
    "colors = 100*np.random.rand(len(patches))\n",
    "p.set_array(np.array(colors))\n",
    "\n",
    "ax.add_collection(p)\n",
    "ax.set_xlim([-5, 5])\n",
    "ax.set_ylim([0, 15])"
   ]
  },
  {
   "cell_type": "code",
   "execution_count": 74,
   "metadata": {},
   "outputs": [
    {
     "data": {
      "text/plain": [
       "(0, 15)"
      ]
     },
     "execution_count": 74,
     "metadata": {},
     "output_type": "execute_result"
    },
    {
     "data": {
      "image/png": "[encoded data removed]",
      "text/plain": [
       "<Figure size 432x288 with 1 Axes>"
      ]
     },
     "metadata": {
      "needs_background": "light"
     },
     "output_type": "display_data"
    }
   ],
   "source": [
    "fig, ax = plt.subplots()\n",
    "patches = []\n",
    "\n",
    "tmp = fv['vertices'][fv['faces'].flatten()-1]\n",
    "for i in range(3):\n",
    "    polygon = Polygon(tmp[6*i:6*(i+1)],True)\n",
    "#     polygon = Polygon(fv['vertices'][4*i:4*(i+1)], True)\n",
    "    patches.append(polygon)\n",
    "\n",
    "p = PatchCollection(patches, cmap=matplotlib.cm.jet, alpha=0.4)\n",
    "\n",
    "colors = 100*np.random.rand(len(patches))\n",
    "p.set_array(np.array(colors))\n",
    "\n",
    "ax.add_collection(p)\n",
    "ax.set_xlim([-5, 5])\n",
    "ax.set_ylim([0, 15])"
   ]
  },
  {
   "cell_type": "code",
   "execution_count": 73,
   "metadata": {},
   "outputs": [
    {
     "name": "stdout",
     "output_type": "stream",
     "text": [
      "(18, 2)\n"
     ]
    }
   ],
   "source": [
    "tmp = fv['vertices'][fv['faces'].flatten()-1]\n",
    "print(tmp.shape)"
   ]
  },
  {
   "cell_type": "code",
   "execution_count": null,
   "metadata": {},
   "outputs": [],
   "source": []
  }
 ],
 "metadata": {
  "kernelspec": {
   "display_name": "Python 3",
   "language": "python",
   "name": "python3"
  },
  "language_info": {
   "codemirror_mode": {
    "name": "ipython",
    "version": 3
   },
   "file_extension": ".py",
   "mimetype": "text/x-python",
   "name": "python",
   "nbconvert_exporter": "python",
   "pygments_lexer": "ipython3",
   "version": "3.7.4"
  }
 },
 "nbformat": 4,
 "nbformat_minor": 2
}
