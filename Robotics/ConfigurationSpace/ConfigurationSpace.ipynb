{
 "cells": [
  {
   "cell_type": "code",
   "execution_count": 1,
   "metadata": {},
   "outputs": [],
   "source": [
    "import numpy as np\n",
    "import matplotlib.pyplot as plt\n",
    "import math\n",
    "import scipy.integrate as inte\n",
    "import matplotlib\n",
    "from matplotlib.patches import Polygon\n",
    "from matplotlib.collections import PatchCollection\n",
    "from numpy import matmul as mm"
   ]
  },
  {
   "cell_type": "code",
   "execution_count": 2,
   "metadata": {},
   "outputs": [],
   "source": [
    "def sind(theta):\n",
    "    return np.sin(theta/180*np.pi)\n",
    "def cosd(theta):\n",
    "    return np.cos(theta/180*np.pi)"
   ]
  },
  {
   "cell_type": "code",
   "execution_count": 3,
   "metadata": {},
   "outputs": [],
   "source": [
    "def obs():\n",
    "    obstacle = {}\n",
    "    obstacle['vertices'] = np.array([[3,3],[3,4],\n",
    "                                    [4,3],[-6,6],\n",
    "                                    [-6,8],[-7,6],\n",
    "                                    [-8,-6],[8,-6],\n",
    "                                    [-8,-10],[8,-10]])\n",
    "    obstacle['faces'] = np.array([[1,2,3],[4,5,6],\n",
    "                                 [7,8,9],[8,9,10]])\n",
    "    return obstacle"
   ]
  },
  {
   "cell_type": "code",
   "execution_count": 4,
   "metadata": {},
   "outputs": [],
   "source": [
    "def appendFV(fv1,fv2):\n",
    "    n1 = fv1['vertices'].shape[0]\n",
    "    fv3 = {}\n",
    "    fv3['vertices'] = np.vstack((fv1['vertices'],fv2['vertices']))\n",
    "    fv3['faces'] = np.vstack((fv1['faces'],fv2['faces']+n1))\n",
    "    return fv3\n",
    "def transformFV(fv,theta,t):\n",
    "    out = {}\n",
    "    out['faces'] = fv['faces']\n",
    "    c = cosd(theta)\n",
    "    s = sind(theta)\n",
    "    out['vertices'] = mm(fv['vertices'],np.array([[c,s],[-s,c]]))+t.reshape(1,-1)\n",
    "    return out\n",
    "def TwoLinkRobot(cspace_coordinates):\n",
    "    w,l,w2,l2 = .5,5,.75,1\n",
    "    link1,endeffector = {},{}\n",
    "    link1['vertices']=np.array([[0,-w],[l,-w],[l,w],[0,w]])\n",
    "    link1['faces']=np.array([[1,2,3],[1,3,4]])\n",
    "    endeffector['vertices'] = np.array([[0,-w2],[l2,-w2],\n",
    "                                       [0,w2],[l2,w2]])\n",
    "    endeffector['faces'] = np.array([[1,2,3],[1,3,4]])\n",
    "    link2 = appendFV(link1,transformFV(endeffector,0,np.array([l,0])))\n",
    "    link2 = transformFV(link2,cspace_coordinates[0],np.array([l,0]))\n",
    "    fv = appendFV(link1,link2)\n",
    "    fv = transformFV(fv,cspace_coordinates[1],np.array([0,0]))\n",
    "    return fv"
   ]
  },
  {
   "cell_type": "code",
   "execution_count": 5,
   "metadata": {},
   "outputs": [],
   "source": [
    "fv,obstacle,sz = TwoLinkRobot(np.array([330,90])),obs(),12\n",
    "theta1_range,theta2_range = np.arange(0,362,2),np.arange(0,362,2)\n",
    "nrows,ncols = len(theta2_range),len(theta1_range)"
   ]
  },
  {
   "cell_type": "code",
   "execution_count": 6,
   "metadata": {},
   "outputs": [
    {
     "name": "stderr",
     "output_type": "stream",
     "text": [
      "C:\\Users\\44754\\Anaconda3\\lib\\site-packages\\ipykernel_launcher.py:21: UserWarning: Attempting to set identical bottom == top == 12 results in singular transformations; automatically expanding.\n"
     ]
    },
    {
     "data": {
      "text/plain": [
       "(-8.799999999999999, 8.799999999999999, -11.028557621135331, 11.59971004384196)"
      ]
     },
     "execution_count": 6,
     "metadata": {},
     "output_type": "execute_result"
    },
    {
     "data": {
      "image/png": "[encoded data removed]",
      "text/plain": [
       "<Figure size 432x288 with 1 Axes>"
      ]
     },
     "metadata": {
      "needs_background": "light"
     },
     "output_type": "display_data"
    }
   ],
   "source": [
    "fig, ax = plt.subplots()\n",
    "patches = []\n",
    "tmp = fv['vertices'][fv['faces'].flatten()-1]\n",
    "for i in range(3):\n",
    "    polygon = Polygon(tmp[6*i:6*(i+1)], True)\n",
    "    patches.append(polygon)\n",
    "p = PatchCollection(patches, cmap=matplotlib.cm.jet, alpha=0.4)\n",
    "ax.add_collection(p)\n",
    "\n",
    "patches = []\n",
    "for i in range(3):\n",
    "    if i == 2:\n",
    "        polygon = Polygon(obstacle['vertices'][-4:][np.array([0,1,3,2])], True)\n",
    "    else:\n",
    "        polygon = Polygon(obstacle['vertices'][3*i:3*(i+1)], True)\n",
    "    patches.append(polygon)\n",
    "p = PatchCollection(patches, cmap=matplotlib.cm.jet)\n",
    "ax.add_collection(p)\n",
    "\n",
    "ax.set_xlim([-12, 12])\n",
    "ax.set_ylim([12, 12])\n",
    "plt.axis('equal')"
   ]
  },
  {
   "cell_type": "code",
   "execution_count": 7,
   "metadata": {},
   "outputs": [],
   "source": [
    "def triangle_intersection(P1,P2):\n",
    "    while True:\n",
    "        flag,p1,p2 = True,P1.T,P2.T\n",
    "        a1,b1,c1 = p1[:,0],p1[:,1],p1[:,2]\n",
    "        a2,b2,c2 = p2[:,0],p2[:,1],p2[:,2]\n",
    "        \n",
    "        # 1st triangle\n",
    "        v = a1-b1; v = np.array([[-v[1]],[v[0]]])\n",
    "        s = np.sign(mm(v.T,a1-c1))\n",
    "        s1 = np.sign(mm(v.T,a1-a2))\n",
    "        s2 = np.sign(mm(v.T,a1-b2))\n",
    "        s3 = np.sign(mm(v.T,a1-c2))\n",
    "        if (s1!=s) and (s2!=s) and (s3!=s):\n",
    "            flag = False; break\n",
    "            \n",
    "        v = b1-c1; v = np.array([[-v[1]],[v[0]]])\n",
    "        s = np.sign(mm(v.T,b1-a1))\n",
    "        s1 = np.sign(mm(v.T,b1-a2))\n",
    "        s2 = np.sign(mm(v.T,b1-b2))\n",
    "        s3 = np.sign(mm(v.T,b1-c2))\n",
    "        if (s1!=s) and (s2!=s) and (s3!=s):\n",
    "            flag = False; break\n",
    "            \n",
    "        v = c1-a1; v = np.array([[-v[1]],[v[0]]])\n",
    "        s = np.sign(mm(v.T,c1-b1))\n",
    "        s1 = np.sign(mm(v.T,c1-a2))\n",
    "        s2 = np.sign(mm(v.T,c1-b2))\n",
    "        s3 = np.sign(mm(v.T,c1-c2))\n",
    "        if (s1!=s) and (s2!=s) and (s3!=s):\n",
    "            flag = False; break\n",
    "            \n",
    "        # 2nd triangle\n",
    "        v = a2-b2; v = np.array([[-v[1]],[v[0]]])\n",
    "        s = np.sign(mm(v.T,a2-c2))\n",
    "        s1 = np.sign(mm(v.T,a2-a1))\n",
    "        s2 = np.sign(mm(v.T,a2-b1))\n",
    "        s3 = np.sign(mm(v.T,a2-c1))\n",
    "        if (s1!=s) and (s2!=s) and (s3!=s):\n",
    "            flag = False; break\n",
    "            \n",
    "        v = b2-c2; v = np.array([[-v[1]],[v[0]]])\n",
    "        s = np.sign(mm(v.T,b2-a2))\n",
    "        s1 = np.sign(mm(v.T,b2-a1))\n",
    "        s2 = np.sign(mm(v.T,b2-b1))\n",
    "        s3 = np.sign(mm(v.T,b2-c1))\n",
    "        if (s1!=s) and (s2!=s) and (s3!=s):\n",
    "            flag = False; break\n",
    "            \n",
    "        v = c2-a2; v = np.array([[-v[1]],[v[0]]])\n",
    "        s = np.sign(mm(v.T,c2-b2))\n",
    "        s1 = np.sign(mm(v.T,c2-a1))\n",
    "        s2 = np.sign(mm(v.T,c2-b1))\n",
    "        s3 = np.sign(mm(v.T,c2-c1))\n",
    "        if (s1!=s) and (s2!=s) and (s3!=s):\n",
    "            flag = False; break\n",
    "        break\n",
    "    return flag"
   ]
  },
  {
   "cell_type": "code",
   "execution_count": 8,
   "metadata": {},
   "outputs": [],
   "source": [
    "def CollisionCheck(fv1,fv2):\n",
    "    n1,n2 = fv1['faces'].shape[0],fv2['faces'].shape[0]\n",
    "    for i in range(n1):\n",
    "        P1 = fv1['vertices'][fv1['faces'][i,:]-1,:]\n",
    "        for j in range(n2):\n",
    "            P2 = fv2['vertices'][fv2['faces'][j,:]-1,:]\n",
    "            if triangle_intersection(P1,P2):\n",
    "                out = True\n",
    "                return out\n",
    "    out = False\n",
    "    return out"
   ]
  },
  {
   "cell_type": "code",
   "execution_count": 9,
   "metadata": {
    "scrolled": true
   },
   "outputs": [
    {
     "name": "stdout",
     "output_type": "stream",
     "text": [
      "Done\n"
     ]
    }
   ],
   "source": [
    "cspace = True*np.ones((nrows,ncols))\n",
    "for i in range(nrows):\n",
    "    for j in range(ncols):\n",
    "        fv = TwoLinkRobot(np.array([theta1_range[j],theta2_range[i ]]))\n",
    "        cspace[i,j] = CollisionCheck(fv,obstacle)\n",
    "print('Done')"
   ]
  },
  {
   "cell_type": "code",
   "execution_count": 10,
   "metadata": {
    "scrolled": true
   },
   "outputs": [
    {
     "data": {
      "text/plain": [
       "<matplotlib.image.AxesImage at 0x20ca162fa08>"
      ]
     },
     "execution_count": 10,
     "metadata": {},
     "output_type": "execute_result"
    },
    {
     "data": {
      "image/png": "[encoded data removed]",
      "text/plain": [
       "<Figure size 432x288 with 1 Axes>"
      ]
     },
     "metadata": {
      "needs_background": "light"
     },
     "output_type": "display_data"
    }
   ],
   "source": [
    "plt.imshow(cspace)"
   ]
  },
  {
   "cell_type": "code",
   "execution_count": 14,
   "metadata": {},
   "outputs": [
    {
     "name": "stderr",
     "output_type": "stream",
     "text": [
      "C:\\Users\\44754\\Anaconda3\\lib\\site-packages\\ipykernel_launcher.py:22: UserWarning: Attempting to set identical bottom == top == 12 results in singular transformations; automatically expanding.\n"
     ]
    },
    {
     "data": {
      "text/plain": [
       "<matplotlib.image.AxesImage at 0x20ca1841308>"
      ]
     },
     "execution_count": 14,
     "metadata": {},
     "output_type": "execute_result"
    },
    {
     "data": {
      "image/png": "[encoded data removed]",
      "text/plain": [
       "<Figure size 432x288 with 2 Axes>"
      ]
     },
     "metadata": {
      "needs_background": "light"
     },
     "output_type": "display_data"
    }
   ],
   "source": [
    "ax = plt.subplot(1,2,1)\n",
    "fv,obstacle,sz = TwoLinkRobot(np.array([330,90])),obs(),12\n",
    "patches = []\n",
    "tmp = fv['vertices'][fv['faces'].flatten()-1]\n",
    "for i in range(3):\n",
    "    polygon = Polygon(tmp[6*i:6*(i+1)], True)\n",
    "    patches.append(polygon)\n",
    "p = PatchCollection(patches, cmap=matplotlib.cm.jet, alpha=0.4)\n",
    "ax.add_collection(p)\n",
    "\n",
    "patches = []\n",
    "for i in range(3):\n",
    "    if i == 2:\n",
    "        polygon = Polygon(obstacle['vertices'][-4:][np.array([0,1,3,2])], True)\n",
    "    else:\n",
    "        polygon = Polygon(obstacle['vertices'][3*i:3*(i+1)], True)\n",
    "    patches.append(polygon)\n",
    "p = PatchCollection(patches, cmap=matplotlib.cm.jet)\n",
    "ax.add_collection(p)\n",
    "\n",
    "ax.set_xlim([-12, 12])\n",
    "ax.set_ylim([12, 12])\n",
    "plt.axis('equal')\n",
    "\n",
    "plt.subplot(1,2,2)\n",
    "plt.imshow(cspace)"
   ]
  },
  {
   "cell_type": "code",
   "execution_count": 15,
   "metadata": {},
   "outputs": [],
   "source": [
    "def DijkstraTorus(configmap,start,dest):\n",
    "    # Initialization\n",
    "    nrows,ncols = configmap.shape\n",
    "    statemap = np.zeros((nrows,ncols))\n",
    "    statemap[configmap==0],statemap[configmap==1] = 1,2\n",
    "    statemap[start],statemap[dest] = 5,6\n",
    "    distanceArray = np.ones((nrows,ncols))*np.inf\n",
    "    distanceArray[start[0],start[1]]=0\n",
    "    parentArray = np.zeros((nrows,ncols))\n",
    "\n",
    "    loc = np.array([[start[0],dest[0]],[start[1],dest[1]]])\n",
    "    st_node = np.ravel_multi_index(loc,(nrows,ncols))\n",
    "\n",
    "    while True:\n",
    "        statemap[start],statemap[dest] = 5,6\n",
    "\n",
    "        min_dist = np.amin(distanceArray.flatten())\n",
    "        current = np.argmin(distanceArray.flatten())\n",
    "\n",
    "        if (current==st_node[-1]) or np.isinf(min_dist):\n",
    "            break\n",
    "\n",
    "        current_ind = np.unravel_index(current,(nrows,ncols))\n",
    "        statemap[current_ind] = 3\n",
    "        distanceArray[current_ind] = np.inf\n",
    "        \n",
    "        i = current_ind[1]; j = current_ind[0]\n",
    "        for n in range(j-1,j+2,2):\n",
    "            nn = n\n",
    "            if n>=ncols:\n",
    "                nn = 0\n",
    "            elif n<0:\n",
    "                nn = ncols-1\n",
    "            if np.prod(statemap[i,nn]!=np.array([2,3,5])) and distanceArray[i,nn]>min_dist+1:\n",
    "                distanceArray[i,nn] =  min_dist+1\n",
    "                statemap[i,nn] = 4\n",
    "                parentArray[i,nn] = current\n",
    "                \n",
    "        for k in range(i-1,i+2,2):\n",
    "            kk = k\n",
    "            if k>=nrows:\n",
    "                kk = 0\n",
    "            elif k<0:\n",
    "                kk = nrows-1\n",
    "            if np.prod(statemap[kk,j]!=np.array([2,3,5])) and distanceArray[kk,j]>min_dist+1:\n",
    "                distanceArray[kk,j] =  min_dist+1\n",
    "                statemap[kk,j] = 4\n",
    "                parentArray[kk,j] = current\n",
    "            \n",
    "    route = []\n",
    "    route.append(dest)\n",
    "# #     print(parentArray[route[-1]])\n",
    "#     while any(parentArray[route[-1]]) :\n",
    "#         traceIdx = np.unravel_index(int(parentArray[route[-1]]),(nrows,ncols))\n",
    "#         route.append(traceIdx)\n",
    "\n",
    "    return statemap,route,parentArray,distanceArray"
   ]
  },
  {
   "cell_type": "code",
   "execution_count": 16,
   "metadata": {},
   "outputs": [],
   "source": [
    "start = np.array([40,80])\n",
    "dest = np.array([100,110])\n",
    "statemap,route,parentArray,distanceArray = DijkstraTorus(cspace,start,dest)"
   ]
  },
  {
   "cell_type": "code",
   "execution_count": 17,
   "metadata": {},
   "outputs": [
    {
     "data": {
      "text/plain": [
       "<matplotlib.image.AxesImage at 0x20ca18d3788>"
      ]
     },
     "execution_count": 17,
     "metadata": {},
     "output_type": "execute_result"
    },
    {
     "data": {
      "image/png": "[encoded data removed]",
      "text/plain": [
       "<Figure size 432x288 with 1 Axes>"
      ]
     },
     "metadata": {
      "needs_background": "light"
     },
     "output_type": "display_data"
    }
   ],
   "source": [
    "plt.imshow(statemap)"
   ]
  },
  {
   "cell_type": "code",
   "execution_count": null,
   "metadata": {},
   "outputs": [],
   "source": []
  }
 ],
 "metadata": {
  "kernelspec": {
   "display_name": "Python 3",
   "language": "python",
   "name": "python3"
  },
  "language_info": {
   "codemirror_mode": {
    "name": "ipython",
    "version": 3
   },
   "file_extension": ".py",
   "mimetype": "text/x-python",
   "name": "python",
   "nbconvert_exporter": "python",
   "pygments_lexer": "ipython3",
   "version": "3.7.4"
  }
 },
 "nbformat": 4,
 "nbformat_minor": 2
}
