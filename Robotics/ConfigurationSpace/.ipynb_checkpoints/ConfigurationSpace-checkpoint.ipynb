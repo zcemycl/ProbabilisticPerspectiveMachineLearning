{
 "cells": [
  {
   "cell_type": "code",
   "execution_count": 1,
   "metadata": {},
   "outputs": [],
   "source": [
    "import numpy as np\n",
    "import matplotlib.pyplot as plt\n",
    "import math\n",
    "import scipy.integrate as inte\n",
    "from numpy import matmul as mm"
   ]
  },
  {
   "cell_type": "code",
   "execution_count": 2,
   "metadata": {},
   "outputs": [],
   "source": [
    "def sind(theta):\n",
    "    return np.sin(theta/180*np.pi)\n",
    "def cosd(theta):\n",
    "    return np.cos(theta/180*np.pi)"
   ]
  },
  {
   "cell_type": "code",
   "execution_count": 3,
   "metadata": {},
   "outputs": [],
   "source": [
    "def appendFV(fv1,fv2):\n",
    "    n1 = fv1['vertices'].shape[0]\n",
    "    fv3 = {}\n",
    "    fv3['vertices'] = np.vstack((fv1['vertices'],fv2['vertices']))\n",
    "    fv3['faces'] = np.vstack((fv1['faces'],fv2['faces']+n1))\n",
    "    return fv3\n",
    "def transformFV(fv,theta,t):\n",
    "    out = {}\n",
    "    out['faces'] = fv['faces']\n",
    "    c = cosd(theta)\n",
    "    s = sind(theta)\n",
    "    out['vertices'] = mm(fv['vertices'],np.array([[c,s],[-s,c]]))+t.reshape(1,-1)\n",
    "    return out\n",
    "def TwoLinkRobot(cspace_coordinates):\n",
    "    w,l,w2,l2 = .5,5,.75,1\n",
    "    link1,endeffector = {},{}\n",
    "    link1['vertices']=np.array([[0,-w],[l,-w],[l,w],[0,w]])\n",
    "    link1['faces']=np.array([[1,2,3],[1,3,4]])\n",
    "    endeffector['vertices'] = np.array([[0,-w2],[l2,-w2],\n",
    "                                       [0,w2],[l2,w2]])\n",
    "    endeffector['faces'] = np.array([[1,2,3],[1,3,4]])\n",
    "    link2 = appendFV(link1,transformFV(endeffector,0,np.array([l,0])))\n",
    "    link2 = transformFV(link2,cspace_coordinates[0],np.array([l,0]))\n",
    "    fv = appendFV(link1,link2)\n",
    "    fv = transformFV(fv,cspace_coordinates[1],np.array([0,0]))\n",
    "    return fv"
   ]
  },
  {
   "cell_type": "code",
   "execution_count": 4,
   "metadata": {},
   "outputs": [],
   "source": [
    "fv = TwoLinkRobot(np.array([330,90]))\n",
    "sz = 12\n"
   ]
  },
  {
   "cell_type": "code",
   "execution_count": null,
   "metadata": {},
   "outputs": [],
   "source": []
  },
  {
   "cell_type": "code",
   "execution_count": null,
   "metadata": {},
   "outputs": [],
   "source": []
  },
  {
   "cell_type": "code",
   "execution_count": null,
   "metadata": {},
   "outputs": [],
   "source": []
  }
 ],
 "metadata": {
  "kernelspec": {
   "display_name": "Python 3",
   "language": "python",
   "name": "python3"
  },
  "language_info": {
   "codemirror_mode": {
    "name": "ipython",
    "version": 3
   },
   "file_extension": ".py",
   "mimetype": "text/x-python",
   "name": "python",
   "nbconvert_exporter": "python",
   "pygments_lexer": "ipython3",
   "version": "3.7.4"
  }
 },
 "nbformat": 4,
 "nbformat_minor": 2
}
