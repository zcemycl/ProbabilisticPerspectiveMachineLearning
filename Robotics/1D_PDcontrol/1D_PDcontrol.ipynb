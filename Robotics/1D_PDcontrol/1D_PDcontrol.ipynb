{
 "cells": [
  {
   "cell_type": "code",
   "execution_count": 1,
   "metadata": {},
   "outputs": [],
   "source": [
    "import numpy as np \n",
    "import matplotlib.pyplot as plt\n",
    "import math\n",
    "z_des = 1"
   ]
  },
  {
   "cell_type": "code",
   "execution_count": 2,
   "metadata": {},
   "outputs": [],
   "source": [
    "def fixed_set_point(t,z_des):\n",
    "    if t == 0:\n",
    "        s_des = np.array([[0],[0]])\n",
    "    else:\n",
    "        s_des = np.array([[z_des],[0]])\n",
    "    return s_des"
   ]
  },
  {
   "cell_type": "code",
   "execution_count": 3,
   "metadata": {},
   "outputs": [],
   "source": [
    "def controller(s,s_des,params):\n",
    "    Kp = 4500; Kv = 400\n",
    "    e = s_des[0]-s[0]\n",
    "    de= s_des[1]-s[1]\n",
    "    d2z = 0\n",
    "    uv = params['mass']*(d2z+Kp*e+Kv*de+params['gravity'])\n",
    "    u = np.hstack((uv,params['u_max'])).min()\n",
    "    return u"
   ]
  },
  {
   "cell_type": "code",
   "execution_count": 4,
   "metadata": {},
   "outputs": [],
   "source": [
    "class onedimPDcontroldemo():\n",
    "    def __init__(self,z_des):\n",
    "        params = {'gravity':9.81,'mass':0.18,\n",
    "         'arm_length':.086,'u_min':0,'u_max':1.2*9.81*0.18}\n",
    "        self.params = params; self.z_des = z_des\n",
    "        self.max_iter = 100; self.starttime = 0\n",
    "        self.tstep  = .01; self.cstep = .05\n",
    "        self.nstep = self.cstep/self.tstep\n",
    "        self.time = self.starttime\n",
    "    def runSimulation(self):\n",
    "        des_start = fixed_set_point(0,z_des)\n",
    "        des_stop = fixed_set_point(np.inf,z_des)\n",
    "        stop_pos = des_stop[0]\n",
    "        x0 = des_start; x = x0\n",
    "        pos_tol = .01; vel_tol = .01\n",
    "        xtraj = np.nan*np.ones((self.max_iter*self.nstep,\n",
    "                               len(x0)))\n",
    "        ttraj = np.nan*np.ones((self.max_iter*self.nstep,1))\n",
    "        \n",
    "        for itr in range(self.max_iter):\n",
    "            pass\n",
    "        t_out=0; z_out=0\n",
    "        return t_out, z_out"
   ]
  },
  {
   "cell_type": "code",
   "execution_count": null,
   "metadata": {},
   "outputs": [],
   "source": []
  }
 ],
 "metadata": {
  "kernelspec": {
   "display_name": "Python 3",
   "language": "python",
   "name": "python3"
  },
  "language_info": {
   "codemirror_mode": {
    "name": "ipython",
    "version": 3
   },
   "file_extension": ".py",
   "mimetype": "text/x-python",
   "name": "python",
   "nbconvert_exporter": "python",
   "pygments_lexer": "ipython3",
   "version": "3.7.4"
  }
 },
 "nbformat": 4,
 "nbformat_minor": 2
}
