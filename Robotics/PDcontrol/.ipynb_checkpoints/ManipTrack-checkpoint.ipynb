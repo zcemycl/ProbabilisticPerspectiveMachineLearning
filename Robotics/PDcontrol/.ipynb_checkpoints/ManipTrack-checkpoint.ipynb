{
 "cells": [
  {
   "cell_type": "code",
   "execution_count": 1,
   "metadata": {},
   "outputs": [],
   "source": [
    "import numpy as np\n",
    "import math\n",
    "import matplotlib.pyplot as plt\n",
    "import scipy.integrate as inte"
   ]
  },
  {
   "cell_type": "code",
   "execution_count": 3,
   "metadata": {},
   "outputs": [],
   "source": [
    "def trajSin(t):\n",
    "    return np.array([np.cos(np.pi*t),np.sin(np.pi*t)])\n",
    "\n",
    "def trajSquare(t):\n",
    "    spd = .2\n",
    "    if t<2.5:\n",
    "        x = np.array([.5,0])+spd*np.array([-1,1])*t\n",
    "    elif t<5:\n",
    "        x = np.array([0,.5])+spd*np.array([-1,-1])*(t-2.5)\n",
    "    elif t<7.5:\n",
    "        x = np.array([-.5,0])+spd*np.array([1,-1])*(t-5)\n",
    "    else:\n",
    "        x = np.array([0,-.5])+spd*np.array([1,1])*(t-7.5)\n",
    "        \n",
    "    return x"
   ]
  },
  {
   "cell_type": "markdown",
   "metadata": {},
   "source": [
    "### State-space\n",
    "\n",
    "\\begin{align}\n",
    "x &= \\left[\\begin{array}{c}x_1\\\\x_2\\\\x_3\\\\x_4\\end{array}\\right] = \\left[\\begin{array}{c}\\theta_1\\\\ \\theta_2\\\\ \\dot{\\theta_1}\\\\ \\dot{\\theta_2}\\end{array}\\right] \\\\\n",
    "\\dot{x} &= \\left[\\begin{array}{c}\\dot{\\theta_1}\\\\ \\dot{\\theta_2}\\\\\\ddot{\\theta_1}\\\\ \\ddot{\\theta_2}\\end{array}\\right] =\\\\\n",
    "&\\left[\\begin{array}{c}\\dot{\\theta_1}\\\\ \\dot{\\theta_2}\\\\ \\frac{-u_1+u_2-2glmc_{\\theta_1}+u_2c_{\\theta_2}+glmc_{\\theta_2}c_{\\theta_1+\\theta_2}+2\\dot{\\theta_1}\\dot{\\theta_2}l^2ms_{\\theta_2}+(\\dot{\\theta_2}l)^2ms_{\\theta_2}+(\\dot{\\theta_1} l)^2ms_{\\theta_2}(1+c_{\\theta_2})}{ml^2(2-c_{\\theta_2})} \\\\ \\frac{-u_1+3u_2-2glmc_{\\theta_1}-u_1c_{\\theta_2}+2u_2c_{\\theta_2}-2glmc_{\\theta_2}c_{\\theta_1}+2glmc_{\\theta_1+\\theta_2}+glmc_{\\theta_2}c_{\\theta_1+\\theta_2}+(\\dot{\\theta_2}l)^2m(1+c_{\\theta_2})s_{\\theta_2}+\\dot{\\theta_1}\\dot{\\theta_2}l^2m\\csc^2(\\frac{\\theta_2}{2})s^3_{\\theta_2}+(\\dot{\\theta_1}l)^2m(3s_{\\theta_2}+s_{2\\theta_2})}{ml^2(2-\\cos(\\theta_2))} \\end{array}\\right] \n",
    "\\end{align}"
   ]
  },
  {
   "cell_type": "code",
   "execution_count": null,
   "metadata": {},
   "outputs": [],
   "source": [
    "def controller(params,t,X):\n",
    "    return u"
   ]
  },
  {
   "cell_type": "code",
   "execution_count": null,
   "metadata": {},
   "outputs": [],
   "source": []
  }
 ],
 "metadata": {
  "kernelspec": {
   "display_name": "Python 3",
   "language": "python",
   "name": "python3"
  },
  "language_info": {
   "codemirror_mode": {
    "name": "ipython",
    "version": 3
   },
   "file_extension": ".py",
   "mimetype": "text/x-python",
   "name": "python",
   "nbconvert_exporter": "python",
   "pygments_lexer": "ipython3",
   "version": "3.7.4"
  }
 },
 "nbformat": 4,
 "nbformat_minor": 2
}
