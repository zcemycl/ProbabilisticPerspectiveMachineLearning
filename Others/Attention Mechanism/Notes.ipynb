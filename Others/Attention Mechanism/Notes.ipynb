{
 "cells": [
  {
   "cell_type": "markdown",
   "metadata": {},
   "source": [
    "Given the source sequence $x = \\{x_t\\}_{t=1}^n$ and the target sequence $y = \\{y_t\\}_{t=1}^m$\n",
    "#### Probabilistic Language Model\n",
    "$$P(\\{w_i\\}^N_{i=1})\\approx \\prod_{i=1}^N P(w_N|\\{w_i\\}_{i=1}^{N-1})$$\n",
    "where $w_i$ word in position $i$.\n",
    "#### Recurrent Neural Network\n",
    "$$h_t = \\tanh(W_{hh}h_{t-1}+W_{xh}x_t+b_h)$$\n",
    "$$z_t = \\sigma(W_{hz}h_t+b_z)$$\n",
    "where $h_t$ hidden state, $z_t$ the output vector, $W_x$ input weight, $W_h$ recurrent weight and $b$ bias.\n",
    "- May lead to vanishing or exploding gradient\n",
    "\n",
    "#### Long short-term memory\n",
    "$$f_t = \\sigma_g(W_fx_t+U_fh_{t-1}+b_f)$$\n",
    "$$i_t = \\sigma_g(W_ix_t+U_ih_{t-1}+b_i)$$\n",
    "$$o_t = \\sigma_g(W_ox_t+U_oh_{t-1}+b_o)$$\n",
    "$$c_t = f_t\\circ c_{t-1}+i_t\\circ \\sigma_c(W_cx_t+U_ch_{t-1}+b_c)$$\n",
    "$$h_t = o_t\\circ \\sigma_h(c_t)\\rightarrow z_t$$\n",
    "where $W$ input weight, $U$ recurrent weight, $c_t$ cell state, $o_t$ output gate, $i_t$ input gate, $f_t$ forget gate."
   ]
  },
  {
   "cell_type": "markdown",
   "metadata": {},
   "source": [
    "#### Attention Mechanism\n",
    "$$c_t = \\sum^{n}_{i=1}\\alpha_{ti}h_i$$\n",
    "$$\\alpha_{ti} = \\text{align}(y_t,x_i)=\\frac{\\exp(\\text{score}(s_{t-1},h_i))}{\\sum^n_{i'=1}\\exp(\\text{score}(s_{t-1},h_{i'}))}$$\n",
    "- additive: $\\text{score}(s_t,h_i)=v_a^\\top\\tanh(W_a[s_t;h_i])$\n",
    "- content-base: $\\text{score}(s_t,h_i)=\\text{cosine}[s_t,h_i]$\n",
    "- general: $\\text{score}(s_t,h_i)=s_t^\\top W_ah_i$\n",
    "- dot-product: $\\text{score}(s_t,h_i)=s_t^\\top h_i$\n",
    "- scaled dot-product: $\\text{score}(s_t,h_i)=\\frac{s_t^\\top h_i}{\\sqrt{n}}$"
   ]
  },
  {
   "cell_type": "markdown",
   "metadata": {},
   "source": []
  },
  {
   "cell_type": "markdown",
   "metadata": {},
   "source": []
  },
  {
   "cell_type": "markdown",
   "metadata": {},
   "source": []
  },
  {
   "cell_type": "markdown",
   "metadata": {},
   "source": []
  },
  {
   "cell_type": "markdown",
   "metadata": {},
   "source": []
  }
 ],
 "metadata": {
  "kernelspec": {
   "display_name": "Python 3",
   "language": "python",
   "name": "python3"
  },
  "language_info": {
   "codemirror_mode": {
    "name": "ipython",
    "version": 3
   },
   "file_extension": ".py",
   "mimetype": "text/x-python",
   "name": "python",
   "nbconvert_exporter": "python",
   "pygments_lexer": "ipython3",
   "version": "3.7.4"
  }
 },
 "nbformat": 4,
 "nbformat_minor": 2
}
