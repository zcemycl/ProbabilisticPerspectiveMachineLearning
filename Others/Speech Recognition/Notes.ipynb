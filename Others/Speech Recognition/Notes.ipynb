{
 "cells": [
  {
   "cell_type": "markdown",
   "metadata": {},
   "source": [
    "### 1. Introduction\n",
    "#### Isolated Word Recognition Performance Measurement\n",
    "$$\\%\\text{Correct} = 100\\times \\frac{N(\\text{words correctly classified})}{N(\\text{words in the test set})}$$\n",
    "The word error rate (WER) is measured as \n",
    "$$\\%\\text{Word Error Rate} = 100 - \\%\\text{Correct}$$\n",
    "The errors types are subsitutions (SUB), insertions (INS), and deletion (DEL).\n",
    "$$\\%\\text{Word Error Rate} = 100\\times\\frac{N_{INS}+N_{DEL}+N_{SUB}}{N_{ref}} = 100-\\%\\text{Accuracy}$$\n",
    "$$\\%\\text{Correct} = 100\\times\\frac{N_{CORR}}{N_{ref}}$$\n",
    "In Automated Speech Recognition (ASR) need to find the most likely word sequence $\\hat{W}$ from an utterance i.e. $\\max_W P(W|O)$ via sequence-to-sequence model. Note that O is a stream of feature vectors describing the utterance.\n",
    "\n",
    "Large majority of current systems use a generative model approach and find \n",
    "$$\\hat{W}=\\arg\\max_W p(O|W)P(W)$$\n",
    "where acoustic model giving $p(O|W)$ and language model yielding $P(W)$.\n",
    "\n",
    "The most common form for the acoustic model is a Hidden Markov Model (HMM). It can model the acoustic vectors via Gaussian Mixture Models (GMM-HMM) or Deep Neural Networks(DNN-HMM).\n",
    "\n"
   ]
  },
  {
   "cell_type": "markdown",
   "metadata": {},
   "source": [
    "### 2. Spectral Analysis\n",
    "Consider any english word waveform in time domain,\n",
    "- vowel sounds are often close to periodic \n",
    "- stochastic signals in fracatives and stop-consonant\n",
    "\n",
    "General sinusoid: $A\\sin(\\omega t+\\phi)$\n",
    "where A amplitude, f frequency, $\\omega$ angular frequency and $\\phi$ phase. When $\\phi=0$, sine wave is used; when $\\phi = \\frac{\\pi}{2}$, cosine wave.\n",
    "\n",
    "- Periodic signals have spectral components (frequencey domain) at integer multiples of the fundamental frequencey. \n",
    "- Aperiodic and stochastic signals have spectra that are continuous functions of frequencey. \n",
    "\n",
    "#### Fourier Transform \n",
    "The spectrum $\\tilde{F}(\\omega)$ is obtained from the time signal $f(t)$ via Fourier Transform,\n",
    "$$\\tilde{F}(\\omega)=\\frac{1}{\\sqrt{2\\pi}}\\int^\\infty_{-\\infty}f(t)e^{-i\\omega t}dt$$\n",
    "The time signal is recovered from (complex) spectrum by inverse Fourier Transform,\n",
    "$$f(t)=\\frac{1}{\\sqrt{2\\pi}}\\int^\\infty_{-\\infty}\\tilde{F}(\\omega)e^{-i\\omega t}d\\omega$$\n",
    "#### Discrete Fourier Transform ($\\sim O(n^2)$) (Fast FT $\\sim O(n\\log_2 n)$)\n",
    "DFT is expressed as, $$S_p = \\sum^{N-1}_{n=0}s(nT)e^{-i\\frac{2\\pi np}{N}}$$\n",
    "iDFT is given by, $$s(nT) = \\frac{1}{N}\\sum^{N-1}_{p=0}S_p e^{i(\\frac{2\\pi np}{N})}$$\n",
    "\n",
    "- It evaluates spectrum at N evenly spaced discrete frequenceies\n",
    "- periodic functions -> discrete spectra, aperiodic -> continuous\n",
    "- assumes periodicity outside the analysis frame, with period equal to window length\n",
    "- discontinuity gives undesirable components (mainly high f)\n",
    "\n",
    "#### Time and Frequency Resolution\n",
    "$\\uparrow \\text{Window N} \\uparrow \\text{Spectral Resolution} \\downarrow \\text{Time Resolution}$\n",
    "#### Block Processing\n",
    "- For a complex waveform, spectral estimate must be computed about every 10ms\n",
    "- Allow overlap\n",
    "- Typical 25 ms windows are used\n",
    "\n",
    "#### Spectrograms\n",
    "Sequence of spectra from block processing speech displayed as a grey-scale image with dimensions of time and frequency and with spectral energy represented by the intensity of the image. "
   ]
  },
  {
   "cell_type": "markdown",
   "metadata": {},
   "source": []
  },
  {
   "cell_type": "markdown",
   "metadata": {},
   "source": []
  },
  {
   "cell_type": "markdown",
   "metadata": {},
   "source": []
  },
  {
   "cell_type": "markdown",
   "metadata": {},
   "source": []
  },
  {
   "cell_type": "markdown",
   "metadata": {},
   "source": []
  },
  {
   "cell_type": "markdown",
   "metadata": {},
   "source": []
  },
  {
   "cell_type": "markdown",
   "metadata": {},
   "source": []
  },
  {
   "cell_type": "markdown",
   "metadata": {},
   "source": []
  },
  {
   "cell_type": "markdown",
   "metadata": {},
   "source": []
  }
 ],
 "metadata": {
  "kernelspec": {
   "display_name": "Python 3",
   "language": "python",
   "name": "python3"
  },
  "language_info": {
   "codemirror_mode": {
    "name": "ipython",
    "version": 3
   },
   "file_extension": ".py",
   "mimetype": "text/x-python",
   "name": "python",
   "nbconvert_exporter": "python",
   "pygments_lexer": "ipython3",
   "version": "3.7.4"
  }
 },
 "nbformat": 4,
 "nbformat_minor": 2
}
