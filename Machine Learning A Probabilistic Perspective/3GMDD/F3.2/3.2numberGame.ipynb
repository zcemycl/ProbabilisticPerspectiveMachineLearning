{
 "cells": [
  {
   "cell_type": "code",
   "execution_count": 2,
   "metadata": {},
   "outputs": [],
   "source": [
    "import numpy as np"
   ]
  },
  {
   "cell_type": "markdown",
   "metadata": {},
   "source": [
    "### Number Game\n",
    "#### Simplified Model\n",
    "The following is a simplified version of Number Game. Given a number is generated from either even number hypothesis or odd number hypothesis within the range of $[1,10]$, when a number is given by the host, you have to guess which hypothesis is in his mind. (Of course, it is easy because we all know about the definition of even and odd number, but let's explain how our belief progresses before and after the data arrives)"
   ]
  },
  {
   "cell_type": "markdown",
   "metadata": {},
   "source": [
    "##### Prior\n",
    "Before the host is giving out a number, we all have a prior $p(h)$ about the probability of giving an even ($h_e$) or odd number ($h_o$), based on our prior knowledge about anything releveant the game, such as the host habit, previous game result, etc. \n",
    "\n",
    "Assume that we have no prior knowledge about the game, it is sensible to assign both hypothesises to equal prior $p(h_o)=p(h_e)=\\frac{1}{2}$. "
   ]
  },
  {
   "cell_type": "markdown",
   "metadata": {},
   "source": [
    "##### Likelihood\n",
    "Given a hypothesis, there is a likelihood $p(D|h)$ to observe a particular set of data. Since for each hypothesis, there are 5 candidates within the range (i.e. $\\{1,3,5,7,9\\}=h_o \\cap [1,10]$ and $\\{2,4,6,8,10\\}=h_e \\cap [1,10]$ ). Therefore, \n",
    "$$p(D|h)=\\bigg[\\frac{1}{size(h)}\\bigg]^N=\\bigg[\\frac{1}{|h|}\\bigg]^N=\\frac{1}{5}$$"
   ]
  },
  {
   "cell_type": "markdown",
   "metadata": {},
   "source": [
    "##### Posterior\n",
    "If the host now gives you a number $7$, the posterior which is simply the likelihood times the prior becomes,\n",
    "\\begin{align*}\n",
    "p(h_o|D)&=\\frac{p(D|h_o)p(h_o)}{\\sum_{h_o^\\prime\\in\\mathcal{H}}p(D,h^\\prime)}=\\frac{\\mathbb{I}(D\\in h_o)/|h_o|^Np(h_o)}{\\sum_{h'\\in \\mathcal{H}}\\mathbb{I}(D\\in h')/|h'|^Np(h')} \\\\\n",
    "&= \\frac{1\\times0.2\\times0.5}{1\\times0.2\\times0.5+0\\times0.2\\times0.5} = 1\n",
    "\\end{align*}\n",
    "Now we are pretty sure about the hypothesis given the data. What if we guess the next number or the next number's hypothesis, this posterior can be reused as prior. "
   ]
  },
  {
   "cell_type": "code",
   "execution_count": 6,
   "metadata": {},
   "outputs": [],
   "source": [
    "def GuessHypothesis(number):\n",
    "    prior = .5; pDh = .2;\n",
    "    if np.remainder(number,2)==0:\n",
    "        ie = 1\n",
    "        io = 0\n",
    "    elif np.remainder(number-1,2)==0:\n",
    "        io = 1\n",
    "        ie = 0\n",
    "    po=io*pDh*prior/(io+ie)/pDh/prior\n",
    "    pe=ie*pDh*prior/(io+ie)/pDh/prior\n",
    "    return po,pe"
   ]
  },
  {
   "cell_type": "code",
   "execution_count": 7,
   "metadata": {},
   "outputs": [],
   "source": [
    "po,pe = GuessHypothesis(7)"
   ]
  },
  {
   "cell_type": "markdown",
   "metadata": {},
   "source": [
    "The posterior of odd number hypothesis given data $p(h_o|D)$"
   ]
  },
  {
   "cell_type": "code",
   "execution_count": 12,
   "metadata": {},
   "outputs": [
    {
     "name": "stdout",
     "output_type": "stream",
     "text": [
      "probability of odd number hypothesis given data: 1.0\n",
      "probability of even number hypothesis given data: 0.0\n"
     ]
    }
   ],
   "source": [
    "print('probability of odd number hypothesis given data: '+str(po))\n",
    "print('probability of even number hypothesis given data: '+str(pe))"
   ]
  },
  {
   "cell_type": "markdown",
   "metadata": {},
   "source": [
    "#### Full Model\n",
    "A subset of hypothesis space"
   ]
  },
  {
   "cell_type": "code",
   "execution_count": null,
   "metadata": {},
   "outputs": [],
   "source": [
    "class NumberGame():\n",
    "    def __init__(self,numseq):\n",
    "        self.D = numseq\n",
    "    "
   ]
  },
  {
   "cell_type": "code",
   "execution_count": null,
   "metadata": {},
   "outputs": [],
   "source": []
  },
  {
   "cell_type": "code",
   "execution_count": null,
   "metadata": {},
   "outputs": [],
   "source": []
  },
  {
   "cell_type": "code",
   "execution_count": null,
   "metadata": {},
   "outputs": [],
   "source": []
  }
 ],
 "metadata": {
  "kernelspec": {
   "display_name": "Python 3",
   "language": "python",
   "name": "python3"
  },
  "language_info": {
   "codemirror_mode": {
    "name": "ipython",
    "version": 3
   },
   "file_extension": ".py",
   "mimetype": "text/x-python",
   "name": "python",
   "nbconvert_exporter": "python",
   "pygments_lexer": "ipython3",
   "version": "3.7.4"
  }
 },
 "nbformat": 4,
 "nbformat_minor": 2
}
