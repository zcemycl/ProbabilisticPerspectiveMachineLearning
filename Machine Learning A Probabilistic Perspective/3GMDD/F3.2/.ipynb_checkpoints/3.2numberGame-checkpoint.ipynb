{
 "cells": [
  {
   "cell_type": "code",
   "execution_count": 1,
   "metadata": {},
   "outputs": [],
   "source": [
    "import numpy as np\n",
    "import matplotlib.pyplot as plt"
   ]
  },
  {
   "cell_type": "markdown",
   "metadata": {},
   "source": [
    "### Number Game\n",
    "#### Simplified Model\n",
    "The following is a simplified version of Number Game. Given a number is generated from either even number hypothesis or odd number hypothesis within the range of $[1,10]$, when a number is given by the host, you have to guess which hypothesis is in his mind. (Of course, it is easy because we all know about the definition of even and odd number, but let's explain how our belief progresses before and after the data arrives)"
   ]
  },
  {
   "cell_type": "markdown",
   "metadata": {},
   "source": [
    "##### Prior\n",
    "Before the host is giving out a number, we all have a prior $p(h)$ about the probability of giving an even ($h_e$) or odd number ($h_o$), based on our prior knowledge about anything releveant the game, such as the host habit, previous game result, etc. \n",
    "\n",
    "Assume that we have no prior knowledge about the game, it is sensible to assign both hypothesises to equal prior $p(h_o)=p(h_e)=\\frac{1}{2}$. "
   ]
  },
  {
   "cell_type": "markdown",
   "metadata": {},
   "source": [
    "##### Likelihood\n",
    "Given a hypothesis, there is a likelihood $p(D|h)$ to observe a particular set of data. Since for each hypothesis, there are 5 candidates within the range (i.e. $\\{1,3,5,7,9\\}=h_o \\cap [1,10]$ and $\\{2,4,6,8,10\\}=h_e \\cap [1,10]$ ). Therefore, \n",
    "$$p(D|h)=\\bigg[\\frac{1}{size(h)}\\bigg]^N=\\bigg[\\frac{1}{|h|}\\bigg]^N=\\frac{1}{5}$$"
   ]
  },
  {
   "cell_type": "markdown",
   "metadata": {},
   "source": [
    "##### Posterior\n",
    "If the host now gives you a number $7$, the posterior which is simply the likelihood times the prior becomes,\n",
    "\\begin{align*}\n",
    "p(h_o|D)&=\\frac{p(D|h_o)p(h_o)}{\\sum_{h_o^\\prime\\in\\mathcal{H}}p(D,h^\\prime)}=\\frac{\\mathbb{I}(D\\in h_o)/|h_o|^Np(h_o)}{\\sum_{h'\\in \\mathcal{H}}\\mathbb{I}(D\\in h')/|h'|^Np(h')} \\\\\n",
    "&= \\frac{1\\times0.2\\times0.5}{1\\times0.2\\times0.5+0\\times0.2\\times0.5} = 1\n",
    "\\end{align*}\n",
    "Now we are pretty sure about the hypothesis given the data because of the posterior probability. \n",
    "##### Maximum A Posterior (MAP) \n",
    "MAP estimate can be written as \n",
    "$$ \\hat{h}^{MAP}=\\arg\\max_{h}p(D|h)p(h)=\\arg\\max\\big[\\log p(D|h)+\\log p(h)\\big]$$\n",
    "##### Maximum likelihood estimate (MLE)\n",
    "When we get more and more data, the MAP estimate converges towards the maximum likelihood estimate (MLE):\n",
    "$$\\hat{h}^{mle}\\triangleq \\arg\\max_h p(D|h)=\\arg\\max_h \\log p(D|h)$$\n",
    "What if we guess the next number or the next number's hypothesis, this posterior can be reused as prior. \n",
    "##### Posterior predictive distribution\n",
    "$$p(\\hat{x}\\in C|D) = \\sum_h p(y=1|\\hat{x},h)p(h|D)$$"
   ]
  },
  {
   "cell_type": "code",
   "execution_count": 2,
   "metadata": {},
   "outputs": [],
   "source": [
    "def GuessHypothesis(number):\n",
    "    prior = .5; pDh = .2;\n",
    "    if np.remainder(number,2)==0:\n",
    "        ie = 1\n",
    "        io = 0\n",
    "    elif np.remainder(number-1,2)==0:\n",
    "        io = 1\n",
    "        ie = 0\n",
    "    po=io*pDh*prior/(io+ie)/pDh/prior\n",
    "    pe=ie*pDh*prior/(io+ie)/pDh/prior\n",
    "    return po,pe"
   ]
  },
  {
   "cell_type": "code",
   "execution_count": 3,
   "metadata": {},
   "outputs": [],
   "source": [
    "po,pe = GuessHypothesis(7)"
   ]
  },
  {
   "cell_type": "markdown",
   "metadata": {},
   "source": [
    "The posterior of odd number hypothesis given data $p(h_o|D)$"
   ]
  },
  {
   "cell_type": "code",
   "execution_count": 4,
   "metadata": {},
   "outputs": [
    {
     "name": "stdout",
     "output_type": "stream",
     "text": [
      "probability of odd number hypothesis given data: 1.0\n",
      "probability of even number hypothesis given data: 0.0\n"
     ]
    }
   ],
   "source": [
    "print('probability of odd number hypothesis given data: '+str(po))\n",
    "print('probability of even number hypothesis given data: '+str(pe))"
   ]
  },
  {
   "cell_type": "markdown",
   "metadata": {},
   "source": [
    "#### Full Model\n",
    "A subset of hypothesis space given the range of $[0,100]$ with equal prior,\n",
    "1. square $\\{1,4,9,16,25,36,49,64,81,100\\}$ so $p(D|h_1) = \\frac{1}{10}$\n",
    "2. multiple of 2 $p(D|h_2) = \\frac{1}{50}$\n",
    "3. multiple of 4 $p(D|h_3) = \\frac{1}{25}$"
   ]
  },
  {
   "cell_type": "markdown",
   "metadata": {},
   "source": [
    "##### Posterior predictive distribution\n",
    "$$p(\\hat{x}\\in C|D) = \\sum_h p(y=1|\\hat{x},h)p(h|D)=\\sum_h p(\\hat{x}|h)\\delta_{\\hat{h}}(h) = p(\\hat{x}|\\hat{h})$$"
   ]
  },
  {
   "cell_type": "code",
   "execution_count": 5,
   "metadata": {},
   "outputs": [],
   "source": [
    "class NumberGame():\n",
    "    def __init__(self,numseq):\n",
    "        self.D = numseq\n",
    "    def checkmultiple(self,n):\n",
    "        rem = np.remainder(self.D,n)\n",
    "        bol = (rem==0)\n",
    "        return bol\n",
    "    def checksquare(self):\n",
    "        rem = np.remainder(np.log(self.D)/np.log(2),2)\n",
    "        bol = (rem==0)\n",
    "        return bol\n",
    "    def computePosterior(self):\n",
    "        length = len(self.D)\n",
    "        bol1 = sum(self.checksquare())==len(self.D)\n",
    "        bol2 = sum(self.checkmultiple(2))==len(self.D)\n",
    "        bol3 = sum(self.checkmultiple(4))==len(self.D)\n",
    "        denom=bol1/10+bol2/50+bol3/25\n",
    "        p1 = bol1/10**length/denom\n",
    "        p2 = bol2/50**length/denom\n",
    "        p3 = bol3/25**length/denom\n",
    "        return p1,p2,p3\n",
    "    def computePredictive(self):\n",
    "       \n",
    "        Dall = np.linspace(1,100,100)\n",
    "        p1,p2,p3=self.computePosterior()\n",
    "        self.D = Dall\n",
    "        bol1all = self.checksquare()\n",
    "        bol2all = self.checkmultiple(2)\n",
    "        bol3all = self.checkmultiple(4)\n",
    "        p1all = p1*bol1all\n",
    "        p2all = p2*bol2all\n",
    "        p3all = p3*bol3all\n",
    "        p = p1all+p2all+p3all\n",
    "        return  p"
   ]
  },
  {
   "cell_type": "code",
   "execution_count": 6,
   "metadata": {
    "scrolled": true
   },
   "outputs": [
    {
     "data": {
      "text/plain": [
       "Text(0, 0.5, 'posterior')"
      ]
     },
     "execution_count": 6,
     "metadata": {},
     "output_type": "execute_result"
    },
    {
     "data": {
      "image/png": "[encoded data removed]",
      "text/plain": [
       "<Figure size 432x288 with 1 Axes>"
      ]
     },
     "metadata": {
      "needs_background": "light"
     },
     "output_type": "display_data"
    }
   ],
   "source": [
    "# Test case \n",
    "s = np.array([4,16,64])\n",
    "ng = NumberGame(s)\n",
    "objs = ('h1','h2','h3')\n",
    "ypos = np.arange(len(objs))\n",
    "plt.bar(ypos,ng.computePosterior(),align='center',alpha=.5)\n",
    "plt.xticks(ypos, objs)\n",
    "plt.ylabel('posterior')"
   ]
  },
  {
   "cell_type": "code",
   "execution_count": 7,
   "metadata": {},
   "outputs": [
    {
     "data": {
      "text/plain": [
       "<BarContainer object of 100 artists>"
      ]
     },
     "execution_count": 7,
     "metadata": {},
     "output_type": "execute_result"
    },
    {
     "data": {
      "image/png": "[encoded data removed]",
      "text/plain": [
       "<Figure size 432x288 with 1 Axes>"
      ]
     },
     "metadata": {
      "needs_background": "light"
     },
     "output_type": "display_data"
    }
   ],
   "source": [
    "plt.bar(np.arange(1,101),ng.computePredictive(),align='center',alpha=.5)"
   ]
  },
  {
   "cell_type": "code",
   "execution_count": 8,
   "metadata": {},
   "outputs": [
    {
     "data": {
      "text/plain": [
       "Text(0, 0.5, 'posterior')"
      ]
     },
     "execution_count": 8,
     "metadata": {},
     "output_type": "execute_result"
    },
    {
     "data": {
      "image/png": "[encoded data removed]",
      "text/plain": [
       "<Figure size 432x288 with 1 Axes>"
      ]
     },
     "metadata": {
      "needs_background": "light"
     },
     "output_type": "display_data"
    }
   ],
   "source": [
    "s = np.array([4,16,64,2])\n",
    "ng = NumberGame(s)\n",
    "objs = ('h1','h2','h3')\n",
    "ypos = np.arange(len(objs))\n",
    "plt.bar(ypos,ng.computePosterior(),align='center',alpha=.5)\n",
    "plt.xticks(ypos, objs)\n",
    "plt.ylabel('posterior')"
   ]
  },
  {
   "cell_type": "code",
   "execution_count": 9,
   "metadata": {},
   "outputs": [
    {
     "data": {
      "text/plain": [
       "<BarContainer object of 100 artists>"
      ]
     },
     "execution_count": 9,
     "metadata": {},
     "output_type": "execute_result"
    },
    {
     "data": {
      "image/png": "[encoded data removed]",
      "text/plain": [
       "<Figure size 432x288 with 1 Axes>"
      ]
     },
     "metadata": {
      "needs_background": "light"
     },
     "output_type": "display_data"
    }
   ],
   "source": [
    "plt.bar(np.arange(100),ng.computePredictive())"
   ]
  },
  {
   "cell_type": "code",
   "execution_count": 18,
   "metadata": {},
   "outputs": [
    {
     "data": {
      "text/plain": [
       "Text(0, 0.5, 'posterior')"
      ]
     },
     "execution_count": 18,
     "metadata": {},
     "output_type": "execute_result"
    },
    {
     "data": {
      "image/png": "[encoded data removed]",
      "text/plain": [
       "<Figure size 432x288 with 1 Axes>"
      ]
     },
     "metadata": {
      "needs_background": "light"
     },
     "output_type": "display_data"
    }
   ],
   "source": [
    "s = np.array([12])\n",
    "ng = NumberGame(s)\n",
    "objs = ('h1','h2','h3')\n",
    "ypos = np.arange(len(objs))\n",
    "plt.bar(ypos,ng.computePosterior(),align='center',alpha=.5)\n",
    "plt.xticks(ypos, objs)\n",
    "plt.ylabel('posterior')"
   ]
  },
  {
   "cell_type": "code",
   "execution_count": 19,
   "metadata": {},
   "outputs": [
    {
     "data": {
      "text/plain": [
       "<BarContainer object of 100 artists>"
      ]
     },
     "execution_count": 19,
     "metadata": {},
     "output_type": "execute_result"
    },
    {
     "data": {
      "image/png": "[encoded data removed]",
      "text/plain": [
       "<Figure size 432x288 with 1 Axes>"
      ]
     },
     "metadata": {
      "needs_background": "light"
     },
     "output_type": "display_data"
    }
   ],
   "source": [
    "plt.bar(np.arange(1,101),ng.computePredictive(),align='center',alpha=.5)"
   ]
  },
  {
   "cell_type": "code",
   "execution_count": null,
   "metadata": {},
   "outputs": [],
   "source": []
  }
 ],
 "metadata": {
  "kernelspec": {
   "display_name": "Python 3",
   "language": "python",
   "name": "python3"
  },
  "language_info": {
   "codemirror_mode": {
    "name": "ipython",
    "version": 3
   },
   "file_extension": ".py",
   "mimetype": "text/x-python",
   "name": "python",
   "nbconvert_exporter": "python",
   "pygments_lexer": "ipython3",
   "version": "3.7.4"
  }
 },
 "nbformat": 4,
 "nbformat_minor": 2
}
