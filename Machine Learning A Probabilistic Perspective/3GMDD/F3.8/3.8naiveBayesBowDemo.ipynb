{
 "cells": [
  {
   "cell_type": "code",
   "execution_count": 1,
   "metadata": {},
   "outputs": [],
   "source": [
    "import scipy.io as sio\n",
    "import numpy as np\n",
    "import math\n",
    "import matplotlib.pyplot as plt\n",
    "from scipy.sparse import csc_matrix\n",
    "data = sio.loadmat('XwindowsDocData.mat')"
   ]
  },
  {
   "cell_type": "code",
   "execution_count": 2,
   "metadata": {},
   "outputs": [],
   "source": [
    "xtrain = data['xtrain']; xtest = data['xtest']\n",
    "ytrain = data['ytrain']; ytest = data['ytest']\n",
    "vocab = data['vocab']"
   ]
  },
  {
   "cell_type": "markdown",
   "metadata": {},
   "source": [
    "### Naive Bayes classifiers\n",
    "- To classify vectors of discrete-valued features, $\\mathbf{x}\\in\\{1,...,K\\}^D$, where K is the number of values for each feature, and D is the number of features. A generative approach requires to specify the class conditional distribution, $p(\\mathbf{x}|y=c)$. The simplest approach is to assume the features are conditionally independent given the class label. The class conditional density as a product of one dimensional densities: \n",
    "\n",
    "$$p(\\mathbf{x}|y=c,\\mathbf{\\theta})= \\prod^D_{j=1}p(x_j|y=c,\\theta_{jc})$$\n",
    "\n",
    "The resulting model is called a naive Bayes classifier (NBC) $\\sim O(CD)$, for C classes and D features.\n",
    "\n",
    "- In the case of **real-valued features**, the Gaussian distribution can be used. $p(\\mathbf{x}|y=c,\\theta)=\\prod^D_{j=1}\\mathcal{N}(x_j|\\mu_{jc},\\sigma^2_{jc})$, where $\\mu_{jc}$ the mean of feature $j$ in objects of class $c$, and $\\sigma^2_{jc}$ its variance.\n",
    "- In the case of **binary features**, $x_j\\in\\{0,1\\}$, the Bernoulli distribution $p(\\mathbf{x}|y=c,\\theta)=\\prod^D_{j=1}Ber(x_j|\\mu_{jc})$, where $\\mu_{jc}$ the probability that feature $j$ occurs in class $c$. (**multivariate Bernoulli naive Bayes**)\n",
    "- In the case of **categorical features**, $x_j\\in\\{1,...,K\\}$, the multinoulli distribution is used, $p(\\mathbf{x}|y=c,\\theta)=\\prod^D_{j=1}Cat(x_j|\\mu_{jc})$, where $\\mu_{jc}$ is a histogram over the K possible values for x_j in class c."
   ]
  },
  {
   "cell_type": "markdown",
   "metadata": {},
   "source": [
    "Train a naive Bayes classifier = computing the MLE or the MAP estimate for the parameters."
   ]
  },
  {
   "cell_type": "markdown",
   "metadata": {},
   "source": [
    "### MLE for NBC\n",
    "The probability for a single data case is given by,\n",
    "\n",
    "$$\n",
    "p(\\mathbf{x_i},y_i|\\theta) = p(y_i|\\pi)\\prod_j p(x_{ij}|\\theta_j) = \\prod_c \\pi_c^{\\mathbb{I}(y_i=c)}\\prod_j\\prod_c p(x_{ij}|\\theta_{jc})^{\\mathbb{I}(y_i=c)}\n",
    "$$\n",
    "\n",
    "where $p(y_i|\\pi)$ the likelihood over a class $c$, and $p(x_{ij}|\\theta_j)$ the probability of feature $j$ in the text document $i$ over class $c$. \n",
    "\n",
    "\\begin{align}\n",
    "\\log p(\\mathcal{D}|\\theta) &= \\sum_i\\log p(\\mathbf{x}_i,y_i|\\theta) = \\sum_i\\log\\prod_c \\pi_c^{\\mathbb{I}(y_i=c)}\\prod_j\\prod_c p(x_{ij}|\\theta_{jc})^{\\mathbb{I}(y_i=c)} \\\\\n",
    "&= \\sum_i\\sum^C_{c=1}\\mathbb{I}(y_i=c)\\log\\pi_c+\\sum_i\\sum_{j=1}^D\\sum^C_{c=1}\\mathbb{I}(y_i=c)\\log p(x_{ij}|\\theta_{jc}) \\\\\n",
    "\\log p(\\mathcal{D}|\\theta) &= \\sum^C_{c=1}N_c\\log\\pi_c + \\sum_{j=1}^D\\sum^C_{c=1}\\sum_{i:y_i=c}\\log p(x_{ij}|\\theta_{jc})\n",
    "\\end{align}\n",
    "\n",
    "where $N_c\\triangleq\\sum_i\\mathbb{I}(y_i=c)$ is the number of examples in class c.\n",
    "\n",
    "To enforce the constraints that $\\sum_c\\pi_c = 1$, a **Lagrange multiplier** is used. The **constrained objective function (Lagrangian)** is given by the **log likelihood** + the **constraint**: \n",
    "\n",
    "$$\\mathcal{l}(\\theta,\\lambda) = \\sum^C_{c=1}N_c\\log\\pi_c + \\sum_{j=1}^D\\sum^C_{c=1}\\sum_{i:y_i=c}\\log p(x_{ij}|\\theta_{jc})+\\lambda(1-\\sum_c\\pi_c)$$\n",
    "\n",
    "Taking derivatives with respect to $\\lambda$ yields the original constraint $\\sum_c\\pi_c = 1$. \n",
    "\n",
    "Taking derivatives with respect to $\\pi_c$ yields\n",
    "\n",
    "\\begin{align}\n",
    "\\frac{\\partial \\mathcal{l}}{\\partial \\pi_c} &= \\frac{N_c}{\\pi_c}-\\lambda =0 \\Longrightarrow N_c = \\lambda\\pi_c \\\\\n",
    "\\Longrightarrow \\sum_c N_c &= \\lambda\\sum_c\\pi_c \\Longrightarrow\n",
    "\\lambda = \\sum_c N_c = N\n",
    "\\end{align}\n",
    "Therefore, $$\\hat{\\pi}_c = \\frac{N_c}{\\lambda}=\\frac{N_c}{N}$$\n"
   ]
  },
  {
   "cell_type": "markdown",
   "metadata": {},
   "source": [
    "### Classifying documents using bag of words\n",
    "**Document classification** is the problem of classifying text documents into different categories. One simple approach is to represent each document as a binary vector, which records whether each word is present or not, so $x_{ij}=1$ iff (if or only if) word $j$ occurs in document $i$, otherwise $x_{ij}=0$.\n",
    "Suppose all features are binary (sparse matrix), so $x_i|y = c \\sim Ber(\\theta_{jc})$ and $p(x_{ij}|\\theta_{jc}) = Ber(x_{ij}|\\theta_{jc}) = \\theta_{jc}^{\\mathbb{I}(x_{ij})}(1-\\theta_{jc})^{\\mathbb{I}(1-x_{ij})}$.\n",
    "\n",
    "Class conditional density:\n",
    "$$p(\\mathbf{x}_i|y_i=c,\\theta)=\\prod^D_{j=1}Ber(x_{ij}|\\theta_{jc})=\\prod^D_{j=1}\\theta_{jc}^{\\mathbb{I}(x_{ij})}(1-\\theta_{jc})^{\\mathbb{I}(1-x_{ij})}$$"
   ]
  },
  {
   "cell_type": "markdown",
   "metadata": {},
   "source": [
    "To enforce the constraints that $\\sum_c\\sum_j\\theta_{jc} = 1$, a **Lagrange multiplier** is used. The **constrained objective function (Lagrangian)** is given by the **log likelihood** + the **constraint**: \n",
    "\n",
    "$$\\mathcal{l}(\\theta,\\lambda) = \\sum^C_{c=1}N_c\\log\\pi_c + \\sum_{j=1}^D\\sum^C_{c=1}\\sum_{i:y_i=c}\\log p(x_{ij}|\\theta_{jc})+\\lambda(1-\\sum_j\\sum_c\\theta_{jc})$$\n",
    "\n",
    "Therefore, $$\\hat{\\theta}_{jc}=\\frac{N_{jc}}{N}$$.\n",
    "\n"
   ]
  },
  {
   "cell_type": "markdown",
   "metadata": {},
   "source": [
    "### Fitting a naive Bayes classifier to binary features\n",
    "$$\\hat{\\pi}_c= \\frac{N_c}{N}\\text{ , }\\hat{\\theta}_{jc}=\\frac{N_{jc}}{N}$$"
   ]
  },
  {
   "cell_type": "code",
   "execution_count": 3,
   "metadata": {},
   "outputs": [],
   "source": [
    "def naiveBayesFit(xtrain,ytrain):\n",
    "    pC = 1\n",
    "    c = np.unique(ytrain)\n",
    "    Ntrain,D = xtrain.shape\n",
    "    theta = np.zeros((len(c),D))\n",
    "    Nclass = []\n",
    "    for i in c:\n",
    "        ndx = np.where(ytrain==i)[0]\n",
    "        Xtr = xtrain[ndx,:]\n",
    "        Non = np.sum(Xtr==1,axis=0)\n",
    "        Noff = np.sum(Xtr==0,axis=0)\n",
    "        theta[i-1,:] = (Non+pC)/(Non+Noff+2*pC)\n",
    "        Nclass.append(len(ndx))\n",
    "    classPrior = Nclass/np.sum(Nclass)\n",
    "    return theta,classPrior"
   ]
  },
  {
   "cell_type": "code",
   "execution_count": 4,
   "metadata": {
    "scrolled": false
   },
   "outputs": [
    {
     "name": "stderr",
     "output_type": "stream",
     "text": [
      "C:\\Users\\44754\\Anaconda3\\lib\\site-packages\\ipykernel_launcher.py:1: SparseEfficiencyWarning: Comparing a sparse matrix with 0 using == is inefficient, try using != instead.\n",
      "  \"\"\"Entry point for launching an IPython kernel.\n",
      "C:\\Users\\44754\\Anaconda3\\lib\\site-packages\\ipykernel_launcher.py:1: SparseEfficiencyWarning: Comparing a sparse matrix with 0 using == is inefficient, try using != instead.\n",
      "  \"\"\"Entry point for launching an IPython kernel.\n"
     ]
    }
   ],
   "source": [
    "theta,classPrior = naiveBayesFit(xtrain,ytrain)"
   ]
  },
  {
   "cell_type": "markdown",
   "metadata": {},
   "source": [
    "### Predicting with a naive bayes classifier for binary features\n",
    "\n",
    "$$p(y=c|\\mathbf{x},\\mathcal{D})\\propto p(y=c|\\mathcal{D})\\prod^D_{j=1}p(x_j|y=c,\\mathcal{D})$$\n",
    "\n",
    "The correct Bayesian procedure is to integrate out the unknwon parameters,\n",
    "\n",
    "$$p(y=c|\\mathbf{x},\\mathcal{D})\\propto\\bigg[\\int Cat(y=c|\\pi)p(\\pi|\\mathcal{D})d\\pi\\bigg]\\prod^D_{j=1}\\int Ber(x_j|y=c,\\theta_{jc})p(\\theta_{jc}|\\mathcal{D})$$\n",
    "\n",
    "The posterior predictive density is given by,\n",
    "\n",
    "\\begin{align}\n",
    "p(y=c|\\mathbf{x},\\mathcal{D})&\\propto \\bar{\\pi}_c\\prod^D_{j=1}\\bar{\\theta}_{jc}^{\\mathbb{I}(x_j=1)}(1-\\bar{\\theta}_{jc})^{\\mathbb{I}(x_j=0)} \\\\\n",
    "\\bar{\\theta}_{jk} &= \\frac{N_{jc}+\\beta_1}{N_c+\\beta_0+\\beta_1} \\\\\n",
    "\\bar{\\pi}_c &= \\frac{N_c+\\alpha_c}{N+\\alpha_0}\n",
    "\\end{align}\n",
    "\n",
    "To avoid numerical underflow, the log-sum-exp trick is also used. \n",
    "\n",
    "\\begin{align}\n",
    "p_{ic} &= \\exp(L_{ic}-\\log\\sum\\exp L_{i,:}) \\\\\n",
    "\\hat{y}_i &= \\arg\\max_c p_{ic}\n",
    "\\end{align}"
   ]
  },
  {
   "cell_type": "code",
   "execution_count": 5,
   "metadata": {},
   "outputs": [],
   "source": [
    "def naiveBayesPredict(theta,classPrior,xtest):\n",
    "    Ntest = xtest.shape[0]\n",
    "    C = theta.shape[0]\n",
    "    logPrior = np.log(classPrior)\n",
    "    logPost = np.zeros((Ntest,C))\n",
    "    #logPost = []\n",
    "    logT = np.log(theta)\n",
    "    logTnot = np.log(1-theta)\n",
    "    xtestnot = csc_matrix((xtest.todense()==0)*1)\n",
    "\n",
    "    xtesttmp = xtest.todense()\n",
    "    xtestnottmp = xtestnot.todense()\n",
    "    for i in np.array([1,2]):\n",
    "        tmpT = np.tile(logT[i-1,:],(Ntest,1))\n",
    "        tmpTnot = np.tile(logTnot[i-1,:],(Ntest,1))\n",
    "        L1 = csc_matrix(np.multiply(tmpT,xtesttmp))\n",
    "        L0 = csc_matrix(np.multiply(tmpTnot,xtestnottmp))\n",
    "        logPost[:,i-1]=np.sum(L0+L1,axis=1).squeeze()\n",
    "    yhat = np.argmax(logPost,axis=1)\n",
    "    return yhat\n",
    "def zeroOneLossFn(y,ypred):\n",
    "    err = y!=ypred\n",
    "    return err"
   ]
  },
  {
   "cell_type": "code",
   "execution_count": 6,
   "metadata": {},
   "outputs": [],
   "source": [
    "ypred_train = naiveBayesPredict(theta,classPrior,xtrain)\n",
    "err_train = np.mean(zeroOneLossFn(ytrain.squeeze(),ypred_train+1))\n",
    "ypred_test = naiveBayesPredict(theta,classPrior,xtest)\n",
    "err_test = np.mean(zeroOneLossFn(ytest.squeeze(),ypred_test+1))"
   ]
  },
  {
   "cell_type": "code",
   "execution_count": 7,
   "metadata": {},
   "outputs": [
    {
     "name": "stdout",
     "output_type": "stream",
     "text": [
      "Misclassification rate on train: 0.08333333333333333\n",
      "Misclassification rate on test: 0.18666666666666668\n"
     ]
    }
   ],
   "source": [
    "print('Misclassification rate on train: '+str(err_train))\n",
    "print('Misclassification rate on test: '+str(err_test))"
   ]
  },
  {
   "cell_type": "code",
   "execution_count": 8,
   "metadata": {},
   "outputs": [
    {
     "data": {
      "text/plain": [
       "<BarContainer object of 600 artists>"
      ]
     },
     "execution_count": 8,
     "metadata": {},
     "output_type": "execute_result"
    },
    {
     "data": {
      "image/png": "[encoded data removed]",
      "text/plain": [
       "<Figure size 432x288 with 1 Axes>"
      ]
     },
     "metadata": {
      "needs_background": "light"
     },
     "output_type": "display_data"
    }
   ],
   "source": [
    "plt.bar(range(theta[0,:].shape[0]),theta[0,:])"
   ]
  },
  {
   "cell_type": "code",
   "execution_count": 9,
   "metadata": {},
   "outputs": [
    {
     "data": {
      "text/plain": [
       "<BarContainer object of 600 artists>"
      ]
     },
     "execution_count": 9,
     "metadata": {},
     "output_type": "execute_result"
    },
    {
     "data": {
      "image/png": "[encoded data removed]",
      "text/plain": [
       "<Figure size 432x288 with 1 Axes>"
      ]
     },
     "metadata": {
      "needs_background": "light"
     },
     "output_type": "display_data"
    }
   ],
   "source": [
    "plt.bar(range(theta[1,:].shape[0]),theta[1,:])"
   ]
  },
  {
   "cell_type": "code",
   "execution_count": null,
   "metadata": {},
   "outputs": [],
   "source": []
  }
 ],
 "metadata": {
  "kernelspec": {
   "display_name": "Python 3",
   "language": "python",
   "name": "python3"
  },
  "language_info": {
   "codemirror_mode": {
    "name": "ipython",
    "version": 3
   },
   "file_extension": ".py",
   "mimetype": "text/x-python",
   "name": "python",
   "nbconvert_exporter": "python",
   "pygments_lexer": "ipython3",
   "version": "3.7.4"
  }
 },
 "nbformat": 4,
 "nbformat_minor": 2
}
