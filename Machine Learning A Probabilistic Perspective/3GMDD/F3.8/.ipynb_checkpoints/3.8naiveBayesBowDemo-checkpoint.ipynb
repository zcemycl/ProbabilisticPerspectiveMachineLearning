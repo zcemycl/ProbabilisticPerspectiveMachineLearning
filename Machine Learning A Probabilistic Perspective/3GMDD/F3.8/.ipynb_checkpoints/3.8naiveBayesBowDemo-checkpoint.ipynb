{
 "cells": [
  {
   "cell_type": "code",
   "execution_count": 1,
   "metadata": {},
   "outputs": [],
   "source": [
    "import scipy.io as sio\n",
    "import numpy as np\n",
    "import math\n",
    "import matplotlib.pyplot as plt\n",
    "from scipy.sparse import csc_matrix\n",
    "data = sio.loadmat('XwindowsDocData.mat')"
   ]
  },
  {
   "cell_type": "code",
   "execution_count": 2,
   "metadata": {},
   "outputs": [],
   "source": [
    "xtrain = data['xtrain']; xtest = data['xtest']\n",
    "ytrain = data['ytrain']; ytest = data['ytest']\n",
    "vocab = data['vocab']"
   ]
  },
  {
   "cell_type": "code",
   "execution_count": 3,
   "metadata": {},
   "outputs": [],
   "source": [
    "def naiveBayesFit(xtrain,ytrain):\n",
    "    pC = 1\n",
    "    c = np.unique(ytrain)\n",
    "    Ntrain,D = xtrain.shape\n",
    "    theta = np.zeros((len(c),D))\n",
    "    Nclass = []\n",
    "    for i in c:\n",
    "        ndx = np.where(ytrain==i)[0]\n",
    "        Xtr = xtrain[ndx,:]\n",
    "        Non = np.sum(Xtr==1,axis=0)\n",
    "        Noff = np.sum(Xtr==0,axis=0)\n",
    "        theta[i-1,:] = (Non+pC)/(Non+Noff+2*pC)\n",
    "        Nclass.append(len(ndx))\n",
    "    classPrior = Nclass/np.sum(Nclass)\n",
    "    return theta,classPrior"
   ]
  },
  {
   "cell_type": "code",
   "execution_count": 4,
   "metadata": {
    "scrolled": false
   },
   "outputs": [
    {
     "name": "stderr",
     "output_type": "stream",
     "text": [
      "C:\\Users\\44754\\Anaconda3\\lib\\site-packages\\ipykernel_launcher.py:1: SparseEfficiencyWarning: Comparing a sparse matrix with 0 using == is inefficient, try using != instead.\n",
      "  \"\"\"Entry point for launching an IPython kernel.\n",
      "C:\\Users\\44754\\Anaconda3\\lib\\site-packages\\ipykernel_launcher.py:1: SparseEfficiencyWarning: Comparing a sparse matrix with 0 using == is inefficient, try using != instead.\n",
      "  \"\"\"Entry point for launching an IPython kernel.\n"
     ]
    }
   ],
   "source": [
    "theta,classPrior = naiveBayesFit(xtrain,ytrain)"
   ]
  },
  {
   "cell_type": "code",
   "execution_count": 20,
   "metadata": {},
   "outputs": [],
   "source": [
    "def naiveBayesPredict(theta,classPrior,xtest):\n",
    "    Ntest = xtest.shape[0]\n",
    "    C = theta.shape[0]\n",
    "    logPrior = np.log(classPrior)\n",
    "    logPost = np.zeros((Ntest,C))\n",
    "    #logPost = []\n",
    "    logT = np.log(theta)\n",
    "    logTnot = np.log(1-theta)\n",
    "    xtestnot = csc_matrix((xtest.todense()==0)*1)\n",
    "\n",
    "    xtesttmp = xtest.todense()\n",
    "    xtestnottmp = xtestnot.todense()\n",
    "    for i in np.array([1,2]):\n",
    "        tmpT = np.tile(logT[i-1,:],(Ntest,1))\n",
    "        tmpTnot = np.tile(logTnot[i-1,:],(Ntest,1))\n",
    "        L1 = csc_matrix(np.multiply(tmpT,xtesttmp))\n",
    "        L0 = csc_matrix(np.multiply(tmpTnot,xtestnottmp))\n",
    "        logPost[:,i-1]=np.sum(L0+L1,axis=1).squeeze()\n",
    "    yhat = np.argmax(logPost,axis=1)\n",
    "    return yhat\n",
    "def zeroOneLossFn(y,ypred):\n",
    "    err = y!=ypred\n",
    "    return err"
   ]
  },
  {
   "cell_type": "code",
   "execution_count": 19,
   "metadata": {},
   "outputs": [],
   "source": [
    "ypred_train = naiveBayesPredict(theta,classPrior,xtrain)"
   ]
  },
  {
   "cell_type": "code",
   "execution_count": 10,
   "metadata": {},
   "outputs": [
    {
     "data": {
      "text/plain": [
       "(900,)"
      ]
     },
     "execution_count": 10,
     "metadata": {},
     "output_type": "execute_result"
    }
   ],
   "source": [
    "ypred_train.shape"
   ]
  },
  {
   "cell_type": "code",
   "execution_count": 12,
   "metadata": {},
   "outputs": [
    {
     "data": {
      "text/plain": [
       "(900, 600)"
      ]
     },
     "execution_count": 12,
     "metadata": {},
     "output_type": "execute_result"
    }
   ],
   "source": [
    "xtrain.shape"
   ]
  },
  {
   "cell_type": "code",
   "execution_count": 14,
   "metadata": {},
   "outputs": [],
   "source": [
    "err = zeroOneLossFn(ytrain,ypred_train)"
   ]
  },
  {
   "cell_type": "code",
   "execution_count": 17,
   "metadata": {},
   "outputs": [
    {
     "data": {
      "text/plain": [
       "0.7694444444444445"
      ]
     },
     "execution_count": 17,
     "metadata": {},
     "output_type": "execute_result"
    }
   ],
   "source": [
    "np.mean(err)"
   ]
  },
  {
   "cell_type": "code",
   "execution_count": null,
   "metadata": {},
   "outputs": [],
   "source": []
  }
 ],
 "metadata": {
  "kernelspec": {
   "display_name": "Python 3",
   "language": "python",
   "name": "python3"
  },
  "language_info": {
   "codemirror_mode": {
    "name": "ipython",
    "version": 3
   },
   "file_extension": ".py",
   "mimetype": "text/x-python",
   "name": "python",
   "nbconvert_exporter": "python",
   "pygments_lexer": "ipython3",
   "version": "3.7.4"
  }
 },
 "nbformat": 4,
 "nbformat_minor": 2
}
