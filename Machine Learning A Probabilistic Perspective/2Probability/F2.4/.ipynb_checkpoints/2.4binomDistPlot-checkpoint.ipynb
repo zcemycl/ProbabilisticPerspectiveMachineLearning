{
 "cells": [
  {
   "cell_type": "code",
   "execution_count": 10,
   "metadata": {},
   "outputs": [],
   "source": [
    "import numpy as np\n",
    "from scipy.special import comb\n",
    "import matplotlib.pyplot as plt"
   ]
  },
  {
   "cell_type": "markdown",
   "metadata": {},
   "source": [
    "### Binomial Distribution\n",
    "This notebook shows how to sample from binomial distribution using uniform distribution \\\n",
    "The binomial distribution is given by,\n",
    "$$Bin(k|n,\\theta)\\triangleq \\frac{n!}{(n-k)!k!}\\theta^k(1-\\theta)^{n-k}$$\n"
   ]
  },
  {
   "cell_type": "code",
   "execution_count": 11,
   "metadata": {},
   "outputs": [],
   "source": [
    "def binomialDist(n,p):\n",
    "    y = []\n",
    "    for i in range(n+1):\n",
    "        nck = comb(n,i)\n",
    "        y.append(nck*p**i*(1-p)**(n-i))\n",
    "    return y"
   ]
  },
  {
   "cell_type": "markdown",
   "metadata": {},
   "source": [
    "For n = 10, $\\theta\\in\\{0.25,0.9\\}$"
   ]
  },
  {
   "cell_type": "code",
   "execution_count": 12,
   "metadata": {},
   "outputs": [
    {
     "data": {
      "text/plain": [
       "<BarContainer object of 11 artists>"
      ]
     },
     "execution_count": 12,
     "metadata": {},
     "output_type": "execute_result"
    },
    {
     "data": {
      "image/png": "[encoded data removed]",
      "text/plain": [
       "<Figure size 432x288 with 1 Axes>"
      ]
     },
     "metadata": {
      "needs_background": "light"
     },
     "output_type": "display_data"
    }
   ],
   "source": [
    "draws = 10\n",
    "x = range(draws+1)\n",
    "y = binomialDist(draws,0.25)\n",
    "plt.bar(x,y)"
   ]
  },
  {
   "cell_type": "code",
   "execution_count": 13,
   "metadata": {},
   "outputs": [
    {
     "data": {
      "text/plain": [
       "<BarContainer object of 11 artists>"
      ]
     },
     "execution_count": 13,
     "metadata": {},
     "output_type": "execute_result"
    },
    {
     "data": {
      "image/png": "[encoded data removed]",
      "text/plain": [
       "<Figure size 432x288 with 1 Axes>"
      ]
     },
     "metadata": {
      "needs_background": "light"
     },
     "output_type": "display_data"
    }
   ],
   "source": [
    "y = binomialDist(draws,0.9)\n",
    "plt.bar(x,y)"
   ]
  },
  {
   "cell_type": "markdown",
   "metadata": {},
   "source": [
    "### From Uniform Distribution to binomial distribution\n",
    "For $p=0.25$, we can sample {1,2,3,4} from a discrete distribution, taking 1 as 0 and others as 1. Then it should satisfy $p(0)=0.25$. Since n=10, each time should take 10 draws, each trial is a bernoulli distribution, after N trials, it should converge to binomial distribution."
   ]
  },
  {
   "cell_type": "code",
   "execution_count": 29,
   "metadata": {},
   "outputs": [
    {
     "data": {
      "text/plain": [
       "(array([5.60850e+04, 1.88158e+05, 2.81698e+05, 2.50454e+05, 1.45354e+05,\n",
       "        5.86100e+04, 1.61740e+04, 3.07000e+03, 3.69000e+02, 2.80000e+01]),\n",
       " array([0. , 0.9, 1.8, 2.7, 3.6, 4.5, 5.4, 6.3, 7.2, 8.1, 9. ]),\n",
       " <a list of 10 Patch objects>)"
      ]
     },
     "execution_count": 29,
     "metadata": {},
     "output_type": "execute_result"
    },
    {
     "data": {
      "image/png": "[encoded data removed]",
      "text/plain": [
       "<Figure size 432x288 with 1 Axes>"
      ]
     },
     "metadata": {
      "needs_background": "light"
     },
     "output_type": "display_data"
    }
   ],
   "source": [
    "s = np.random.randint(1,5,[10,1000000])\n",
    "s = np.where(s>1,0,s)\n",
    "countbinary = np.count_nonzero(s,axis=0)\n",
    "\n",
    "plt.hist(countbinary)"
   ]
  },
  {
   "cell_type": "code",
   "execution_count": 27,
   "metadata": {},
   "outputs": [
    {
     "data": {
      "text/plain": [
       "(array([2.000000e+00, 7.900000e+01, 1.367000e+03, 1.479600e+04,\n",
       "        0.000000e+00, 1.115180e+05, 5.744810e+05, 1.936975e+06,\n",
       "        3.875831e+06, 3.484951e+06]),\n",
       " array([ 2. ,  2.8,  3.6,  4.4,  5.2,  6. ,  6.8,  7.6,  8.4,  9.2, 10. ]),\n",
       " <a list of 10 Patch objects>)"
      ]
     },
     "execution_count": 27,
     "metadata": {},
     "output_type": "execute_result"
    },
    {
     "data": {
      "image/png": "[encoded data removed]",
      "text/plain": [
       "<Figure size 432x288 with 1 Axes>"
      ]
     },
     "metadata": {
      "needs_background": "light"
     },
     "output_type": "display_data"
    }
   ],
   "source": [
    "s = np.random.randint(1,11,[10,10000000])\n",
    "s = np.where(s==1, 0, s) \n",
    "s = np.where(s>1,1,s)\n",
    "countbinary = np.count_nonzero(s,axis=0)\n",
    "\n",
    "plt.hist(countbinary)"
   ]
  },
  {
   "cell_type": "code",
   "execution_count": null,
   "metadata": {},
   "outputs": [],
   "source": []
  }
 ],
 "metadata": {
  "kernelspec": {
   "display_name": "Python 3",
   "language": "python",
   "name": "python3"
  },
  "language_info": {
   "codemirror_mode": {
    "name": "ipython",
    "version": 3
   },
   "file_extension": ".py",
   "mimetype": "text/x-python",
   "name": "python",
   "nbconvert_exporter": "python",
   "pygments_lexer": "ipython3",
   "version": "3.7.4"
  }
 },
 "nbformat": 4,
 "nbformat_minor": 2
}
