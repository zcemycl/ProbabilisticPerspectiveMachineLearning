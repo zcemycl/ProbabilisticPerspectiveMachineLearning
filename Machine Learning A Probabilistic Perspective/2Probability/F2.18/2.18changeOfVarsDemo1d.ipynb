{
 "cells": [
  {
   "cell_type": "code",
   "execution_count": 1,
   "metadata": {},
   "outputs": [],
   "source": [
    "import numpy as np\n",
    "import matplotlib.pyplot as plt"
   ]
  },
  {
   "cell_type": "code",
   "execution_count": 4,
   "metadata": {},
   "outputs": [
    {
     "data": {
      "text/plain": [
       "[<matplotlib.lines.Line2D at 0x163572e63c8>]"
      ]
     },
     "execution_count": 4,
     "metadata": {},
     "output_type": "execute_result"
    },
    {
     "data": {
      "image/png": "[encoded data removed]",
      "text/plain": [
       "<Figure size 432x288 with 1 Axes>"
      ]
     },
     "metadata": {
      "needs_background": "light"
     },
     "output_type": "display_data"
    }
   ],
   "source": [
    "xs = np.linspace(-1,1,21)\n",
    "a = -1; b = 1;\n",
    "px = 1/(b-a)*np.ones(xs.shape)\n",
    "plt.plot(xs,px)"
   ]
  },
  {
   "cell_type": "code",
   "execution_count": 7,
   "metadata": {},
   "outputs": [
    {
     "name": "stderr",
     "output_type": "stream",
     "text": [
      "C:\\Users\\44754\\Anaconda3\\lib\\site-packages\\ipykernel_launcher.py:3: RuntimeWarning: divide by zero encountered in true_divide\n",
      "  This is separate from the ipykernel package so we can avoid doing imports until\n"
     ]
    },
    {
     "data": {
      "text/plain": [
       "[<matplotlib.lines.Line2D at 0x163578b9388>]"
      ]
     },
     "execution_count": 7,
     "metadata": {},
     "output_type": "execute_result"
    },
    {
     "data": {
      "image/png": "[encoded data removed]",
      "text/plain": [
       "<Figure size 432x288 with 1 Axes>"
      ]
     },
     "metadata": {
      "needs_background": "light"
     },
     "output_type": "display_data"
    }
   ],
   "source": [
    "fn = lambda x: x**2\n",
    "ys = fn(xs)\n",
    "ppy = 1/2/np.sqrt(ys)\n",
    "plt.plot(ys,ppy)"
   ]
  },
  {
   "cell_type": "code",
   "execution_count": 9,
   "metadata": {},
   "outputs": [
    {
     "data": {
      "text/plain": [
       "(array([215.,  89.,  68.,  71.,  49.,  48.,  47.,  44.,  30.,  43.,  30.,\n",
       "         33.,  31.,  30.,  26.,  25.,  33.,  32.,  29.,  27.]),\n",
       " array([3.23332473e-07, 4.99466727e-02, 9.98930221e-02, 1.49839371e-01,\n",
       "        1.99785721e-01, 2.49732070e-01, 2.99678420e-01, 3.49624769e-01,\n",
       "        3.99571118e-01, 4.49517468e-01, 4.99463817e-01, 5.49410166e-01,\n",
       "        5.99356516e-01, 6.49302865e-01, 6.99249215e-01, 7.49195564e-01,\n",
       "        7.99141913e-01, 8.49088263e-01, 8.99034612e-01, 9.48980961e-01,\n",
       "        9.98927311e-01]),\n",
       " <a list of 20 Patch objects>)"
      ]
     },
     "execution_count": 9,
     "metadata": {},
     "output_type": "execute_result"
    },
    {
     "data": {
      "image/png": "[encoded data removed]",
      "text/plain": [
       "<Figure size 432x288 with 1 Axes>"
      ]
     },
     "metadata": {
      "needs_background": "light"
     },
     "output_type": "display_data"
    }
   ],
   "source": [
    "n = 1000\n",
    "samples = np.random.uniform(a,b,1000)\n",
    "samples2= fn(samples)\n",
    "plt.hist(samples2,20)"
   ]
  },
  {
   "cell_type": "code",
   "execution_count": null,
   "metadata": {},
   "outputs": [],
   "source": []
  }
 ],
 "metadata": {
  "kernelspec": {
   "display_name": "Python 3",
   "language": "python",
   "name": "python3"
  },
  "language_info": {
   "codemirror_mode": {
    "name": "ipython",
    "version": 3
   },
   "file_extension": ".py",
   "mimetype": "text/x-python",
   "name": "python",
   "nbconvert_exporter": "python",
   "pygments_lexer": "ipython3",
   "version": "3.7.4"
  }
 },
 "nbformat": 4,
 "nbformat_minor": 2
}
