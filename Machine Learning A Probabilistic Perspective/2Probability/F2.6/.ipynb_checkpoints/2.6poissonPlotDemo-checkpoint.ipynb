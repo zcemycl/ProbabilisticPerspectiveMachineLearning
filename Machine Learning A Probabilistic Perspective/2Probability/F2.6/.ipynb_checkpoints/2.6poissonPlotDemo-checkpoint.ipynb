{
 "cells": [
  {
   "cell_type": "code",
   "execution_count": 1,
   "metadata": {},
   "outputs": [],
   "source": [
    "import numpy as np\n",
    "import matplotlib.pyplot as plt"
   ]
  },
  {
   "cell_type": "markdown",
   "metadata": {},
   "source": [
    "### From Binomial Distribution to Poisson Distribution\n",
    "The binomial distribution is given by,\n",
    "$$Bin(k|n,\\theta) \\triangleq \\frac{n!}{k!(n-k)!}\\theta^k(1-\\theta)^{n-k} $$\n",
    "The poisson distribution is given by,\n",
    "$$Poi(k|\\lambda) \\triangleq e^{-\\lambda}\\frac{\\lambda^k}{k!} $$\n",
    "Proof:\n",
    "Consider $\\theta=\\frac{\\lambda}{n}$,\n",
    "\\begin{align*} &\\lim_{n\\rightarrow \\infty}\\binom{n}{k} (\\frac{\\lambda}{n})^k(1-\\frac{\\lambda}{n})^{n-k}=\\frac{\\lambda^k}{k!}\\lim_{n\\rightarrow \\infty}\\frac{n!}{(n-k)!}\\frac{1}{n^k}(1-\\frac{\\lambda}{n})^{n}(1-\\frac{\\lambda}{n})^{-k} \\\\\n",
    "&= \\frac{\\lambda^k}{k!}\\lim_{n\\rightarrow \\infty}\\frac{n(n-1)\\dots(n-k+1)}{n^k}(1-\\frac{\\lambda}{n})^{n}(1-\\frac{\\lambda}{n})^{-k} \\\\\n",
    "&\\approx \\frac{\\lambda^k}{k!}\\lim_{n\\rightarrow \\infty}(1-\\frac{\\lambda}{n})^{n}(1-\\frac{\\lambda}{n})^{-k} =e^{-\\lambda}\\frac{\\lambda^k}{k!}\n",
    "\\end{align*}"
   ]
  },
  {
   "cell_type": "markdown",
   "metadata": {},
   "source": [
    "For $\\lambda \\in\\{1,10\\}$,"
   ]
  },
  {
   "cell_type": "code",
   "execution_count": 7,
   "metadata": {},
   "outputs": [
    {
     "data": {
      "image/png": "[encoded data removed]",
      "text/plain": [
       "<Figure size 432x288 with 1 Axes>"
      ]
     },
     "metadata": {
      "needs_background": "light"
     },
     "output_type": "display_data"
    }
   ],
   "source": [
    "s = np.random.poisson(1, 1000000)\n",
    "count, bins, ignored = plt.hist(s, density=True, rwidth=0.8)"
   ]
  },
  {
   "cell_type": "code",
   "execution_count": 14,
   "metadata": {
    "scrolled": true
   },
   "outputs": [
    {
     "data": {
      "image/png": "[encoded data removed]",
      "text/plain": [
       "<Figure size 432x288 with 1 Axes>"
      ]
     },
     "metadata": {
      "needs_background": "light"
     },
     "output_type": "display_data"
    }
   ],
   "source": [
    "s = np.random.poisson(10, 1000000)\n",
    "count, bins, ignored = plt.hist(s,50, density=True)"
   ]
  },
  {
   "cell_type": "markdown",
   "metadata": {},
   "source": [
    "From Figure 2.4, we have sampled from the binomial distribution.  \\\n",
    "If $n=100$, given $\\lambda=1$, then $\\theta = 1/100$."
   ]
  },
  {
   "cell_type": "code",
   "execution_count": 16,
   "metadata": {},
   "outputs": [
    {
     "data": {
      "text/plain": [
       "(array([3.66074e+05, 3.69816e+05, 1.84749e+05, 6.09010e+04, 1.50460e+04,\n",
       "        2.88900e+03, 4.53000e+02, 6.50000e+01, 6.00000e+00, 1.00000e+00]),\n",
       " array([0. , 0.9, 1.8, 2.7, 3.6, 4.5, 5.4, 6.3, 7.2, 8.1, 9. ]),\n",
       " <a list of 10 Patch objects>)"
      ]
     },
     "execution_count": 16,
     "metadata": {},
     "output_type": "execute_result"
    },
    {
     "data": {
      "image/png": "[encoded data removed]",
      "text/plain": [
       "<Figure size 432x288 with 1 Axes>"
      ]
     },
     "metadata": {
      "needs_background": "light"
     },
     "output_type": "display_data"
    }
   ],
   "source": [
    "s = np.random.randint(1,101,[100,1000000])\n",
    "s = np.where(s>1,0,s)\n",
    "countbinary = np.count_nonzero(s,axis=0)\n",
    "\n",
    "plt.hist(countbinary)"
   ]
  },
  {
   "cell_type": "markdown",
   "metadata": {},
   "source": [
    "GIven $\\lambda=10$, then $\\theta=1/10$"
   ]
  },
  {
   "cell_type": "code",
   "execution_count": 17,
   "metadata": {},
   "outputs": [
    {
     "data": {
      "text/plain": [
       "(array([1.94400e+03, 5.57690e+04, 2.63609e+05, 2.62257e+05, 2.92716e+05,\n",
       "        1.02784e+05, 1.63280e+04, 4.25600e+03, 3.24000e+02, 1.30000e+01]),\n",
       " array([ 0. ,  2.7,  5.4,  8.1, 10.8, 13.5, 16.2, 18.9, 21.6, 24.3, 27. ]),\n",
       " <a list of 10 Patch objects>)"
      ]
     },
     "execution_count": 17,
     "metadata": {},
     "output_type": "execute_result"
    },
    {
     "data": {
      "image/png": "[encoded data removed]",
      "text/plain": [
       "<Figure size 432x288 with 1 Axes>"
      ]
     },
     "metadata": {
      "needs_background": "light"
     },
     "output_type": "display_data"
    }
   ],
   "source": [
    "s = np.random.randint(1,11,[100,1000000])\n",
    "s = np.where(s>1,0,s)\n",
    "countbinary = np.count_nonzero(s,axis=0)\n",
    "\n",
    "plt.hist(countbinary)"
   ]
  },
  {
   "cell_type": "markdown",
   "metadata": {},
   "source": [
    "From Figures above, you can observe that with a greater $n$, the Binomial distribution can converge to the Poisson distribution."
   ]
  },
  {
   "cell_type": "code",
   "execution_count": null,
   "metadata": {},
   "outputs": [],
   "source": []
  }
 ],
 "metadata": {
  "kernelspec": {
   "display_name": "Python 3",
   "language": "python",
   "name": "python3"
  },
  "language_info": {
   "codemirror_mode": {
    "name": "ipython",
    "version": 3
   },
   "file_extension": ".py",
   "mimetype": "text/x-python",
   "name": "python",
   "nbconvert_exporter": "python",
   "pygments_lexer": "ipython3",
   "version": "3.7.4"
  }
 },
 "nbformat": 4,
 "nbformat_minor": 2
}
