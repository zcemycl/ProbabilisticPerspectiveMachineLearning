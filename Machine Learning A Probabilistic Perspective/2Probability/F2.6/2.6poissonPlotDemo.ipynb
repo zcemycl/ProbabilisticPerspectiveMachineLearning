{
 "cells": [
  {
   "cell_type": "code",
   "execution_count": 1,
   "metadata": {},
   "outputs": [],
   "source": [
    "import numpy as np\n",
    "import matplotlib.pyplot as plt"
   ]
  },
  {
   "cell_type": "markdown",
   "metadata": {},
   "source": [
    "### From Binomial Distribution to Poisson Distribution\n",
    "The binomial distribution is given by,\n",
    "$$Bin(k|n,\\theta) \\triangleq \\frac{n!}{k!(n-k)!}\\theta^k(1-\\theta)^{n-k} $$\n",
    "The poisson distribution is given by,\n",
    "$$Poi(k|\\lambda) \\triangleq e^{-\\lambda}\\frac{\\lambda^k}{k!} $$\n",
    "Proof:\n",
    "Consider $\\theta=\\frac{\\lambda}{n}$,\n",
    "\\begin{align*} &\\lim_{n\\rightarrow \\infty}\\binom{n}{k} (\\frac{\\lambda}{n})^k(1-\\frac{\\lambda}{n})^{n-k}=\\frac{\\lambda^k}{k!}\\lim_{n\\rightarrow \\infty}\\frac{n!}{(n-k)!}\\frac{1}{n^k}(1-\\frac{\\lambda}{n})^{n}(1-\\frac{\\lambda}{n})^{-k} \\\\\n",
    "&= \\frac{\\lambda^k}{k!}\\lim_{n\\rightarrow \\infty}\\frac{n(n-1)\\dots(n-k+1)}{n^k}(1-\\frac{\\lambda}{n})^{n}(1-\\frac{\\lambda}{n})^{-k} \\\\\n",
    "&\\approx \\frac{\\lambda^k}{k!}\\lim_{n\\rightarrow \\infty}(1-\\frac{\\lambda}{n})^{n}(1-\\frac{\\lambda}{n})^{-k} =e^{-\\lambda}\\frac{\\lambda^k}{k!}\n",
    "\\end{align*}"
   ]
  },
  {
   "cell_type": "markdown",
   "metadata": {},
   "source": [
    "For $\\lambda \\in\\{1,10\\}$,"
   ]
  },
  {
   "cell_type": "code",
   "execution_count": 7,
   "metadata": {},
   "outputs": [
    {
     "data": {
      "image/png": "[encoded data removed]",
      "text/plain": [
       "<Figure size 432x288 with 1 Axes>"
      ]
     },
     "metadata": {
      "needs_background": "light"
     },
     "output_type": "display_data"
    }
   ],
   "source": [
    "s = np.random.poisson(1, 1000000)\n",
    "count, bins, ignored = plt.hist(s, density=True, rwidth=0.8)"
   ]
  },
  {
   "cell_type": "code",
   "execution_count": 14,
   "metadata": {},
   "outputs": [
    {
     "data": {
      "image/png": "[encoded data removed]",
      "text/plain": [
       "<Figure size 432x288 with 1 Axes>"
      ]
     },
     "metadata": {
      "needs_background": "light"
     },
     "output_type": "display_data"
    }
   ],
   "source": [
    "s = np.random.poisson(10, 1000000)\n",
    "count, bins, ignored = plt.hist(s,50, density=True)"
   ]
  },
  {
   "cell_type": "code",
   "execution_count": null,
   "metadata": {},
   "outputs": [],
   "source": []
  }
 ],
 "metadata": {
  "kernelspec": {
   "display_name": "Python 3",
   "language": "python",
   "name": "python3"
  },
  "language_info": {
   "codemirror_mode": {
    "name": "ipython",
    "version": 3
   },
   "file_extension": ".py",
   "mimetype": "text/x-python",
   "name": "python",
   "nbconvert_exporter": "python",
   "pygments_lexer": "ipython3",
   "version": "3.7.4"
  }
 },
 "nbformat": 4,
 "nbformat_minor": 2
}
