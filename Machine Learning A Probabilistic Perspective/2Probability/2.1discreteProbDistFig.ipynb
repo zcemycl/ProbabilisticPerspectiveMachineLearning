{
 "cells": [
  {
   "cell_type": "markdown",
   "metadata": {},
   "source": [
    "### Uniform Distribution\n",
    "Consider,\n",
    "$$\\mathbb{U}[N_{bin},r'_{min},r'_{max},r_{min},r_{max}] = \\frac{r'_{max}-r'_{min}}{N_{bin}(r_{max}-r_{min})} $$\n",
    "Since in Matlab rand, the uniform distribution is defined in the range of $[0,1]$,\n",
    "$$r\\sim \\mathbb{U}[0,1]$$\n",
    "To extend the range $r\\in [0,1]$ to $r'\\in [a,b]$,\n",
    "$$r' = r(b-a)+a$$"
   ]
  },
  {
   "cell_type": "code",
   "execution_count": 2,
   "metadata": {},
   "outputs": [],
   "source": [
    "import numpy as np\n",
    "import matplotlib.pyplot as plt"
   ]
  },
  {
   "cell_type": "code",
   "execution_count": 69,
   "metadata": {},
   "outputs": [
    {
     "data": {
      "text/plain": [
       "[<matplotlib.lines.Line2D at 0x242c6a4a588>]"
      ]
     },
     "execution_count": 69,
     "metadata": {},
     "output_type": "execute_result"
    },
    {
     "data": {
      "image/png": "[encoded data removed]",
      "text/plain": [
       "<Figure size 432x288 with 1 Axes>"
      ]
     },
     "metadata": {
      "needs_background": "light"
     },
     "output_type": "display_data"
    }
   ],
   "source": [
    "s = np.random.uniform(1,5,10000)\n",
    "count, bins, ignored = plt.hist(s, 4, density=True, align='left',rwidth=0.5)\n",
    "plt.plot(bins, 0.25*np.ones_like(bins), linewidth=2, color='r')"
   ]
  },
  {
   "cell_type": "markdown",
   "metadata": {},
   "source": [
    "### Degenerate Distribution\n",
    "\\begin{equation}\n",
    "p(x)=\\left\\{\n",
    "  \\begin{array}{@{}ll@{}}\n",
    "    1, & \\text{if}\\ x=1 \\\\\n",
    "    0, & \\text{if}\\ x\\in\\{2,3,4\\}\n",
    "  \\end{array}\\right.\n",
    "\\end{equation}"
   ]
  },
  {
   "cell_type": "code",
   "execution_count": 79,
   "metadata": {},
   "outputs": [
    {
     "data": {
      "text/plain": [
       "[<matplotlib.lines.Line2D at 0x242c6cb9248>]"
      ]
     },
     "execution_count": 79,
     "metadata": {},
     "output_type": "execute_result"
    },
    {
     "data": {
      "image/png": "[encoded data removed]",
      "text/plain": [
       "<Figure size 432x288 with 1 Axes>"
      ]
     },
     "metadata": {
      "needs_background": "light"
     },
     "output_type": "display_data"
    }
   ],
   "source": [
    "s = np.random.uniform(0,1,1000)\n",
    "s = np.concatenate((s,np.zeros(5000)))\n",
    "count, bins, ignored = plt.hist(s, 1, density=True, align='right')\n",
    "plt.plot(range(0,6), np.ones(6), linewidth=2, color='r')"
   ]
  },
  {
   "cell_type": "code",
   "execution_count": null,
   "metadata": {},
   "outputs": [],
   "source": []
  }
 ],
 "metadata": {
  "kernelspec": {
   "display_name": "Python 3",
   "language": "python",
   "name": "python3"
  },
  "language_info": {
   "codemirror_mode": {
    "name": "ipython",
    "version": 3
   },
   "file_extension": ".py",
   "mimetype": "text/x-python",
   "name": "python",
   "nbconvert_exporter": "python",
   "pygments_lexer": "ipython3",
   "version": "3.7.4"
  }
 },
 "nbformat": 4,
 "nbformat_minor": 2
}
