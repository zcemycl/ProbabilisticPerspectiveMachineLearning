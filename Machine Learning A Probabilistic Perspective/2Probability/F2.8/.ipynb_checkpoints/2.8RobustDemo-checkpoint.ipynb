{
 "cells": [
  {
   "cell_type": "code",
   "execution_count": null,
   "metadata": {},
   "outputs": [],
   "source": []
  },
  {
   "cell_type": "markdown",
   "metadata": {},
   "source": [
    "### Data Fitting with Gaussian, Laplacian and Student Distribution\n",
    "One dimensional data is relatively easy to deal with. \\\n",
    "The Gaussian (Normal) distribution is given by,\n",
    "$$\\mathcal{N}(x;\\mu,\\sigma^2)\\triangleq\\frac{1}{\\sqrt{2\\pi\\sigma^2}}exp\\bigg(-\\frac{1}{2}\\frac{(x-\\mu)^2}{\\sigma^2}\\bigg)$$\n",
    "Its statistics (mean and standard deviation) is given by,\n",
    "$$\\mu = \\frac{\\sum^N_i x_i}{N} \\text{and } \\sigma = \\sqrt{\\frac{\\sum^N_i (x_i-\\mu)^2}{N}}$$"
   ]
  },
  {
   "cell_type": "code",
   "execution_count": null,
   "metadata": {},
   "outputs": [],
   "source": []
  },
  {
   "cell_type": "markdown",
   "metadata": {},
   "source": [
    "The Laplacian distribution is given by,\n",
    "$$Lap(x;\\mu,b)\\triangleq \\frac{1}{2b}exp\\big(-\\frac{|x-\\mu|}{b}\\big)$$\n",
    "Its statistics is given by,\n",
    "$$\\mu = median(X) \\text{ and } b = \\frac{\\sum^N_i|x_i-\\mu|}{N}$$"
   ]
  },
  {
   "cell_type": "code",
   "execution_count": null,
   "metadata": {},
   "outputs": [],
   "source": []
  },
  {
   "cell_type": "markdown",
   "metadata": {},
   "source": [
    "The student distribution is given by,\n",
    "$$\\mathcal{T}(x;\\mu,\\sigma^2,\\nu) \\varpropto \\bigg[1+\\frac{1}{\\nu}\\bigg(\\frac{x-\\mu}{\\sigma}\\bigg)^2\\bigg]^{-\\frac{\\nu+1}{2}}$$\n",
    "There is no closed-form solution for the paramters, so the parameters re-estimations can only be done iteratively via EM algorithm. See more details in https://niasra.uow.edu.au/content/groups/public/@web/@inf/@math/documents/mm/uow236236.pdf"
   ]
  },
  {
   "cell_type": "markdown",
   "metadata": {},
   "source": [
    "The log likelihood function is given by \n",
    "\\begin{align*}\n",
    "\\mathcal{L}(\\mu,\\sigma,x) &= n\\log\\Gamma\\big(\\frac{\\nu+1}{2}\\big)+\\frac{n\\nu}{2}\\log(\\nu) - \\nu\\log\\Gamma\\big(\\frac{\\nu}{2}\\big) \\\\\n",
    "&-\\frac{n}{2}\\log\\sigma-\\frac{\\nu+1}{2}\\sum^n_{i=1}\\log\\big(\\nu+\\frac{(x_i-\\mu)^2}{\\sigma}\\big)\n",
    "\\end{align*}\n",
    "The e-step is given by, D = number of samples (p in the link above),\n",
    "$$w = \\frac{\\nu+D}{\\nu+\\delta}\\text{,where }\\delta = \\sum_i^n \\frac{(x_i-\\mu)^2}{\\sigma}$$\n",
    "Speed-up (I don't understand this part), or\n",
    "$$w = \\frac{\\nu+D}{\\nu+\\delta}\\big(\\frac{1}{\\sigma}\\big)^{-\\frac{1}{\\nu+D}}$$\n",
    "The m-step is given by,\n",
    "$$\\mu = \\frac{\\sum_{i=1}^n w_ix_i}{\\sum^n_{i=1}w_i}$$\n",
    "$$\\sigma = \\frac{1}{n}\\sum^n_{i=1}w_i(x_i-\\mu)^2$$\n",
    "Convergence test is given by,\n",
    "$$2\\frac{|f(t)-f(t-1)|}{|f(t)|-|f(t-1)|}<\\Delta$$\n"
   ]
  },
  {
   "cell_type": "markdown",
   "metadata": {},
   "source": []
  },
  {
   "cell_type": "code",
   "execution_count": null,
   "metadata": {},
   "outputs": [],
   "source": []
  },
  {
   "cell_type": "code",
   "execution_count": null,
   "metadata": {},
   "outputs": [],
   "source": []
  }
 ],
 "metadata": {
  "kernelspec": {
   "display_name": "Python 3",
   "language": "python",
   "name": "python3"
  },
  "language_info": {
   "codemirror_mode": {
    "name": "ipython",
    "version": 3
   },
   "file_extension": ".py",
   "mimetype": "text/x-python",
   "name": "python",
   "nbconvert_exporter": "python",
   "pygments_lexer": "ipython3",
   "version": "3.7.4"
  }
 },
 "nbformat": 4,
 "nbformat_minor": 2
}
