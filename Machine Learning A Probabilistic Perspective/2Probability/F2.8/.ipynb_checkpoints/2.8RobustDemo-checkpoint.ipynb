{
 "cells": [
  {
   "cell_type": "code",
   "execution_count": null,
   "metadata": {},
   "outputs": [],
   "source": []
  },
  {
   "cell_type": "markdown",
   "metadata": {},
   "source": [
    "### Data Fitting with Gaussian, Laplacian and Student Distribution\n",
    "One dimensional data is relatively easy to deal with. \\\n",
    "The Gaussian (Normal) distribution is given by,\n",
    "$$\\mathcal{N}(x;\\mu,\\sigma^2)\\triangleq\\frac{1}{\\sqrt{2\\pi\\sigma^2}}exp\\bigg(-\\frac{1}{2}\\frac{(x-\\mu)^2}{\\sigma^2}\\bigg)$$\n",
    "Its statistics (mean and standard deviation) is given by,\n",
    "$$\\mu = \\frac{\\sum^N_i x_i}{N} \\text{and } \\sigma = \\sqrt{\\frac{\\sum^N_i (x_i-\\mu)^2}{N}}$$"
   ]
  },
  {
   "cell_type": "code",
   "execution_count": null,
   "metadata": {},
   "outputs": [],
   "source": []
  },
  {
   "cell_type": "markdown",
   "metadata": {},
   "source": [
    "The Laplacian distribution is given by,\n",
    "$$Lap(x;\\mu,b)\\triangleq \\frac{1}{2b}exp\\big(-\\frac{|x-\\mu|}{b}\\big)$$\n",
    "Its statistics is given by,\n",
    "$$\\mu = median(X) \\text{ and } b = \\frac{\\sum^N_i|x_i-\\mu|}{N}$$"
   ]
  },
  {
   "cell_type": "code",
   "execution_count": null,
   "metadata": {},
   "outputs": [],
   "source": []
  },
  {
   "cell_type": "markdown",
   "metadata": {},
   "source": [
    "The student distribution is given by,\n",
    "$$\\mathcal{T}(x;\\mu,\\sigma^2,\\nu) \\varpropto \\bigg[1+\\frac{1}{\\nu}\\bigg(\\frac{x-\\mu}{\\sigma}\\bigg)^2\\bigg]^{-\\frac{\\nu+1}{2}}$$"
   ]
  },
  {
   "cell_type": "code",
   "execution_count": null,
   "metadata": {},
   "outputs": [],
   "source": []
  },
  {
   "cell_type": "code",
   "execution_count": null,
   "metadata": {},
   "outputs": [],
   "source": []
  }
 ],
 "metadata": {
  "kernelspec": {
   "display_name": "Python 3",
   "language": "python",
   "name": "python3"
  },
  "language_info": {
   "codemirror_mode": {
    "name": "ipython",
    "version": 3
   },
   "file_extension": ".py",
   "mimetype": "text/x-python",
   "name": "python",
   "nbconvert_exporter": "python",
   "pygments_lexer": "ipython3",
   "version": "3.7.4"
  }
 },
 "nbformat": 4,
 "nbformat_minor": 2
}
