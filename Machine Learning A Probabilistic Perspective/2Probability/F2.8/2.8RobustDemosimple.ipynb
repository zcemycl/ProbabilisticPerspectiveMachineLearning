{
 "cells": [
  {
   "cell_type": "code",
   "execution_count": 1,
   "metadata": {},
   "outputs": [],
   "source": [
    "import numpy as np\n",
    "import matplotlib.pyplot as plt\n",
    "import math\n",
    "from scipy.optimize import fminbound,fmin\n",
    "from scipy.special import loggamma"
   ]
  },
  {
   "cell_type": "code",
   "execution_count": 2,
   "metadata": {},
   "outputs": [
    {
     "name": "stdout",
     "output_type": "stream",
     "text": [
      "(203,)\n"
     ]
    }
   ],
   "source": [
    "s = np.random.normal(0,1,200)\n",
    "sout = [8,8.75,9.5]\n",
    "sall = np.concatenate([s,sout])\n",
    "print(sall.shape)"
   ]
  },
  {
   "cell_type": "code",
   "execution_count": 3,
   "metadata": {},
   "outputs": [],
   "source": [
    "def StudentDist(x,mu,sigma,v):\n",
    "    coef = math.gamma((v+1)/2)/np.sqrt(math.pi*v)/math.gamma(v/2)\n",
    "    y = coef*(1+((x-mu)/sigma)**2/v)**(-(v+1)/2)\n",
    "    return y "
   ]
  },
  {
   "cell_type": "code",
   "execution_count": 4,
   "metadata": {},
   "outputs": [
    {
     "data": {
      "text/plain": [
       "[<matplotlib.lines.Line2D at 0x2ba61991d48>]"
      ]
     },
     "execution_count": 4,
     "metadata": {},
     "output_type": "execute_result"
    },
    {
     "data": {
      "image/png": "[encoded data removed]",
      "text/plain": [
       "<Figure size 432x288 with 1 Axes>"
      ]
     },
     "metadata": {
      "needs_background": "light"
     },
     "output_type": "display_data"
    }
   ],
   "source": [
    "x = np.linspace(-4,4,10000)\n",
    "count, bins, ignored = plt.hist(s, 7, density=True)\n",
    "y = StudentDist(x,-0.0484,0.9017,26.6166)\n",
    "plt.plot(x,y)"
   ]
  },
  {
   "cell_type": "code",
   "execution_count": 5,
   "metadata": {},
   "outputs": [],
   "source": [
    "mu = np.random.normal(0,1,1)\n",
    "sigma = np.random.uniform(0,1,1)\n",
    "v = 1"
   ]
  },
  {
   "cell_type": "code",
   "execution_count": 6,
   "metadata": {},
   "outputs": [
    {
     "name": "stdout",
     "output_type": "stream",
     "text": [
      "[1.05123435]\n",
      "[0.17551653]\n"
     ]
    }
   ],
   "source": [
    "print(mu)\n",
    "print(sigma)"
   ]
  },
  {
   "cell_type": "code",
   "execution_count": 7,
   "metadata": {},
   "outputs": [],
   "source": [
    "def studentLogprob(x,mu,sigma,v):\n",
    "    d = 1\n",
    "    x = x-mu\n",
    "    mahal = x*x/sigma\n",
    "    #print(x*x)\n",
    "    logc=loggamma(v/2+d/2)-loggamma(v/2)-.5*np.log(sigma)-d*np.log(v)/2-d*np.log(math.pi)/2\n",
    "    #print(logc)\n",
    "    logp=logc-(v+d)/2*np.log1p(mahal/v)\n",
    "    #print(-(v+d)/2)\n",
    "    #print(mahal/v)\n",
    "    return logp\n",
    "   "
   ]
  },
  {
   "cell_type": "code",
   "execution_count": 8,
   "metadata": {},
   "outputs": [
    {
     "data": {
      "text/plain": [
       "-452.7033746119701"
      ]
     },
     "execution_count": 8,
     "metadata": {},
     "output_type": "execute_result"
    }
   ],
   "source": [
    "ss = s-mu\n",
    "a = np.log1p(ss*ss/sigma)\n",
    "logc = loggamma((v+1)/2)-loggamma(v/2)-.5*np.log(sigma)-np.log(v)/2-np.log(math.pi)/2\n",
    "sum(logc-(v+1)/2*a)"
   ]
  },
  {
   "cell_type": "code",
   "execution_count": 9,
   "metadata": {},
   "outputs": [
    {
     "data": {
      "text/plain": [
       "-452.7033746119701"
      ]
     },
     "execution_count": 9,
     "metadata": {},
     "output_type": "execute_result"
    }
   ],
   "source": [
    "sum(studentLogprob(s,mu,sigma,v))"
   ]
  },
  {
   "cell_type": "code",
   "execution_count": 10,
   "metadata": {},
   "outputs": [
    {
     "data": {
      "text/plain": [
       "-452.7033746119701"
      ]
     },
     "execution_count": 10,
     "metadata": {},
     "output_type": "execute_result"
    }
   ],
   "source": [
    "sum(studentLogprob(s,mu,sigma,v))"
   ]
  },
  {
   "cell_type": "code",
   "execution_count": 11,
   "metadata": {},
   "outputs": [],
   "source": [
    "def estep(x,mu,sigma,v):\n",
    "    loglik = sum(studentLogprob(x,mu,sigma,v))\n",
    "    N = len(x)\n",
    "    D = 1\n",
    "    xc = x-mu\n",
    "    delta = xc*xc/sigma\n",
    "    w = (v+D)/(v+delta)\n",
    "    xw = x*w\n",
    "    Sw = sum(w)\n",
    "    Sx = sum(xw)\n",
    "    Sxx = sum(xw*x)\n",
    "\n",
    "    return Sw,Sx,Sxx,N,loglik\n",
    "\n",
    "def mstep(Sw,Sx,Sxx,N,x):\n",
    "    mu = Sx/Sw\n",
    "    sigma = (Sxx-Sx*Sx/Sw)/N\n",
    "    fn = lambda v: -sum(studentLogprob(x,mu,sigma,v))\n",
    "    v = fminbound(fn,0.1,1000)\n",
    "    return mu,sigma,v"
   ]
  },
  {
   "cell_type": "code",
   "execution_count": 12,
   "metadata": {},
   "outputs": [],
   "source": [
    "def convergenceTest(fval,fval0,thres):\n",
    "    converged = False\n",
    "    delta_fval = np.abs(fval-fval0)\n",
    "    avg_fval = (np.abs(fval)+np.abs(fval0))/2\n",
    "    if delta_fval/avg_fval < thres:\n",
    "        converged = True\n",
    "    return converged"
   ]
  },
  {
   "cell_type": "code",
   "execution_count": 13,
   "metadata": {
    "scrolled": true
   },
   "outputs": [],
   "source": [
    "maxIter = 50; convTol = 1e-4; Iter = 1;\n",
    "done = False; loglikHist = []\n",
    "while not done:\n",
    "    Sw,Sx,Sxx,N,loglik = estep(s,mu,sigma,v)\n",
    "    loglikHist.append(loglik)\n",
    "    mu,sigma,v = mstep(Sw,Sx,Sxx,N,s)\n",
    "    if Iter > maxIter:\n",
    "        done = True\n",
    "    elif Iter > 1:\n",
    "        if convergenceTest(loglikHist[Iter-1],loglikHist[Iter-2],convTol):\n",
    "            done = True\n",
    "    Iter += 1"
   ]
  },
  {
   "cell_type": "code",
   "execution_count": 14,
   "metadata": {},
   "outputs": [
    {
     "data": {
      "text/plain": [
       "[<matplotlib.lines.Line2D at 0x2ba61a3be08>]"
      ]
     },
     "execution_count": 14,
     "metadata": {},
     "output_type": "execute_result"
    },
    {
     "data": {
      "image/png": "[encoded data removed]",
      "text/plain": [
       "<Figure size 432x288 with 1 Axes>"
      ]
     },
     "metadata": {
      "needs_background": "light"
     },
     "output_type": "display_data"
    }
   ],
   "source": [
    "count, bins, ignored = plt.hist(s, 7, density=True)\n",
    "y = StudentDist(x,mu,sigma,v)\n",
    "plt.plot(x,y)"
   ]
  },
  {
   "cell_type": "code",
   "execution_count": null,
   "metadata": {},
   "outputs": [],
   "source": []
  }
 ],
 "metadata": {
  "kernelspec": {
   "display_name": "Python 3",
   "language": "python",
   "name": "python3"
  },
  "language_info": {
   "codemirror_mode": {
    "name": "ipython",
    "version": 3
   },
   "file_extension": ".py",
   "mimetype": "text/x-python",
   "name": "python",
   "nbconvert_exporter": "python",
   "pygments_lexer": "ipython3",
   "version": "3.7.4"
  }
 },
 "nbformat": 4,
 "nbformat_minor": 2
}
