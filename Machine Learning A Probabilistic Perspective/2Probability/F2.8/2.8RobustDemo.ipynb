{
 "cells": [
  {
   "cell_type": "code",
   "execution_count": 1,
   "metadata": {},
   "outputs": [],
   "source": [
    "import numpy as np\n",
    "import matplotlib.pyplot as plt\n",
    "import math\n",
    "from scipy.optimize import fminbound\n",
    "from scipy.special import gammaln"
   ]
  },
  {
   "cell_type": "markdown",
   "metadata": {},
   "source": [
    "### Data generation"
   ]
  },
  {
   "cell_type": "code",
   "execution_count": 2,
   "metadata": {},
   "outputs": [
    {
     "name": "stdout",
     "output_type": "stream",
     "text": [
      "(203,)\n"
     ]
    }
   ],
   "source": [
    "s = np.random.normal(0,1,200)\n",
    "sout = [8,8.75,9.5]\n",
    "sall = np.concatenate([s,sout])\n",
    "print(sall.shape)"
   ]
  },
  {
   "cell_type": "markdown",
   "metadata": {},
   "source": [
    "### Data Fitting with Gaussian, Laplacian and Student Distribution\n",
    "One dimensional data is relatively easy to deal with. \\\n",
    "The Gaussian (Normal) distribution is given by,\n",
    "$$\\mathcal{N}(x;\\mu,\\sigma^2)\\triangleq\\frac{1}{\\sqrt{2\\pi\\sigma^2}}exp\\bigg(-\\frac{1}{2}\\frac{(x-\\mu)^2}{\\sigma^2}\\bigg)$$\n",
    "Its statistics (mean and standard deviation) is given by,\n",
    "$$\\mu = \\frac{\\sum^N_i x_i}{N} \\text{and } \\sigma = \\sqrt{\\frac{\\sum^N_i (x_i-\\mu)^2}{N}}$$"
   ]
  },
  {
   "cell_type": "code",
   "execution_count": 3,
   "metadata": {},
   "outputs": [],
   "source": [
    "def GaussDis(x,mu,var):\n",
    "    y = np.exp(-(x-mu)**2/var)/np.sqrt(2*np.pi*var)\n",
    "    return y"
   ]
  },
  {
   "cell_type": "markdown",
   "metadata": {},
   "source": [
    "The Laplacian distribution is given by,\n",
    "$$Lap(x;\\mu,b)\\triangleq \\frac{1}{2b}exp\\big(-\\frac{|x-\\mu|}{b}\\big)$$\n",
    "Its statistics is given by,\n",
    "$$\\mu = median(X) \\text{ and } b = \\frac{\\sum^N_i|x_i-\\mu|}{N}$$"
   ]
  },
  {
   "cell_type": "code",
   "execution_count": 4,
   "metadata": {},
   "outputs": [],
   "source": [
    "def LaplaceDist(x,mu,b):\n",
    "    y = np.exp(-np.abs(x-mu)/b)/2/b\n",
    "    return y "
   ]
  },
  {
   "cell_type": "markdown",
   "metadata": {},
   "source": [
    "The student distribution is given by,\n",
    "$$\\mathcal{T}(x;\\mu,\\sigma^2,\\nu) = \\frac{\\Gamma(\\frac{\\nu+D}{2})}{\\sigma(\\pi\\nu)^{\\frac{D}{2}}\\Gamma(\\frac{\\nu}{2})} \\bigg[1+\\frac{1}{\\nu}\\bigg(\\frac{x-\\mu}{\\sigma}\\bigg)^2\\bigg]^{-\\frac{\\nu+1}{2}}$$\n",
    "There is no closed-form solution for the paramters, so the parameters re-estimations can only be done iteratively via EM algorithm. See more details in https://niasra.uow.edu.au/content/groups/public/@web/@inf/@math/documents/mm/uow236236.pdf"
   ]
  },
  {
   "cell_type": "code",
   "execution_count": 5,
   "metadata": {},
   "outputs": [],
   "source": [
    "def StudentDist(x,mu,sigma,v):\n",
    "    coef = math.gamma((v+1)/2)/np.sqrt(math.pi*v)/math.gamma(v/2)\n",
    "    y = coef*(1+((x-mu)/sigma)**2/v)**(-(v+1)/2)\n",
    "    return y "
   ]
  },
  {
   "cell_type": "markdown",
   "metadata": {},
   "source": [
    "The log likelihood function is given by \n",
    "\\begin{align*}\n",
    "\\mathcal{L}(\\mu,\\sigma,x) &= n\\log\\Gamma\\big(\\frac{\\nu+1}{2}\\big)+\\frac{n\\nu}{2}\\log(\\nu) - \\nu\\log\\Gamma\\big(\\frac{\\nu}{2}\\big) \\\\\n",
    "&-\\frac{n}{2}\\log\\sigma-\\frac{\\nu+1}{2}\\sum^n_{i=1}\\log\\big(\\nu+\\frac{(x_i-\\mu)^2}{\\sigma}\\big)\n",
    "\\end{align*}\n",
    "The e-step is given by, D = number of samples (p in the link above),\n",
    "$$w = \\frac{\\nu+D}{\\nu+\\delta}\\text{,where }\\delta = \\sum_i^n \\frac{(x_i-\\mu)^2}{\\sigma}$$\n",
    "Speed-up (I don't understand this part), or\n",
    "$$w = \\frac{\\nu+D}{\\nu+\\delta}\\big(\\frac{1}{\\sigma}\\big)^{-\\frac{1}{\\nu+D}}$$\n",
    "The m-step is given by,\n",
    "$$\\mu = \\frac{\\sum_{i=1}^n w_ix_i}{\\sum^n_{i=1}w_i}$$\n",
    "$$\\sigma = \\frac{1}{n}\\sum^n_{i=1}w_i(x_i-\\mu)^2$$\n",
    "Convergence test is given by,\n",
    "$$2\\frac{|f(t)-f(t-1)|}{|f(t)|-|f(t-1)|}<\\Delta$$\n"
   ]
  },
  {
   "cell_type": "code",
   "execution_count": 9,
   "metadata": {},
   "outputs": [],
   "source": [
    "class StudentFit:\n",
    "    def __init__(self,data,x):\n",
    "        self.data=data\n",
    "        self.x=x\n",
    "        self.mu=np.random.normal(0,1,1)\n",
    "        self.sigma=np.random.uniform(0,1,1)\n",
    "        self.dof=1\n",
    "    def convergenceTest(self,fval,fval0,thres):\n",
    "        converged = False\n",
    "        eps = np.finfo(float).eps\n",
    "        delta_fval = np.abs(fval-fval0)\n",
    "        avg_fval = (np.abs(fval)+np.abs(fval0)+eps)/2\n",
    "        if delta_fval/avg_fval < thres:\n",
    "            converged = True\n",
    "        return converged\n",
    "    def studentLogprob(self,v):\n",
    "        xc = self.data-self.mu\n",
    "        d = len(self.data)\n",
    "        mahal = sum(xc*xc/self.sigma)\n",
    "        logc=gammaln((v+d)/2)-gammaln(v/2)-.5*np.log(self.sigma)-d*np.log(v)/2-d*np.log(math.pi)/2\n",
    "        logp=logc-(v+d)/2*np.log1p(mahal/v)\n",
    "        logp=-np.sum(logp)\n",
    "        return logp\n",
    "    def estimatedofbynll(self):\n",
    "        v = fminbound(self.studentLogprob,0.1,1000)\n",
    "        print(v)\n",
    "        return v\n",
    "    def estep(self):\n",
    "        loglik = np.sum(self.studentLogprob(self.dof))\n",
    "        N = len(self.data)\n",
    "        xc = self.data-self.mu\n",
    "        delta = np.sum(xc*xc/self.sigma)\n",
    "        w = (self.dof+1)/(self.dof+delta)\n",
    "        xw = self.data*w\n",
    "        Sw = np.sum(w)\n",
    "        Sx = np.sum(xw)\n",
    "        Sxx= np.sum(xw*self.data)\n",
    "        return Sw,Sx,Sxx,loglik\n",
    "    def mstep(self,Sw,Sx,Sxx):\n",
    "        self.mu =  Sx/Sw\n",
    "        print(self.mu)\n",
    "        self.sigma = (Sxx-Sx*Sx)/Sw/len(self.data)\n",
    "        print(self.sigma)\n",
    "        self.dof = self.estimatedofbynll()\n",
    "    def emAlgo(self):\n",
    "        maxIter = 50\n",
    "        convTol = 1e-4\n",
    "        Iter = 1\n",
    "        done = False\n",
    "        loglikHist = []\n",
    "        \n",
    "        while not done:\n",
    "            Sw,Sx,Sxx,ll = self.estep()\n",
    "            loglikHist.append(ll)\n",
    "            self.mstep(Sw,Sx,Sxx)\n",
    "            if Iter > maxIter:\n",
    "                done = true\n",
    "            elif Iter > 1:\n",
    "                done = self.convergenceTest(loglikHist[Iter-1],loglikHist[Iter-2],convTol)\n",
    "            Iter += 1   \n",
    "            print(Iter)\n",
    "            print(loglikHist)\n",
    "    def StudentDist(self):\n",
    "        self.emAlgo()\n",
    "        x = self.x\n",
    "        mu = self.mu\n",
    "        sigma = self.sigma\n",
    "        v = self.dof\n",
    "        coef = math.gamma((v+1)/2)/np.sqrt(math.pi*v)/math.gamma(v/2)\n",
    "        y = coef*(1+((x-mu)/sigma)**2/v)**(-(v+1)/2)\n",
    "        return y \n",
    "            \n",
    "        "
   ]
  },
  {
   "cell_type": "markdown",
   "metadata": {},
   "source": [
    "### Summary Plot"
   ]
  },
  {
   "cell_type": "markdown",
   "metadata": {},
   "source": [
    "#### Without outlier"
   ]
  },
  {
   "cell_type": "code",
   "execution_count": 10,
   "metadata": {
    "scrolled": true
   },
   "outputs": [
    {
     "name": "stdout",
     "output_type": "stream",
     "text": [
      "10.347562302840478\n",
      "1.045023100030919\n",
      "0.4035668968169702\n",
      "2\n",
      "[471.50080138698456]\n",
      "10.347562302840478\n",
      "1.0458257926197156\n",
      "0.4036398131979277\n",
      "3\n",
      "[471.50080138698456, 750.8901359098675]\n",
      "10.347562302840469\n",
      "1.0458257625417466\n",
      "0.40363981056975795\n",
      "4\n",
      "[471.50080138698456, 750.8901359098675, 750.8135848812672]\n",
      "10.347562302840473\n",
      "1.0458257625428709\n",
      "0.4036398105705369\n",
      "5\n",
      "[471.50080138698456, 750.8901359098675, 750.8135848812672, 750.8135877486365]\n"
     ]
    },
    {
     "data": {
      "text/plain": [
       "[<matplotlib.lines.Line2D at 0x22e09601f48>]"
      ]
     },
     "execution_count": 10,
     "metadata": {},
     "output_type": "execute_result"
    },
    {
     "data": {
      "image/png": "[encoded data removed]",
      "text/plain": [
       "<Figure size 432x288 with 1 Axes>"
      ]
     },
     "metadata": {
      "needs_background": "light"
     },
     "output_type": "display_data"
    }
   ],
   "source": [
    "x = np.linspace(-4,4,10000)\n",
    "mug = np.mean(s)\n",
    "varg = np.var(s)\n",
    "yg = GaussDis(x,mug,varg)\n",
    "mul = np.median(s)\n",
    "bl = sum(np.abs(s-mul))/len(s)\n",
    "yl = LaplaceDist(x,mul,bl)\n",
    "sf = StudentFit(s,x)\n",
    "ys = sf.StudentDist()\n",
    "\n",
    "# plot\n",
    "count, bins, ignored = plt.hist(s, 7, density=True)\n",
    "plt.plot(x,yg)\n",
    "plt.plot(x,yl)\n",
    "plt.plot(x,ys)"
   ]
  },
  {
   "cell_type": "markdown",
   "metadata": {},
   "source": [
    "#### With outlier"
   ]
  },
  {
   "cell_type": "code",
   "execution_count": 8,
   "metadata": {
    "scrolled": true
   },
   "outputs": [
    {
     "data": {
      "text/plain": [
       "[<matplotlib.lines.Line2D at 0x22e0954cdc8>]"
      ]
     },
     "execution_count": 8,
     "metadata": {},
     "output_type": "execute_result"
    },
    {
     "data": {
      "image/png": "[encoded data removed]",
      "text/plain": [
       "<Figure size 432x288 with 1 Axes>"
      ]
     },
     "metadata": {
      "needs_background": "light"
     },
     "output_type": "display_data"
    }
   ],
   "source": [
    "mug = np.mean(sall)\n",
    "varg = np.var(sall)\n",
    "yg = GaussDis(x,mug,varg)\n",
    "mul = np.median(sall)\n",
    "bl = sum(np.abs(sall-mul))/len(s)\n",
    "yl = LaplaceDist(x,mul,bl)\n",
    "sfall = StudentFit(sall,x)\n",
    "ysall = sf.StudentDist()\n",
    "\n",
    "# plot\n",
    "count, bins, ignored = plt.hist(sall, 12, density=True)\n",
    "plt.plot(x,yg)\n",
    "plt.plot(x,yl)\n",
    "plt.plot(x,ysall)"
   ]
  },
  {
   "cell_type": "code",
   "execution_count": null,
   "metadata": {},
   "outputs": [],
   "source": []
  }
 ],
 "metadata": {
  "kernelspec": {
   "display_name": "Python 3",
   "language": "python",
   "name": "python3"
  },
  "language_info": {
   "codemirror_mode": {
    "name": "ipython",
    "version": 3
   },
   "file_extension": ".py",
   "mimetype": "text/x-python",
   "name": "python",
   "nbconvert_exporter": "python",
   "pygments_lexer": "ipython3",
   "version": "3.7.4"
  }
 },
 "nbformat": 4,
 "nbformat_minor": 2
}
