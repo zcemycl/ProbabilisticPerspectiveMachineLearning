{
 "cells": [
  {
   "cell_type": "code",
   "execution_count": 1,
   "metadata": {},
   "outputs": [],
   "source": [
    "import scipy.io as sio\n",
    "import numpy as np\n",
    "import math\n",
    "import matplotlib.pyplot as plt\n",
    "from scipy.sparse import csc_matrix\n",
    "data = sio.loadmat('heightWeight.mat')\n",
    "hwdata = data['heightWeightData']\n",
    "x = hwdata[:,1:]"
   ]
  },
  {
   "cell_type": "code",
   "execution_count": 2,
   "metadata": {},
   "outputs": [],
   "source": [
    "class mixGaussDemoFaithful:\n",
    "    def __init__(self,x,K,maxIter):\n",
    "        self.x = x\n",
    "        self.K = K\n",
    "        self.maxIter = maxIter\n",
    "        self.mu = np.array([[-1.5,1.5],[1.5,-1.5]])+np.random.normal(0,1,(2,2))\n",
    "        self.Sigma = np.tile(.1*np.eye(2),(1,1,K))\n",
    "        self.mixWeight = np.ones(K)/K\n",
    "        T = np.ones((x.shape[0],K))\n",
    "        Z = np.sum(T,axis=T.ndim-1)\n",
    "        self.T = T/np.tile(Z,(2,1)).T\n",
    "        self.Z = Z\n",
    "        self.N, self.D = x.shape\n",
    "        self.convTol = 1e-4\n",
    "        self.mixPrior = np.array([2,2])\n",
    "    def mixPriorFn(self,mixWeight,mixPrior):\n",
    "        mix = np.sum(np.log(mixWeight)*(mixPrior-1))\n",
    "        return mix\n",
    "    def convergenceTest(self,fval,fval0,thres):\n",
    "        converged = False\n",
    "        delta_fval = np.abs(fval-fval0)\n",
    "        avg_fval = (np.abs(fval)+np.abs(fval0))/2\n",
    "        if delta_fval/avg_fval < thres:\n",
    "            converged = True\n",
    "        return converged\n",
    "    def standardizeCols(self):\n",
    "        mu = np.mean(self.x,axis=0)\n",
    "        x = self.x-mu\n",
    "        s = np.std(x,axis=0)\n",
    "        x = x/s\n",
    "        return x,mu,s\n",
    "    def gaussLogprob(self,mu,Sigma,x):\n",
    "        N,d = x.shape\n",
    "        x -= mu\n",
    "        R = np.linalg.cholesky(Sigma)\n",
    "        logp=-.5*np.sum((x*np.linalg.inv(R))**2,axis=1)\n",
    "        logZ=.5*d*np.log(2*math.pi)+np.sum(np.log(np.diag(R)))\n",
    "        logp-=logZ\n",
    "        return logp\n",
    "    def logsumexp(self,x,dim):\n",
    "        y = np.amax(x,axis=dim)\n",
    "        dims = np.ones((1,np.dims(x)))\n",
    "        dims[dim] = x.shape[dim]\n",
    "        x -= np.tite(y,dims)\n",
    "        ll = y+np.log(np.sum(np.exp(x),dim))\n",
    "        return ll\n",
    "    def normalizeLogspace(self,logPz):\n",
    "        ll = self.logsumexp(self.x,1)\n",
    "        logPz -= ll\n",
    "        return logPz,ll\n",
    "    def mixGaussInferLatent(self):\n",
    "        nmix = self.K; n,d = self.x.shape\n",
    "        logMix = np.log(self.mixWeight)\n",
    "        logPz = np.zeros((n,nmix))\n",
    "        mu = self.cpdmu; Sigma = self.cpdSigma;\n",
    "        for k in range(nmix):\n",
    "            logPz[:,k]=logMix[k]+self.gaussLogprob(mu[:,k],Sigma[:,:,k],self.x)\n",
    "        logPz, ll = self.normalizeLogspace(logPz)\n",
    "        weights = np.exp(logPz)\n",
    "        return weights,ll\n",
    "    def estep(self):\n",
    "        return xbar,XX,wsum,loglik\n",
    "    def mstep(self):\n",
    "        return mu,Sigma"
   ]
  },
  {
   "cell_type": "code",
   "execution_count": 13,
   "metadata": {},
   "outputs": [],
   "source": [
    "class condGaussCpd:\n",
    "    def __init__(self,mu,Sigma):\n",
    "        self.mu = mu\n",
    "        self.Sigma = Sigma\n",
    "        d = len(Sigma)\n",
    "        self.d = d\n",
    "        self.priormu = np.zeros((1,d))\n",
    "        self.priorSigma = .1*np.eye(d)\n",
    "        self.priork = .01\n",
    "        self.priordof = d+1\n",
    "        self.cpdmu = np.random.normal(0,1,(2,2))\n",
    "        self.cpdSigma = np.dstack((self.priorSigma,self.priorSigma))\n",
    "    def gaussInvWishartLogprob(self,mu,Sigma):\n",
    "        \n",
    "        return logp\n",
    "    def logPrior(self):\n",
    "        logp = 0; \n",
    "        for i in range(self.d):\n",
    "            logp += self.gaussInvWishartLogprob(self.cpdmu[:,i],self.cpdSigma[:,:,i])\n",
    "        return logp\n",
    "    def condGaussCpdComputeEss(self,data,weights):\n",
    "        \n",
    "        return xbar, XX, wsum\n",
    "    def condGaussCpdFitEss(self, xbar, XX, wsum):\n",
    "        return mu,Sigma"
   ]
  },
  {
   "cell_type": "code",
   "execution_count": null,
   "metadata": {},
   "outputs": [],
   "source": []
  },
  {
   "cell_type": "code",
   "execution_count": null,
   "metadata": {},
   "outputs": [],
   "source": []
  },
  {
   "cell_type": "code",
   "execution_count": 14,
   "metadata": {},
   "outputs": [],
   "source": [
    "a = np.dstack((np.eye(2),np.eye(2)))"
   ]
  },
  {
   "cell_type": "code",
   "execution_count": 15,
   "metadata": {},
   "outputs": [],
   "source": [
    "demo = mixGaussDemoFaithful(x,2,5)\n",
    "x,mu,s = demo.standardizeCols()\n",
    "demo = mixGaussDemoFaithful(x,2,5)\n",
    "cpd = condGaussCpd(mu,s)\n",
    "Iter=1; done=False;loglikHist = []\n",
    "\n",
    "while \n",
    "\n",
    "    "
   ]
  },
  {
   "cell_type": "code",
   "execution_count": null,
   "metadata": {},
   "outputs": [],
   "source": []
  }
 ],
 "metadata": {
  "kernelspec": {
   "display_name": "Python 3",
   "language": "python",
   "name": "python3"
  },
  "language_info": {
   "codemirror_mode": {
    "name": "ipython",
    "version": 3
   },
   "file_extension": ".py",
   "mimetype": "text/x-python",
   "name": "python",
   "nbconvert_exporter": "python",
   "pygments_lexer": "ipython3",
   "version": "3.7.4"
  }
 },
 "nbformat": 4,
 "nbformat_minor": 2
}
